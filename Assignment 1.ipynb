{
 "cells": [
  {
   "cell_type": "markdown",
   "id": "102afd22-f3d7-431a-a70c-361221b8f061",
   "metadata": {},
   "source": [
    "## PYTHON BASIC VARIABLES"
   ]
  },
  {
   "cell_type": "markdown",
   "id": "ccb37b1c-aadb-417f-a2d9-faff02380466",
   "metadata": {},
   "source": [
    "#### QUESTION 1"
   ]
  },
  {
   "cell_type": "code",
   "execution_count": 5,
   "id": "2d632c78-f783-444a-b257-d434582d42f9",
   "metadata": {},
   "outputs": [],
   "source": [
    "# Declare the variables\n",
    "x = 5\n",
    "y = 10"
   ]
  },
  {
   "cell_type": "code",
   "execution_count": 6,
   "id": "c6dfe457-f42c-4989-8427-d538c3779f70",
   "metadata": {},
   "outputs": [
    {
     "name": "stdout",
     "output_type": "stream",
     "text": [
      "After swapping : x = 10 , y = 5\n"
     ]
    }
   ],
   "source": [
    "# Swap the variables\n",
    "x = x+y\n",
    "y = x-y \n",
    "x = x-y\n",
    "# Print the swapped values\n",
    "print(\"After swapping : x =\", x, \", y =\",y)"
   ]
  },
  {
   "cell_type": "markdown",
   "id": "5b2615ea-ef19-4fa4-9f4e-3210e5f9825c",
   "metadata": {},
   "source": [
    "#### QUESTION 2"
   ]
  },
  {
   "cell_type": "code",
   "execution_count": 7,
   "id": "f8e6c9f1-65d2-4de5-906c-ef8acd269b14",
   "metadata": {},
   "outputs": [
    {
     "name": "stdout",
     "output_type": "stream",
     "text": [
      "575\n"
     ]
    }
   ],
   "source": [
    "# Input for length and breadth of rectangle\n",
    "length = 25\n",
    "breadth = 23\n",
    "# Area of rectangle\n",
    "area = length*breadth\n",
    "print(area)"
   ]
  },
  {
   "cell_type": "markdown",
   "id": "47b37d79-ebe7-43d6-ab99-97320906b197",
   "metadata": {},
   "source": [
    "#### QUESTION 3"
   ]
  },
  {
   "cell_type": "code",
   "execution_count": 8,
   "id": "5c0af0fc-821a-46c8-9ed0-7843ca8abdbb",
   "metadata": {},
   "outputs": [
    {
     "name": "stdin",
     "output_type": "stream",
     "text": [
      "Enter temperature in Celsius: 34\n"
     ]
    },
    {
     "name": "stdout",
     "output_type": "stream",
     "text": [
      "34.0degree Celsius is equal to 93.2degrees Fahrenheit.\n"
     ]
    }
   ],
   "source": [
    "# Get temperature in celsius\n",
    "celsius = float(input(\"Enter temperature in Celsius:\"))\n",
    "# Convert Celsius to Fahrenheit\n",
    "fahrenheit = (celsius*9/5) + 32\n",
    "# Display the result\n",
    "print(f\"{celsius}degree Celsius is equal to {fahrenheit}degrees Fahrenheit.\")\n"
   ]
  },
  {
   "cell_type": "markdown",
   "id": "ba4e1786-3c46-4004-ae91-a9cdd4671b26",
   "metadata": {},
   "source": [
    "## STRING BASED QUESTIONS "
   ]
  },
  {
   "cell_type": "markdown",
   "id": "0af40fcc-e728-4dc0-8e97-e8121aeadfb4",
   "metadata": {},
   "source": [
    "#### QUESTION 1"
   ]
  },
  {
   "cell_type": "code",
   "execution_count": 9,
   "id": "cbd84cc0-7428-4d3f-83d2-cf1dc0d66b0d",
   "metadata": {},
   "outputs": [
    {
     "data": {
      "text/plain": [
       "7"
      ]
     },
     "execution_count": 9,
     "metadata": {},
     "output_type": "execute_result"
    }
   ],
   "source": [
    "# Find the length of the string\n",
    "string = \"jasmine\"\n",
    "length_of_string  = len(string)\n",
    "length_of_string"
   ]
  },
  {
   "cell_type": "markdown",
   "id": "61241bb9-f149-4ad5-81e4-6955ac479ed5",
   "metadata": {},
   "source": [
    "#### QUESTION 2"
   ]
  },
  {
   "cell_type": "code",
   "execution_count": 11,
   "id": "710dece2-ce7d-4ad6-9cc4-72802bb53a5e",
   "metadata": {},
   "outputs": [
    {
     "name": "stdout",
     "output_type": "stream",
     "text": [
      "number of vowels are :\n",
      "7\n"
     ]
    }
   ],
   "source": [
    "# Count the number of vowels in a string\n",
    "string = (\"I am pursuing Masters\")\n",
    "vowels = 0\n",
    "for i in string:\n",
    "    if (i == \"a\" or i == \"e\" or i ==\"i\" or i == \"o\" or i == \"u\" or i ==\"A\" or i == \"E\" or i == \"I\" or i == \"O\" or i == \"U\"):\n",
    "       vowels = vowels+1\n",
    "print(\"number of vowels are :\")    \n",
    "print(vowels)"
   ]
  },
  {
   "cell_type": "markdown",
   "id": "587a47a5-107f-4c6b-b110-8197ccb80737",
   "metadata": {},
   "source": [
    "#### QUESTION 3"
   ]
  },
  {
   "cell_type": "code",
   "execution_count": 12,
   "id": "3572298b-f746-44d4-a419-ace65a959b1e",
   "metadata": {},
   "outputs": [
    {
     "data": {
      "text/plain": [
       "'enimsaj'"
      ]
     },
     "execution_count": 12,
     "metadata": {},
     "output_type": "execute_result"
    }
   ],
   "source": [
    "# Reverse the string\n",
    "string = \"jasmine\"\n",
    "reversed_string = string[::-1]\n",
    "reversed_string"
   ]
  },
  {
   "cell_type": "markdown",
   "id": "04d6480a-b92f-4824-bb4b-73dffc704c96",
   "metadata": {},
   "source": [
    "#### QUESTION 4"
   ]
  },
  {
   "cell_type": "code",
   "execution_count": 13,
   "id": "549e762c-abd8-46bd-aed8-e24ad3bf7c0c",
   "metadata": {},
   "outputs": [
    {
     "name": "stdin",
     "output_type": "stream",
     "text": [
      "Enter the letter  malayalam\n"
     ]
    },
    {
     "name": "stdout",
     "output_type": "stream",
     "text": [
      "The letter is palindrome\n"
     ]
    }
   ],
   "source": [
    "# Check if a string is a palindrome or not\n",
    "string = input(\"Enter the letter \")\n",
    "if (string == string[::-1]):\n",
    "    print(\"The letter is palindrome\")\n",
    "else:\n",
    "    print(\"The letter is not palindrome\")\n",
    "    "
   ]
  },
  {
   "cell_type": "markdown",
   "id": "986b0758-9c94-40c6-93e7-6ebca236d72f",
   "metadata": {},
   "source": [
    "#### QUESTION 5"
   ]
  },
  {
   "cell_type": "code",
   "execution_count": 14,
   "id": "941b1f00-b94f-481f-afc1-e8caf8368084",
   "metadata": {},
   "outputs": [
    {
     "name": "stdout",
     "output_type": "stream",
     "text": [
      "jasmine\n"
     ]
    }
   ],
   "source": [
    "# Remove the whitespaces in a string\n",
    "def remove(string):\n",
    "    return string.replace(\" \" , \"\")\n",
    "string = \"j a s m i n e\"\n",
    "print(remove(string))"
   ]
  },
  {
   "cell_type": "code",
   "execution_count": null,
   "id": "e738eaf5-3724-463e-bd4b-a4ff57f46ca6",
   "metadata": {},
   "outputs": [],
   "source": []
  }
 ],
 "metadata": {
  "kernelspec": {
   "display_name": "Python 3 (ipykernel)",
   "language": "python",
   "name": "python3"
  },
  "language_info": {
   "codemirror_mode": {
    "name": "ipython",
    "version": 3
   },
   "file_extension": ".py",
   "mimetype": "text/x-python",
   "name": "python",
   "nbconvert_exporter": "python",
   "pygments_lexer": "ipython3",
   "version": "3.11.4"
  }
 },
 "nbformat": 4,
 "nbformat_minor": 5
}
