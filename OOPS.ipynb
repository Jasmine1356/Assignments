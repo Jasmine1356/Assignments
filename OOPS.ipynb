{
 "cells": [
  {
   "cell_type": "markdown",
   "id": "3859e7ba-5e6b-438d-8de7-3943ce4bc704",
   "metadata": {},
   "source": [
    "# OOPS"
   ]
  },
  {
   "cell_type": "markdown",
   "id": "8fdf39dc-f6d8-4609-85bb-a9c63660300d",
   "metadata": {},
   "source": [
    "#### PROBLEM 1.  Create a class representing a bank account with attributes like account number, account holder name, and balance. Implement methods to deposit and withdraw money from the account."
   ]
  },
  {
   "cell_type": "code",
   "execution_count": 27,
   "id": "aa0b4fbd-9e50-414d-a9f0-5ee2bec1112d",
   "metadata": {},
   "outputs": [
    {
     "name": "stdout",
     "output_type": "stream",
     "text": [
      "Account balance: 1000.0\n",
      "Deposited 500. New balance is 1500.0.\n",
      "Withdrew 200. New balance is 1300.0.\n",
      "Account balance: 1300.0\n"
     ]
    }
   ],
   "source": [
    "class BankAccount:\n",
    "    def __init__(self, account_number, account_holder_name, balance=0.0):\n",
    "        self.account_number = account_number\n",
    "        self.account_holder_name = account_holder_name\n",
    "        self.balance = balance\n",
    "\n",
    "    def deposit(self, amount):\n",
    "        if amount > 0:\n",
    "            self.balance += amount\n",
    "            print(f\"Deposited {amount}. New balance is {self.balance}.\")\n",
    "        else:\n",
    "            print(\"Deposit amount must be positive.\")\n",
    "\n",
    "    def withdraw(self, amount):\n",
    "        if 0 < amount <= self.balance:\n",
    "            self.balance -= amount\n",
    "            print(f\"Withdrew {amount}. New balance is {self.balance}.\")\n",
    "        else:\n",
    "            print(\"Invalid withdrawal amount or insufficient funds.\")\n",
    "\n",
    "    def get_balance(self):\n",
    "        return self.balance\n",
    "\n",
    "# Example usage\n",
    "account = BankAccount(\"123456789\", \"John Doe\", 1000.0)\n",
    "print(f\"Account balance: {account.get_balance()}\")\n",
    "account.deposit(500)\n",
    "account.withdraw(200)\n",
    "print(f\"Account balance: {account.get_balance()}\")\n"
   ]
  },
  {
   "cell_type": "markdown",
   "id": "54255470-774f-463a-aa22-37d09f2588bf",
   "metadata": {},
   "source": [
    "#### PROBLEM 2 Create a class representing an employee with attributes like employee ID, name, and salary. Implement methods to calculate the yearly bonus and display employee details."
   ]
  },
  {
   "cell_type": "code",
   "execution_count": 29,
   "id": "0571ce97-6b2d-49cc-bc84-b16fbc49b282",
   "metadata": {},
   "outputs": [
    {
     "name": "stdout",
     "output_type": "stream",
     "text": [
      "Employee ID: E123\n",
      "Name: Jasmine\n",
      "Salary: 60000\n",
      "Yearly Bonus: 6000.0\n"
     ]
    }
   ],
   "source": [
    "class Employee:\n",
    "    def __init__(self, employee_id, name, salary):\n",
    "        self.employee_id = employee_id\n",
    "        self.name = name\n",
    "        self.salary = salary\n",
    "\n",
    "    def calculate_yearly_bonus(self, bonus_percentage):\n",
    "        return self.salary * (bonus_percentage / 100)\n",
    "\n",
    "    def display_employee_details(self):\n",
    "        print(f\"Employee ID: {self.employee_id}\")\n",
    "        print(f\"Name: {self.name}\")\n",
    "        print(f\"Salary: {self.salary}\")\n",
    "\n",
    "# Example usage\n",
    "employee = Employee(\"E123\", \"Jasmine\", 60000)\n",
    "employee.display_employee_details()\n",
    "bonus = employee.calculate_yearly_bonus(10)\n",
    "print(f\"Yearly Bonus: {bonus}\")\n"
   ]
  },
  {
   "cell_type": "markdown",
   "id": "a7cb19d2-71d9-4764-8e7f-f6d72d075518",
   "metadata": {},
   "source": [
    "#### PROBLEM 3. Create a class representing a vehicle rental system. Implement methods to rent a vehicle, return a vehicle, and display available vehicles."
   ]
  },
  {
   "cell_type": "code",
   "execution_count": 30,
   "id": "4176dab5-5f7d-4be1-b19d-6efff564796f",
   "metadata": {},
   "outputs": [
    {
     "name": "stdout",
     "output_type": "stream",
     "text": [
      "Available vehicles:\n",
      "ID: V001, Type: Car\n",
      "ID: V002, Type: Bike\n",
      "ID: V003, Type: Truck\n",
      "Vehicle V001 has been rented.\n",
      "Available vehicles:\n",
      "ID: V002, Type: Bike\n",
      "ID: V003, Type: Truck\n",
      "Vehicle V001 has been returned.\n",
      "Available vehicles:\n",
      "ID: V001, Type: Car\n",
      "ID: V002, Type: Bike\n",
      "ID: V003, Type: Truck\n"
     ]
    }
   ],
   "source": [
    "class VehicleRentalSystem:\n",
    "    def __init__(self):\n",
    "        self.vehicles = {}\n",
    "\n",
    "    def add_vehicle(self, vehicle_id, vehicle_type):\n",
    "        self.vehicles[vehicle_id] = {'type': vehicle_type, 'rented': False}\n",
    "\n",
    "    def rent_vehicle(self, vehicle_id):\n",
    "        if vehicle_id in self.vehicles and not self.vehicles[vehicle_id]['rented']:\n",
    "            self.vehicles[vehicle_id]['rented'] = True\n",
    "            print(f\"Vehicle {vehicle_id} has been rented.\")\n",
    "        else:\n",
    "            print(f\"Vehicle {vehicle_id} is either not found or already rented.\")\n",
    "\n",
    "    def return_vehicle(self, vehicle_id):\n",
    "        if vehicle_id in self.vehicles and self.vehicles[vehicle_id]['rented']:\n",
    "            self.vehicles[vehicle_id]['rented'] = False\n",
    "            print(f\"Vehicle {vehicle_id} has been returned.\")\n",
    "        else:\n",
    "            print(f\"Vehicle {vehicle_id} is either not found or was not rented.\")\n",
    "\n",
    "    def display_available_vehicles(self):\n",
    "        available_vehicles = {vid: vinfo for vid, vinfo in self.vehicles.items() if not vinfo['rented']}\n",
    "        if available_vehicles:\n",
    "            print(\"Available vehicles:\")\n",
    "            for vid, vinfo in available_vehicles.items():\n",
    "                print(f\"ID: {vid}, Type: {vinfo['type']}\")\n",
    "        else:\n",
    "            print(\"No vehicles available.\")\n",
    "\n",
    "# Example usage\n",
    "rental_system = VehicleRentalSystem()\n",
    "rental_system.add_vehicle(\"V001\", \"Car\")\n",
    "rental_system.add_vehicle(\"V002\", \"Bike\")\n",
    "rental_system.add_vehicle(\"V003\", \"Truck\")\n",
    "\n",
    "rental_system.display_available_vehicles()\n",
    "rental_system.rent_vehicle(\"V001\")\n",
    "rental_system.display_available_vehicles()\n",
    "rental_system.return_vehicle(\"V001\")\n",
    "rental_system.display_available_vehicles()\n"
   ]
  },
  {
   "cell_type": "markdown",
   "id": "a87a06f0-76c8-42cd-a4e5-9164b03f891a",
   "metadata": {},
   "source": [
    "#### PROBLEM 4. Create classes representing a library and a book. Implement methods to add books to the library, borrow books, and display available books."
   ]
  },
  {
   "cell_type": "code",
   "execution_count": 31,
   "id": "a91bf27d-c4a1-4bda-8855-6a4ea28f22d3",
   "metadata": {},
   "outputs": [
    {
     "name": "stdout",
     "output_type": "stream",
     "text": [
      "Available books:\n",
      "ID: B001, Title: 1984, Author: George Orwell\n",
      "ID: B002, Title: To Kill a Mockingbird, Author: Harper Lee\n",
      "ID: B003, Title: The Great Gatsby, Author: F. Scott Fitzgerald\n",
      "Book B001 has been borrowed.\n",
      "Available books:\n",
      "ID: B002, Title: To Kill a Mockingbird, Author: Harper Lee\n",
      "ID: B003, Title: The Great Gatsby, Author: F. Scott Fitzgerald\n",
      "Book B001 is either not found or already borrowed.\n",
      "Available books:\n",
      "ID: B002, Title: To Kill a Mockingbird, Author: Harper Lee\n",
      "ID: B003, Title: The Great Gatsby, Author: F. Scott Fitzgerald\n"
     ]
    }
   ],
   "source": [
    "class Book:\n",
    "    def __init__(self, book_id, title, author):\n",
    "        self.book_id = book_id\n",
    "        self.title = title\n",
    "        self.author = author\n",
    "        self.borrowed = False\n",
    "\n",
    "class Library:\n",
    "    def __init__(self):\n",
    "        self.books = {}\n",
    "\n",
    "    def add_book(self, book):\n",
    "        self.books[book.book_id] = book\n",
    "\n",
    "    def borrow_book(self, book_id):\n",
    "        if book_id in self.books and not self.books[book_id].borrowed:\n",
    "            self.books[book_id].borrowed = True\n",
    "            print(f\"Book {book_id} has been borrowed.\")\n",
    "        else:\n",
    "            print(f\"Book {book_id} is either not found or already borrowed.\")\n",
    "\n",
    "    def display_available_books(self):\n",
    "        available_books = [book for book in self.books.values() if not book.borrowed]\n",
    "        if available_books:\n",
    "            print(\"Available books:\")\n",
    "            for book in available_books:\n",
    "                print(f\"ID: {book.book_id}, Title: {book.title}, Author: {book.author}\")\n",
    "        else:\n",
    "            print(\"No books available.\")\n",
    "\n",
    "# Example usage\n",
    "library = Library()\n",
    "book1 = Book(\"B001\", \"1984\", \"George Orwell\")\n",
    "book2 = Book(\"B002\", \"To Kill a Mockingbird\", \"Harper Lee\")\n",
    "book3 = Book(\"B003\", \"The Great Gatsby\", \"F. Scott Fitzgerald\")\n",
    "\n",
    "library.add_book(book1)\n",
    "library.add_book(book2)\n",
    "library.add_book(book3)\n",
    "\n",
    "library.display_available_books()\n",
    "library.borrow_book(\"B001\")\n",
    "library.display_available_books()\n",
    "library.borrow_book(\"B001\")\n",
    "library.display_available_books()\n",
    "\n"
   ]
  },
  {
   "cell_type": "markdown",
   "id": "8fedd0cd-dc0b-4dc7-9596-87cc00b298e5",
   "metadata": {},
   "source": [
    "#### PROBLEM 5. Create classes representing a product and an inventory system. Implement methods to add products to the inventory, update product quantity, and display available products.\r\n"
   ]
  },
  {
   "cell_type": "code",
   "execution_count": 32,
   "id": "e8441229-ee7c-4746-9062-e04d45a0583e",
   "metadata": {},
   "outputs": [
    {
     "name": "stdout",
     "output_type": "stream",
     "text": [
      "Product Laptop added to inventory.\n",
      "Product Smartphone added to inventory.\n",
      "Product Tablet added to inventory.\n",
      "Available products:\n",
      "ID: P001, Name: Laptop, Quantity: 10\n",
      "ID: P002, Name: Smartphone, Quantity: 20\n",
      "ID: P003, Name: Tablet, Quantity: 15\n",
      "Updated quantity for Product ID P001. New quantity: 15\n",
      "Available products:\n",
      "ID: P001, Name: Laptop, Quantity: 15\n",
      "ID: P002, Name: Smartphone, Quantity: 20\n",
      "ID: P003, Name: Tablet, Quantity: 15\n",
      "Product ID P004 not found in inventory.\n",
      "Available products:\n",
      "ID: P001, Name: Laptop, Quantity: 15\n",
      "ID: P002, Name: Smartphone, Quantity: 20\n",
      "ID: P003, Name: Tablet, Quantity: 15\n"
     ]
    }
   ],
   "source": [
    "class Product:\n",
    "    def __init__(self, product_id, name, quantity):\n",
    "        self.product_id = product_id\n",
    "        self.name = name\n",
    "        self.quantity = quantity\n",
    "\n",
    "class InventorySystem:\n",
    "    def __init__(self):\n",
    "        self.products = {}\n",
    "\n",
    "    def add_product(self, product):\n",
    "        if product.product_id in self.products:\n",
    "            print(f\"Product ID {product.product_id} already exists.\")\n",
    "        else:\n",
    "            self.products[product.product_id] = product\n",
    "            print(f\"Product {product.name} added to inventory.\")\n",
    "\n",
    "    def update_quantity(self, product_id, quantity):\n",
    "        if product_id in self.products:\n",
    "            self.products[product_id].quantity += quantity\n",
    "            print(f\"Updated quantity for Product ID {product_id}. New quantity: {self.products[product_id].quantity}\")\n",
    "        else:\n",
    "            print(f\"Product ID {product_id} not found in inventory.\")\n",
    "\n",
    "    def display_available_products(self):\n",
    "        if self.products:\n",
    "            print(\"Available products:\")\n",
    "            for product in self.products.values():\n",
    "                print(f\"ID: {product.product_id}, Name: {product.name}, Quantity: {product.quantity}\")\n",
    "        else:\n",
    "            print(\"No products available.\")\n",
    "\n",
    "# Example usage\n",
    "inventory = InventorySystem()\n",
    "product1 = Product(\"P001\", \"Laptop\", 10)\n",
    "product2 = Product(\"P002\", \"Smartphone\", 20)\n",
    "product3 = Product(\"P003\", \"Tablet\", 15)\n",
    "\n",
    "inventory.add_product(product1)\n",
    "inventory.add_product(product2)\n",
    "inventory.add_product(product3)\n",
    "\n",
    "inventory.display_available_products()\n",
    "inventory.update_quantity(\"P001\", 5)\n",
    "inventory.display_available_products()\n",
    "inventory.update_quantity(\"P004\", 10)\n",
    "inventory.display_available_products()\n",
    "\n"
   ]
  },
  {
   "cell_type": "markdown",
   "id": "af53c68c-72c0-4d17-b191-d21af9c1571e",
   "metadata": {},
   "source": [
    "#### PROBLEM 6.  Create a class representing a shape with attributes like length, width, and height. Implement methods to calculate the area and perimeter of the shape."
   ]
  },
  {
   "cell_type": "code",
   "execution_count": 33,
   "id": "9fac0036-4a47-4dd9-adc1-f3e1262a2133",
   "metadata": {},
   "outputs": [
    {
     "name": "stdout",
     "output_type": "stream",
     "text": [
      "Rectangle Area: 50\n",
      "Rectangle Perimeter: 30\n",
      "Cuboid Surface Area: 340\n",
      "Cuboid Sum of Edges: 92\n"
     ]
    }
   ],
   "source": [
    "class Shape:\n",
    "    def __init__(self, length, width, height=None):\n",
    "        self.length = length\n",
    "        self.width = width\n",
    "        self.height = height\n",
    "\n",
    "    def calculate_area(self):\n",
    "        if self.height is None:\n",
    "            return self.length * self.width\n",
    "        else:\n",
    "            # Surface area of a cuboid\n",
    "            return 2 * (self.length * self.width + self.length * self.height + self.width * self.height)\n",
    "\n",
    "    def calculate_perimeter(self):\n",
    "        if self.height is None:\n",
    "            return 2 * (self.length + self.width)\n",
    "        else:\n",
    "            # Perimeter is not typically calculated for 3D shapes; this is the sum of all edges for a cuboid\n",
    "            return 4 * (self.length + self.width + self.height)\n",
    "\n",
    "# Example usage for a rectangle\n",
    "rectangle = Shape(10, 5)\n",
    "print(f\"Rectangle Area: {rectangle.calculate_area()}\")\n",
    "print(f\"Rectangle Perimeter: {rectangle.calculate_perimeter()}\")\n",
    "\n",
    "# Example usage for a cuboid\n",
    "cuboid = Shape(10, 5, 8)\n",
    "print(f\"Cuboid Surface Area: {cuboid.calculate_area()}\")\n",
    "print(f\"Cuboid Sum of Edges: {cuboid.calculate_perimeter()}\")\n"
   ]
  },
  {
   "cell_type": "markdown",
   "id": "1df7fae1-5adc-44f2-aa90-67035f4c7f4a",
   "metadata": {},
   "source": [
    "#### PROBLEM 7. Create a class representing a student with attributes like student ID, name, and grades. Implement methods to calculate the average grade and display student details."
   ]
  },
  {
   "cell_type": "code",
   "execution_count": 34,
   "id": "59a60b9f-d908-4800-a7f9-cd3dd7e0b026",
   "metadata": {},
   "outputs": [
    {
     "name": "stdout",
     "output_type": "stream",
     "text": [
      "Student ID: S001\n",
      "Name: Alice Johnson\n",
      "Grades: [85, 92, 78]\n",
      "Average Grade: 85.00\n"
     ]
    }
   ],
   "source": [
    "class Student:\n",
    "    def __init__(self, student_id, name, grades=None):\n",
    "        self.student_id = student_id\n",
    "        self.name = name\n",
    "        self.grades = grades if grades is not None else []\n",
    "\n",
    "    def add_grade(self, grade):\n",
    "        self.grades.append(grade)\n",
    "\n",
    "    def calculate_average_grade(self):\n",
    "        if not self.grades:\n",
    "            return 0.0\n",
    "        return sum(self.grades) / len(self.grades)\n",
    "\n",
    "    def display_student_details(self):\n",
    "        print(f\"Student ID: {self.student_id}\")\n",
    "        print(f\"Name: {self.name}\")\n",
    "        print(f\"Grades: {self.grades}\")\n",
    "        print(f\"Average Grade: {self.calculate_average_grade():.2f}\")\n",
    "\n",
    "# Example usage\n",
    "student = Student(\"S001\", \"Alice Johnson\")\n",
    "student.add_grade(85)\n",
    "student.add_grade(92)\n",
    "student.add_grade(78)\n",
    "student.display_student_details()\n"
   ]
  },
  {
   "cell_type": "markdown",
   "id": "63131b1d-dee1-4b01-9dfc-ba1c34aa7b2a",
   "metadata": {},
   "source": [
    "#### PROBLEM 8. Create a class representing an email with attributes like sender, recipient, and subject. Implement methods to send an email and display email details."
   ]
  },
  {
   "cell_type": "code",
   "execution_count": 35,
   "id": "6f031c0a-f145-4b15-9483-6739b46868f6",
   "metadata": {},
   "outputs": [
    {
     "name": "stdout",
     "output_type": "stream",
     "text": [
      "Sender: alice@example.com\n",
      "Recipient: bob@example.com\n",
      "Subject: Meeting Reminder\n",
      "Body: Don't forget about the meeting at 10 AM tomorrow.\n",
      "Status: Not Sent\n",
      "Email sent successfully.\n",
      "Sender: alice@example.com\n",
      "Recipient: bob@example.com\n",
      "Subject: Meeting Reminder\n",
      "Body: Don't forget about the meeting at 10 AM tomorrow.\n",
      "Status: Sent\n"
     ]
    }
   ],
   "source": [
    "class Email:\n",
    "    def __init__(self, sender, recipient, subject, body):\n",
    "        self.sender = sender\n",
    "        self.recipient = recipient\n",
    "        self.subject = subject\n",
    "        self.body = body\n",
    "        self.sent = False\n",
    "\n",
    "    def send_email(self):\n",
    "        if not self.sent:\n",
    "            self.sent = True\n",
    "            print(\"Email sent successfully.\")\n",
    "        else:\n",
    "            print(\"Email has already been sent.\")\n",
    "\n",
    "    def display_email_details(self):\n",
    "        print(f\"Sender: {self.sender}\")\n",
    "        print(f\"Recipient: {self.recipient}\")\n",
    "        print(f\"Subject: {self.subject}\")\n",
    "        print(f\"Body: {self.body}\")\n",
    "        print(f\"Status: {'Sent' if self.sent else 'Not Sent'}\")\n",
    "\n",
    "# Example usage\n",
    "email = Email(\"alice@example.com\", \"bob@example.com\", \"Meeting Reminder\", \"Don't forget about the meeting at 10 AM tomorrow.\")\n",
    "email.display_email_details()\n",
    "email.send_email()\n",
    "email.display_email_details()\n"
   ]
  },
  {
   "cell_type": "markdown",
   "id": "f8b8d84b-a4ec-469e-9ac6-b7e44bb26bea",
   "metadata": {},
   "source": [
    "#### PROBLEM 9. Profile Create a class representing a social media profile with attributes like username and posts. Implement methods to add posts, display posts, and search for posts by keyword."
   ]
  },
  {
   "cell_type": "code",
   "execution_count": 36,
   "id": "fcfb93f8-7b3b-4f6c-b9fc-d64e5a7c59f1",
   "metadata": {},
   "outputs": [
    {
     "name": "stdout",
     "output_type": "stream",
     "text": [
      "Post added successfully.\n",
      "Post added successfully.\n",
      "Post added successfully.\n",
      "Posts by john_doe:\n",
      "1. Hello world!\n",
      "2. Learning Python is fun.\n",
      "3. Just had a great cup of coffee.\n",
      "Posts containing 'python':\n",
      "1. Learning Python is fun.\n",
      "Posts containing 'coffee':\n",
      "1. Just had a great cup of coffee.\n",
      "No posts found containing 'tea'.\n"
     ]
    }
   ],
   "source": [
    "class SocialMediaProfile:\n",
    "    def __init__(self, username):\n",
    "        self.username = username\n",
    "        self.posts = []\n",
    "\n",
    "    def add_post(self, content):\n",
    "        self.posts.append(content)\n",
    "        print(\"Post added successfully.\")\n",
    "\n",
    "    def display_posts(self):\n",
    "        if self.posts:\n",
    "            print(f\"Posts by {self.username}:\")\n",
    "            for index, post in enumerate(self.posts, start=1):\n",
    "                print(f\"{index}. {post}\")\n",
    "        else:\n",
    "            print(f\"{self.username} has no posts yet.\")\n",
    "\n",
    "    def search_posts(self, keyword):\n",
    "        matching_posts = [post for post in self.posts if keyword.lower() in post.lower()]\n",
    "        if matching_posts:\n",
    "            print(f\"Posts containing '{keyword}':\")\n",
    "            for index, post in enumerate(matching_posts, start=1):\n",
    "                print(f\"{index}. {post}\")\n",
    "        else:\n",
    "            print(f\"No posts found containing '{keyword}'.\")\n",
    "\n",
    "# Example usage\n",
    "profile = SocialMediaProfile(\"john_doe\")\n",
    "profile.add_post(\"Hello world!\")\n",
    "profile.add_post(\"Learning Python is fun.\")\n",
    "profile.add_post(\"Just had a great cup of coffee.\")\n",
    "profile.display_posts()\n",
    "profile.search_posts(\"python\")\n",
    "profile.search_posts(\"coffee\")\n",
    "profile.search_posts(\"tea\")\n"
   ]
  },
  {
   "cell_type": "markdown",
   "id": "0d4831c9-59db-446a-aadb-27d60e468182",
   "metadata": {},
   "source": [
    "#### EXAMPLE 10.  Create a class representing a ToDo list with attributes like tasks and due dates. Implement methods to add tasks, mark tasks as completed, and display pending tasks."
   ]
  },
  {
   "cell_type": "code",
   "execution_count": 37,
   "id": "1cd4c430-a0c3-4511-93dd-9494545cc078",
   "metadata": {},
   "outputs": [
    {
     "name": "stdout",
     "output_type": "stream",
     "text": [
      "Task added successfully.\n",
      "Task added successfully.\n",
      "Task added successfully.\n",
      "Pending tasks:\n",
      "1. Finish report (Due on 2024-07-05)\n",
      "2. Call client\n",
      "3. Buy groceries (Due on 2024-07-10)\n",
      "Task 'Finish report' marked as completed.\n",
      "Pending tasks:\n",
      "1. Call client\n",
      "2. Buy groceries (Due on 2024-07-10)\n"
     ]
    }
   ],
   "source": [
    "class ToDoList:\n",
    "    def __init__(self):\n",
    "        self.tasks = []\n",
    "\n",
    "    def add_task(self, task, due_date=None):\n",
    "        self.tasks.append({'task': task, 'due_date': due_date, 'completed': False})\n",
    "        print(\"Task added successfully.\")\n",
    "\n",
    "    def mark_task_completed(self, task_index):\n",
    "        if 0 <= task_index < len(self.tasks):\n",
    "            self.tasks[task_index]['completed'] = True\n",
    "            print(f\"Task '{self.tasks[task_index]['task']}' marked as completed.\")\n",
    "        else:\n",
    "            print(\"Invalid task index.\")\n",
    "\n",
    "    def display_pending_tasks(self):\n",
    "        pending_tasks = [task for task in self.tasks if not task['completed']]\n",
    "        if pending_tasks:\n",
    "            print(\"Pending tasks:\")\n",
    "            for index, task in enumerate(pending_tasks, start=1):\n",
    "                due_date_info = f\" (Due on {task['due_date']})\" if task['due_date'] else \"\"\n",
    "                print(f\"{index}. {task['task']}{due_date_info}\")\n",
    "        else:\n",
    "            print(\"No pending tasks.\")\n",
    "\n",
    "# Example usage\n",
    "todo_list = ToDoList()\n",
    "todo_list.add_task(\"Finish report\", \"2024-07-05\")\n",
    "todo_list.add_task(\"Call client\")\n",
    "todo_list.add_task(\"Buy groceries\", \"2024-07-10\")\n",
    "\n",
    "todo_list.display_pending_tasks()\n",
    "todo_list.mark_task_completed(0)\n",
    "todo_list.display_pending_tasks()\n"
   ]
  }
 ],
 "metadata": {
  "kernelspec": {
   "display_name": "Python 3 (ipykernel)",
   "language": "python",
   "name": "python3"
  },
  "language_info": {
   "codemirror_mode": {
    "name": "ipython",
    "version": 3
   },
   "file_extension": ".py",
   "mimetype": "text/x-python",
   "name": "python",
   "nbconvert_exporter": "python",
   "pygments_lexer": "ipython3",
   "version": "3.11.4"
  }
 },
 "nbformat": 4,
 "nbformat_minor": 5
}
