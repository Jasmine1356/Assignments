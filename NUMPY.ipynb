{
 "cells": [
  {
   "cell_type": "markdown",
   "id": "02f22d7c-1ac7-4250-9d11-098314f0d551",
   "metadata": {},
   "source": [
    "# NUMPY ASSIGNMENT"
   ]
  },
  {
   "cell_type": "code",
   "execution_count": 1,
   "id": "7f07bff6-a7bc-492a-b1c0-57b5f5e71316",
   "metadata": {},
   "outputs": [],
   "source": [
    "import numpy as np"
   ]
  },
  {
   "cell_type": "markdown",
   "id": "ac4a5384-200b-43b1-8270-124ac5539c75",
   "metadata": {},
   "source": [
    "### QUESTION 1"
   ]
  },
  {
   "cell_type": "markdown",
   "id": "b5571a41-60e1-428c-8c44-bfce9649dcea",
   "metadata": {},
   "source": [
    "\n",
    "####  A python library is a collection of codes or modules of codes that can be used in a program for specific operations.We use libraries so that we don't \n",
    "#### need to write the code again in our program that is already available. Libraries are bundled into packages that you install, which can be imported into your coding environment as needed.\n",
    "### USES:-\n",
    "#### 1. Code reusability:- Libraries provide pre-written code that can be reused across projects,saving time and efforts.\n",
    "#### 2. Functionality:- They offer specialized functions and tools for specific tasks, such as data analysis , machine learning .\n",
    "#### 3. We can do data manipulation and analysis, offering data structures like DataFrame for working with structured data."
   ]
  },
  {
   "cell_type": "markdown",
   "id": "f130fddc-5c23-4fc0-9cee-cc43d9ebc3d9",
   "metadata": {},
   "source": [
    "### QUESTION 2"
   ]
  },
  {
   "cell_type": "markdown",
   "id": "9b38b483-3916-4ae1-8258-338ca78df99f",
   "metadata": {},
   "source": [
    "## LIST \n",
    "#### It can contain elements of different datatypes.\n",
    "#### List consumes more memory due to the flexibility of storing different datatypes.\n",
    "#### List is generally slower for numerical operations.\n",
    "#### List can be multi-dimensional but handling is intuitive.\n",
    "#### It is simpler for basic tasks and general purpose program.\n",
    "## ARRAY\n",
    "#### In array, all the elements are homogeneous i.e. of same datatype.\n",
    "#### It is memory efficient as it stores elements in a contiguos block of memory.\n",
    "#### Array is optimal for numerical operations, making them faster.\n",
    "#### Array is optimal for numerical operations, making them faster.\n",
    "#### It is created using the 'numpy.array()'.\n",
    "#### It is more powerful for numerical and scientific calculations."
   ]
  },
  {
   "cell_type": "markdown",
   "id": "c6b2c90c-da27-4507-ab8c-5c7c22e2420c",
   "metadata": {},
   "source": [
    "#### QUESTION 3"
   ]
  },
  {
   "cell_type": "code",
   "execution_count": 2,
   "id": "3f9c39fb-1a1a-472b-b615-c841bda343bf",
   "metadata": {},
   "outputs": [
    {
     "data": {
      "text/plain": [
       "array([[ 1,  2,  3,  4],\n",
       "       [ 5,  6,  7,  8],\n",
       "       [ 9, 10, 11, 12]])"
      ]
     },
     "execution_count": 2,
     "metadata": {},
     "output_type": "execute_result"
    }
   ],
   "source": [
    "arr1 = np.array([[1,2,3,4],[5,6,7,8],[9,10,11,12]])\n",
    "arr1"
   ]
  },
  {
   "cell_type": "code",
   "execution_count": 3,
   "id": "9c3ecb9e-75de-405c-8bc2-74a3fafe76ba",
   "metadata": {},
   "outputs": [
    {
     "data": {
      "text/plain": [
       "(3, 4)"
      ]
     },
     "execution_count": 3,
     "metadata": {},
     "output_type": "execute_result"
    }
   ],
   "source": [
    "np.shape(arr1)"
   ]
  },
  {
   "cell_type": "code",
   "execution_count": 4,
   "id": "db721110-ddaa-4616-868b-8d0f59790f81",
   "metadata": {},
   "outputs": [
    {
     "data": {
      "text/plain": [
       "12"
      ]
     },
     "execution_count": 4,
     "metadata": {},
     "output_type": "execute_result"
    }
   ],
   "source": [
    "np.size(arr1)"
   ]
  },
  {
   "cell_type": "code",
   "execution_count": 5,
   "id": "cbfc97eb-3a42-4c9b-93ba-933c8be5e629",
   "metadata": {},
   "outputs": [
    {
     "data": {
      "text/plain": [
       "2"
      ]
     },
     "execution_count": 5,
     "metadata": {},
     "output_type": "execute_result"
    }
   ],
   "source": [
    "np.ndim(arr1)"
   ]
  },
  {
   "cell_type": "markdown",
   "id": "52454b8e-0b26-4824-a109-3c1d6e6a4052",
   "metadata": {},
   "source": [
    "#### QUESTION 4"
   ]
  },
  {
   "cell_type": "code",
   "execution_count": 7,
   "id": "54715ffe-c732-4047-9bf4-6d5eee22bfd6",
   "metadata": {},
   "outputs": [
    {
     "data": {
      "text/plain": [
       "array([[ 1,  2,  3,  4],\n",
       "       [ 5,  6,  7,  8],\n",
       "       [ 9, 10, 11, 12]])"
      ]
     },
     "execution_count": 7,
     "metadata": {},
     "output_type": "execute_result"
    }
   ],
   "source": [
    "arr2 = np.array([[1,2,3,4],[5,6,7,8],[9,10,11,12]])\n",
    "arr2"
   ]
  },
  {
   "cell_type": "code",
   "execution_count": 11,
   "id": "2172df98-a431-4707-87a9-fe982e4a3903",
   "metadata": {},
   "outputs": [
    {
     "data": {
      "text/plain": [
       "array([1, 2, 3, 4])"
      ]
     },
     "execution_count": 11,
     "metadata": {},
     "output_type": "execute_result"
    }
   ],
   "source": [
    "arr2[0]"
   ]
  },
  {
   "cell_type": "code",
   "execution_count": 12,
   "id": "d72d8a1a-a3db-4386-8e5d-b00c5a8768d7",
   "metadata": {},
   "outputs": [
    {
     "data": {
      "text/plain": [
       "array([[ 1,  2,  3,  4],\n",
       "       [ 5,  6,  7,  8],\n",
       "       [ 9, 10, 11, 12]])"
      ]
     },
     "execution_count": 12,
     "metadata": {},
     "output_type": "execute_result"
    }
   ],
   "source": [
    "arr3 = np.array([[1,2,3,4],[5,6,7,8],[9,10,11,12]])\n",
    "arr3"
   ]
  },
  {
   "cell_type": "markdown",
   "id": "a799546a-0b87-457e-aa8f-ad7535e74ca3",
   "metadata": {},
   "source": [
    "#### QUESTION 5"
   ]
  },
  {
   "cell_type": "code",
   "execution_count": 13,
   "id": "4dcc642d-48fd-4018-aa96-f4ec11b53d0d",
   "metadata": {},
   "outputs": [
    {
     "data": {
      "text/plain": [
       "array([[ 1,  2,  3,  4],\n",
       "       [ 5,  6,  7,  8],\n",
       "       [ 9, 10, 11, 12]])"
      ]
     },
     "execution_count": 13,
     "metadata": {},
     "output_type": "execute_result"
    }
   ],
   "source": [
    "arr4 = np.array([[1,2,3,4],[5,6,7,8],[9,10,11,12]])\n",
    "arr4"
   ]
  },
  {
   "cell_type": "code",
   "execution_count": 15,
   "id": "38cc5108-7d6f-4425-9cb0-c0592450c75d",
   "metadata": {},
   "outputs": [
    {
     "data": {
      "text/plain": [
       "12"
      ]
     },
     "execution_count": 15,
     "metadata": {},
     "output_type": "execute_result"
    }
   ],
   "source": [
    "arr4[2][3]"
   ]
  },
  {
   "cell_type": "markdown",
   "id": "0cfb5e25-b3e9-4555-a270-d742c16c7f5f",
   "metadata": {},
   "source": [
    "#### QUESTION 6"
   ]
  },
  {
   "cell_type": "code",
   "execution_count": 16,
   "id": "858b5b71-cb1f-40e7-879e-57bbff6d05e5",
   "metadata": {},
   "outputs": [
    {
     "data": {
      "text/plain": [
       "array([[ 1,  2,  3,  4],\n",
       "       [ 5,  6,  7,  8],\n",
       "       [ 9, 10, 11, 12]])"
      ]
     },
     "execution_count": 16,
     "metadata": {},
     "output_type": "execute_result"
    }
   ],
   "source": [
    "arr5 = np.array([[1,2,3,4],[5,6,7,8],[9,10,11,12]])\n",
    "arr5"
   ]
  },
  {
   "cell_type": "code",
   "execution_count": 18,
   "id": "4bfc3e3a-eabd-4bf0-8ec1-00cfbc8e2693",
   "metadata": {},
   "outputs": [
    {
     "name": "stdout",
     "output_type": "stream",
     "text": [
      "All odd-indexed elements: [ 2  4  6  8 10 12]\n"
     ]
    }
   ],
   "source": [
    "odd_indexed_elements = arr5[:, 1::2].flatten()\n",
    "\n",
    "print(\"All odd-indexed elements:\", odd_indexed_elements)"
   ]
  },
  {
   "cell_type": "markdown",
   "id": "f18f73ed-6ddd-48fc-b8c0-eb8bc13b190b",
   "metadata": {},
   "source": [
    "#### QUESTION 7"
   ]
  },
  {
   "cell_type": "code",
   "execution_count": 19,
   "id": "7df19310-bd7a-4b91-ba06-855283d4ab86",
   "metadata": {},
   "outputs": [
    {
     "name": "stdout",
     "output_type": "stream",
     "text": [
      "Random 3x3 Matrix:\n",
      "[[0.23415345 0.45283785 0.99505535]\n",
      " [0.40470368 0.46314994 0.92670307]\n",
      " [0.36360297 0.25032723 0.26728733]]\n"
     ]
    }
   ],
   "source": [
    "random_matrix = np.random.rand(3, 3)\n",
    "\n",
    "print(\"Random 3x3 Matrix:\")\n",
    "print(random_matrix)"
   ]
  },
  {
   "cell_type": "markdown",
   "id": "026ac602-ada6-48ce-a0e3-8ea2013d8b40",
   "metadata": {},
   "source": [
    "#### QUESTION 8"
   ]
  },
  {
   "cell_type": "markdown",
   "id": "805768c2-2a0e-4043-a3ee-6c6c4171904b",
   "metadata": {},
   "source": [
    "#### \"np.random.rand\" generates random numbers from a uniform distribution in interval [0,1).\n",
    "#### \"np.random.randn\" generates random numbers from a standard normal distribution (mean = 0 , standard deviation = 1)"
   ]
  },
  {
   "cell_type": "markdown",
   "id": "c5c36d8f-63fe-47b5-95a6-722850d0b892",
   "metadata": {},
   "source": [
    "#### QUESTION 9"
   ]
  },
  {
   "cell_type": "code",
   "execution_count": 20,
   "id": "3ca67b57-9754-44bf-9006-d0a9dd4ad724",
   "metadata": {},
   "outputs": [
    {
     "data": {
      "text/plain": [
       "array([[ 1,  2,  3,  4],\n",
       "       [ 5,  6,  7,  8],\n",
       "       [ 9, 10, 11, 12]])"
      ]
     },
     "execution_count": 20,
     "metadata": {},
     "output_type": "execute_result"
    }
   ],
   "source": [
    "arr6 = np.array([[1,2,3,4],[5,6,7,8],[9,10,11,12]])\n",
    "arr6"
   ]
  },
  {
   "cell_type": "code",
   "execution_count": 21,
   "id": "3d965817-ce94-449e-9b1e-b5921fe97f69",
   "metadata": {},
   "outputs": [
    {
     "data": {
      "text/plain": [
       "array([[[ 1,  2,  3,  4],\n",
       "        [ 5,  6,  7,  8],\n",
       "        [ 9, 10, 11, 12]]])"
      ]
     },
     "execution_count": 21,
     "metadata": {},
     "output_type": "execute_result"
    }
   ],
   "source": [
    "arr7 = np.expand_dims(arr6,axis=0)\n",
    "arr7"
   ]
  },
  {
   "cell_type": "markdown",
   "id": "55c3058c-b3bb-4591-b3ff-c7f3024401d5",
   "metadata": {},
   "source": [
    "#### QUESTION 10"
   ]
  },
  {
   "cell_type": "code",
   "execution_count": 22,
   "id": "0457da72-7e1d-40cc-998a-fdcb71f94ee5",
   "metadata": {},
   "outputs": [
    {
     "data": {
      "text/plain": [
       "array([[ 1,  2,  3,  4],\n",
       "       [ 5,  6,  7,  8],\n",
       "       [ 9, 10, 11, 12]])"
      ]
     },
     "execution_count": 22,
     "metadata": {},
     "output_type": "execute_result"
    }
   ],
   "source": [
    "arr8 = np.array([[1,2,3,4],[5,6,7,8],[9,10,11,12]])\n",
    "arr8"
   ]
  },
  {
   "cell_type": "code",
   "execution_count": 23,
   "id": "f3ed4072-89be-4fe7-b086-37ad6daec70d",
   "metadata": {},
   "outputs": [
    {
     "data": {
      "text/plain": [
       "array([[ 1,  5,  9],\n",
       "       [ 2,  6, 10],\n",
       "       [ 3,  7, 11],\n",
       "       [ 4,  8, 12]])"
      ]
     },
     "execution_count": 23,
     "metadata": {},
     "output_type": "execute_result"
    }
   ],
   "source": [
    "arr9 = arr8.T\n",
    "arr9"
   ]
  },
  {
   "cell_type": "markdown",
   "id": "b104519b-c643-4991-8917-417f942a5641",
   "metadata": {},
   "source": [
    "#### QUESTION 11"
   ]
  },
  {
   "cell_type": "code",
   "execution_count": 49,
   "id": "da69d457-1c62-4fa7-b8b3-18482f4e8f22",
   "metadata": {},
   "outputs": [],
   "source": [
    "matrix_A = np.array([[1,2,3,4],\n",
    "                   [5,6,7,8],\n",
    "                  [9,10,11,12]])\n",
    "\n",
    "matrix_B = np.array([[1,2,3,4],\n",
    "                    [5,6,7,8],\n",
    "                   [9,10,11,12]])\n"
   ]
  },
  {
   "cell_type": "code",
   "execution_count": 50,
   "id": "7e54f2fc-32e0-4143-a03f-86cd891d2ee8",
   "metadata": {},
   "outputs": [
    {
     "data": {
      "text/plain": [
       "array([[  1,   4,   9,  16],\n",
       "       [ 25,  36,  49,  64],\n",
       "       [ 81, 100, 121, 144]])"
      ]
     },
     "execution_count": 50,
     "metadata": {},
     "output_type": "execute_result"
    }
   ],
   "source": [
    "# 1. Indexwise multiplication\n",
    "matrix_A * matrix_B"
   ]
  },
  {
   "cell_type": "code",
   "execution_count": 52,
   "id": "a9bf99cd-38af-4fec-a576-acd2e81f9972",
   "metadata": {},
   "outputs": [
    {
     "ename": "ValueError",
     "evalue": "shapes (3,4) and (3,4) not aligned: 4 (dim 1) != 3 (dim 0)",
     "output_type": "error",
     "traceback": [
      "\u001b[1;31m---------------------------------------------------------------------------\u001b[0m",
      "\u001b[1;31mValueError\u001b[0m                                Traceback (most recent call last)",
      "Cell \u001b[1;32mIn[52], line 2\u001b[0m\n\u001b[0;32m      1\u001b[0m \u001b[38;5;66;03m# 2. Matrix Multiplication \u001b[39;00m\n\u001b[1;32m----> 2\u001b[0m result_matrix \u001b[38;5;241m=\u001b[39m \u001b[43mnp\u001b[49m\u001b[38;5;241;43m.\u001b[39;49m\u001b[43mdot\u001b[49m\u001b[43m(\u001b[49m\u001b[43mmatrix_A\u001b[49m\u001b[43m \u001b[49m\u001b[43m,\u001b[49m\u001b[43m \u001b[49m\u001b[43mmatrix_B\u001b[49m\u001b[43m)\u001b[49m\n\u001b[0;32m      3\u001b[0m result_matrix\n",
      "File \u001b[1;32m<__array_function__ internals>:200\u001b[0m, in \u001b[0;36mdot\u001b[1;34m(*args, **kwargs)\u001b[0m\n",
      "\u001b[1;31mValueError\u001b[0m: shapes (3,4) and (3,4) not aligned: 4 (dim 1) != 3 (dim 0)"
     ]
    }
   ],
   "source": [
    "# 2. Matrix Multiplication \n",
    "result_matrix = np.dot(matrix_A , matrix_B)\n",
    "result_matrix"
   ]
  },
  {
   "cell_type": "code",
   "execution_count": 41,
   "id": "02160b62-beb8-463c-9c53-299b80fbbe00",
   "metadata": {},
   "outputs": [
    {
     "data": {
      "text/plain": [
       "array([[ 2,  4,  6,  8],\n",
       "       [10, 12, 14, 16],\n",
       "       [18, 20, 22, 24]])"
      ]
     },
     "execution_count": 41,
     "metadata": {},
     "output_type": "execute_result"
    }
   ],
   "source": [
    "# 3. Add both the matrices\n",
    "matrix_A+ matrix_B"
   ]
  },
  {
   "cell_type": "code",
   "execution_count": 42,
   "id": "bfeda0b7-b200-4cb8-9359-d2e5399769ed",
   "metadata": {},
   "outputs": [
    {
     "data": {
      "text/plain": [
       "array([[0, 0, 0, 0],\n",
       "       [0, 0, 0, 0],\n",
       "       [0, 0, 0, 0]])"
      ]
     },
     "execution_count": 42,
     "metadata": {},
     "output_type": "execute_result"
    }
   ],
   "source": [
    "# 4. Subtract matrix B from A\n",
    "matrix_A - matrix_B"
   ]
  },
  {
   "cell_type": "code",
   "execution_count": 43,
   "id": "75d57481-66de-432c-ad44-ccff6c0c6a2f",
   "metadata": {},
   "outputs": [
    {
     "data": {
      "text/plain": [
       "array([[1., 1., 1., 1.],\n",
       "       [1., 1., 1., 1.],\n",
       "       [1., 1., 1., 1.]])"
      ]
     },
     "execution_count": 43,
     "metadata": {},
     "output_type": "execute_result"
    }
   ],
   "source": [
    "# 5. Divide matrix B by A\n",
    "matrix_B / matrix_A"
   ]
  },
  {
   "cell_type": "markdown",
   "id": "e576dad0-079a-4bd0-9e4a-e81b40559b7d",
   "metadata": {},
   "source": [
    "#### QUESTION 12"
   ]
  },
  {
   "cell_type": "markdown",
   "id": "8c46ae1b-119f-4cf3-9583-f5802cce7e41",
   "metadata": {},
   "source": [
    "#### In NumPy, the byteswap function can be used to swap the byte order of an array. This function returns a new array with the byte order swapped. "
   ]
  },
  {
   "cell_type": "markdown",
   "id": "a813c018-1934-40b1-926a-cedb652ad3b2",
   "metadata": {},
   "source": [
    "#### QUESTION 13"
   ]
  },
  {
   "cell_type": "markdown",
   "id": "2bcf5bb6-d9b8-4dad-9569-41714812755f",
   "metadata": {},
   "source": [
    "#### The np.linalg.inv function in NumPy is used to compute the (multiplicative) inverse of a square matrix. The significance of finding the inverse of a matrix lies in various mathematical and practical applications. It is used in matrix division , eigen value and eigen vector calculations."
   ]
  },
  {
   "cell_type": "markdown",
   "id": "c11e751b-48c2-4953-a108-31eee638b4e2",
   "metadata": {},
   "source": [
    "#### QUESTION 14"
   ]
  },
  {
   "cell_type": "markdown",
   "id": "23aae3cc-fedf-4aa1-aaac-144166fc0dd4",
   "metadata": {},
   "source": [
    "#### The np.reshape function in NumPy is used to give a new shape to an array without changing the data.It returns a new array with the same data but a different shape. "
   ]
  },
  {
   "cell_type": "markdown",
   "id": "7ddd1c7d-7b5d-46c7-838a-4f8984905540",
   "metadata": {},
   "source": [
    "#### QUESTION 15"
   ]
  },
  {
   "cell_type": "markdown",
   "id": "0b6d8f50-fa06-4800-a6f8-6db488399d67",
   "metadata": {},
   "source": [
    "#### Broadcasting is a powerful feature in NumPy that allows arrays of different shapes and sizes to be combined in a way that makes sense for arithmetic operations. In other words, NumPy can automatically perform element-wise operations on arrays of different shapes without explicitly reshaping them."
   ]
  }
 ],
 "metadata": {
  "kernelspec": {
   "display_name": "Python 3 (ipykernel)",
   "language": "python",
   "name": "python3"
  },
  "language_info": {
   "codemirror_mode": {
    "name": "ipython",
    "version": 3
   },
   "file_extension": ".py",
   "mimetype": "text/x-python",
   "name": "python",
   "nbconvert_exporter": "python",
   "pygments_lexer": "ipython3",
   "version": "3.11.4"
  }
 },
 "nbformat": 4,
 "nbformat_minor": 5
}
