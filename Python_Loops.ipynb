{
 "cells": [
  {
   "cell_type": "markdown",
   "id": "14c08611-35aa-439e-a6a3-b2c3f9be1b0a",
   "metadata": {},
   "source": [
    "## ASSIGNMENT "
   ]
  },
  {
   "cell_type": "markdown",
   "id": "337174f3-e648-4124-9982-dee51a9623d6",
   "metadata": {},
   "source": [
    "### FOR LOOP"
   ]
  },
  {
   "cell_type": "markdown",
   "id": "3b29c2b7-3d3b-4676-be32-73540dc69740",
   "metadata": {},
   "source": [
    "#### 1.Write a Python program to print numbers from 1 to 10 using a for loop."
   ]
  },
  {
   "cell_type": "code",
   "execution_count": 2,
   "id": "04d1519d-fe72-49df-a303-255840e8c61a",
   "metadata": {},
   "outputs": [
    {
     "name": "stdout",
     "output_type": "stream",
     "text": [
      "1\n",
      "2\n",
      "3\n",
      "4\n",
      "5\n",
      "6\n",
      "7\n",
      "8\n",
      "9\n",
      "10\n"
     ]
    }
   ],
   "source": [
    "for i in range(1,11):\n",
    "    print(i)"
   ]
  },
  {
   "cell_type": "markdown",
   "id": "76c44c3d-384d-48b5-ba17-854f51d5f57b",
   "metadata": {},
   "source": [
    "#### 2. Explain the difference between a for loop and a while loop in Python.\n",
    "#### A `for` loop is used when you know the number of iterations in advance, iterating over a sequence with a concise syntax. A `while` loop is used when the number of iterations depends on a condition, requiring manual control of the loop variable."
   ]
  },
  {
   "cell_type": "markdown",
   "id": "02e9c0cc-658f-4d8f-936e-a81d0f87423b",
   "metadata": {},
   "source": [
    "#### 3. Write a Python program to calculate the sum of all numbers from 1 to 100 using a for loop.\n"
   ]
  },
  {
   "cell_type": "code",
   "execution_count": 4,
   "id": "f27f6419-7d12-4d18-bc03-110105e1e15b",
   "metadata": {},
   "outputs": [
    {
     "name": "stdout",
     "output_type": "stream",
     "text": [
      "The sum of all numbers from 1 to 100 is: 5050\n"
     ]
    }
   ],
   "source": [
    "sum = 0\n",
    "for i in range(1,101):\n",
    "    sum += i\n",
    "print(\"The sum of all numbers from 1 to 100 is:\",sum)\n",
    " \n",
    "    "
   ]
  },
  {
   "cell_type": "markdown",
   "id": "117db10d-cb9b-436d-8f8f-1cffbec52b3f",
   "metadata": {},
   "source": [
    "#### 4.How do you iterate through a list using a for loop in Python?\n"
   ]
  },
  {
   "cell_type": "markdown",
   "id": "b2bedb0d-44bf-4d81-96e2-b9ee8736815e",
   "metadata": {},
   "source": [
    "#### To iterate through a list using a `for` loop in Python, use the syntax `for element in list:`. This loop will sequentially assign each element in the list to the loop variable, allowing you to perform operations on each element."
   ]
  },
  {
   "cell_type": "code",
   "execution_count": 5,
   "id": "63eac163-f3f4-4fb7-89b6-5b6828e8f2c2",
   "metadata": {},
   "outputs": [
    {
     "name": "stdout",
     "output_type": "stream",
     "text": [
      "apple\n",
      "banana\n",
      "cherry\n",
      "date\n"
     ]
    }
   ],
   "source": [
    "# Sample list\n",
    "fruits = [\"apple\", \"banana\", \"cherry\", \"date\"]\n",
    "\n",
    "# Using a for loop to iterate through the list\n",
    "for fruit in fruits:\n",
    "    print(fruit)\n"
   ]
  },
  {
   "cell_type": "markdown",
   "id": "dc7ffddc-d81f-444a-95a2-a7ebfa1efd4b",
   "metadata": {},
   "source": [
    "#### 5. Write a Python program to find the product of all elements in a list using a for loop.\n"
   ]
  },
  {
   "cell_type": "code",
   "execution_count": 6,
   "id": "6c44dc9e-417a-45af-9524-64e82359d8f5",
   "metadata": {},
   "outputs": [
    {
     "name": "stdout",
     "output_type": "stream",
     "text": [
      "The product of all elements in the list is: 120\n"
     ]
    }
   ],
   "source": [
    "# Sample list\n",
    "numbers = [2, 3, 4, 5]\n",
    "\n",
    "# Initialize the product variable\n",
    "product = 1\n",
    "\n",
    "# Use a for loop to iterate through the list and calculate the product\n",
    "for number in numbers:\n",
    "    product *= number\n",
    "\n",
    "# Print the result\n",
    "print(\"The product of all elements in the list is:\", product)\n"
   ]
  },
  {
   "cell_type": "markdown",
   "id": "ab80d4dc-b51e-4bcb-a54f-b7a140d72eb3",
   "metadata": {},
   "source": [
    "#### 6. Create a Python program that prints all even numbers from 1 to 20 using a for loop.\n"
   ]
  },
  {
   "cell_type": "code",
   "execution_count": 9,
   "id": "deb04b12-ce52-4015-983b-bf97a24c6a53",
   "metadata": {},
   "outputs": [
    {
     "name": "stdout",
     "output_type": "stream",
     "text": [
      "2\n",
      "4\n",
      "6\n",
      "8\n",
      "10\n",
      "12\n",
      "14\n",
      "16\n",
      "18\n",
      "20\n"
     ]
    }
   ],
   "source": [
    "for i in range(1,21):\n",
    "    if i%2==0:\n",
    "          print(i)"
   ]
  },
  {
   "cell_type": "markdown",
   "id": "18efdff9-916c-4003-b082-1b8b4b419139",
   "metadata": {},
   "source": [
    "#### 7. Write a Python program that calculates the factorial of a number using a for loop.\n"
   ]
  },
  {
   "cell_type": "code",
   "execution_count": 10,
   "id": "4cd43838-c41c-47c5-80c9-8971cce86ff4",
   "metadata": {},
   "outputs": [
    {
     "name": "stdout",
     "output_type": "stream",
     "text": [
      "The factorial of 5 is: 120\n"
     ]
    }
   ],
   "source": [
    "# Input number\n",
    "number = 5  # You can change this value to calculate the factorial of a different number\n",
    "\n",
    "# Initialize the factorial variable\n",
    "factorial = 1\n",
    "\n",
    "# Use a for loop to calculate the factorial\n",
    "for i in range(1, number + 1):\n",
    "    factorial *= i\n",
    "\n",
    "# Print the result\n",
    "print(f\"The factorial of {number} is: {factorial}\")\n"
   ]
  },
  {
   "cell_type": "markdown",
   "id": "df6cfc0f-ae52-449e-8c4c-d75e3d0b294c",
   "metadata": {},
   "source": [
    "#### 8. How can you iterate through the characters of a string using a for loop in Python?\r\n"
   ]
  },
  {
   "cell_type": "code",
   "execution_count": 11,
   "id": "a7b7db22-d854-4379-acfd-8f6434cb6078",
   "metadata": {},
   "outputs": [
    {
     "name": "stdout",
     "output_type": "stream",
     "text": [
      "h\n",
      "e\n",
      "l\n",
      "l\n",
      "o\n"
     ]
    }
   ],
   "source": [
    "# Sample string\n",
    "my_string = \"hello\"\n",
    "\n",
    "# Using a for loop to iterate through the characters of the string\n",
    "for char in my_string:\n",
    "    print(char)\n"
   ]
  },
  {
   "cell_type": "markdown",
   "id": "77343436-47a1-479f-b7b7-27ed2a3c7b03",
   "metadata": {},
   "source": [
    "#### 9. Write a Python program to find the largest number in a list using a for loop.\n"
   ]
  },
  {
   "cell_type": "code",
   "execution_count": 13,
   "id": "4873e753-6be0-4052-9213-28b3fa96e56c",
   "metadata": {},
   "outputs": [
    {
     "name": "stdout",
     "output_type": "stream",
     "text": [
      "The largest number in the list is: 99\n"
     ]
    }
   ],
   "source": [
    "# Sample list\n",
    "numbers = [10, 24, 45, 99, 6, 33]\n",
    "\n",
    "# Initialize the variable to hold the largest number\n",
    "# Start with the first element of the list\n",
    "largest = numbers[0]\n",
    "\n",
    "# Use a for loop to iterate through the list\n",
    "for number in numbers:\n",
    "    # Update largest if the current number is greater\n",
    "    if number > largest:\n",
    "        largest = number\n",
    "\n",
    "# Print the result\n",
    "print(\"The largest number in the list is:\", largest)\n"
   ]
  },
  {
   "cell_type": "markdown",
   "id": "26bbbd27-f471-41c5-8519-a2cd47357ee8",
   "metadata": {},
   "source": [
    "#### 10. Create a Python program that prints the Fibonacci sequence up to a specified limit using a for loop.\n"
   ]
  },
  {
   "cell_type": "code",
   "execution_count": 14,
   "id": "2ff36ab5-4c9a-4cee-8c34-2b3c0aeaa4e3",
   "metadata": {},
   "outputs": [
    {
     "name": "stdout",
     "output_type": "stream",
     "text": [
      "Fibonacci sequence up to 100 :\n",
      "0 1 1 2 3 5 8 13 21 34 55 89 "
     ]
    }
   ],
   "source": [
    "# Specify the limit\n",
    "limit = 100  # You can change this value to set a different limit\n",
    "\n",
    "# Initialize the first two Fibonacci numbers\n",
    "a, b = 0, 1\n",
    "\n",
    "# Print the Fibonacci sequence up to the specified limit\n",
    "print(\"Fibonacci sequence up to\", limit, \":\")\n",
    "print(a, end=\" \")\n",
    "while b <= limit:\n",
    "    print(b, end=\" \")\n",
    "    a, b = b, a + b\n"
   ]
  },
  {
   "cell_type": "markdown",
   "id": "f5ccf6b6-1e7b-49b1-bf07-f80a676bc1cd",
   "metadata": {},
   "source": [
    "#### 11.Write a Python program to count the number of vowels in a given string using a for loop.\n"
   ]
  },
  {
   "cell_type": "code",
   "execution_count": 15,
   "id": "6c60a451-d89a-438e-a89e-b466227abc41",
   "metadata": {},
   "outputs": [
    {
     "name": "stdout",
     "output_type": "stream",
     "text": [
      "Number of vowels in the string: 3\n"
     ]
    }
   ],
   "source": [
    "# Function to count vowels in a string\n",
    "def count_vowels(input_string):\n",
    "    vowels = \"aeiouAEIOU\"  # Define the vowels\n",
    "    count = 0  # Initialize counter\n",
    "\n",
    "    # Iterate through each character in the string\n",
    "    for char in input_string:\n",
    "        if char in vowels:\n",
    "            count += 1  # Increment counter if character is a vowel\n",
    "\n",
    "    return count\n",
    "\n",
    "# Example usage\n",
    "input_string = \"Hello World\"\n",
    "vowel_count = count_vowels(input_string)\n",
    "print(\"Number of vowels in the string:\", vowel_count)\n"
   ]
  },
  {
   "cell_type": "markdown",
   "id": "39199a08-971d-4252-8020-52adc1007a94",
   "metadata": {},
   "source": [
    "#### 12. Create a Python program that generates a multiplication table for a given number using a for loop.\n"
   ]
  },
  {
   "cell_type": "code",
   "execution_count": 16,
   "id": "63ba45ed-459b-4d12-ac33-f84c212a2dc9",
   "metadata": {},
   "outputs": [
    {
     "name": "stdout",
     "output_type": "stream",
     "text": [
      "Multiplication table for 7:\n",
      "7 x 1 = 7\n",
      "7 x 2 = 14\n",
      "7 x 3 = 21\n",
      "7 x 4 = 28\n",
      "7 x 5 = 35\n",
      "7 x 6 = 42\n",
      "7 x 7 = 49\n",
      "7 x 8 = 56\n",
      "7 x 9 = 63\n",
      "7 x 10 = 70\n"
     ]
    }
   ],
   "source": [
    "# Function to generate multiplication table\n",
    "def multiplication_table(number):\n",
    "    print(f\"Multiplication table for {number}:\")\n",
    "    for i in range(1, 11):  # Generate table from 1 to 10\n",
    "        print(f\"{number} x {i} = {number * i}\")\n",
    "\n",
    "# Example usage\n",
    "number = 7  # Change this value to generate the table for a different number\n",
    "multiplication_table(number)\n"
   ]
  },
  {
   "cell_type": "markdown",
   "id": "fe9533b8-9f11-4828-9c84-3fe4f66d46c9",
   "metadata": {},
   "source": [
    "#### 13. Write a Python program to reverse a list using a for loop."
   ]
  },
  {
   "cell_type": "code",
   "execution_count": 17,
   "id": "f6b2e7ce-da28-477d-962b-a0bbdc0b9e20",
   "metadata": {},
   "outputs": [
    {
     "name": "stdout",
     "output_type": "stream",
     "text": [
      "Original list: [1, 2, 3, 4, 5]\n",
      "Reversed list: [5, 4, 3, 2, 1]\n"
     ]
    }
   ],
   "source": [
    "# Sample list\n",
    "my_list = [1, 2, 3, 4, 5]\n",
    "\n",
    "# Initialize an empty list to store the reversed elements\n",
    "reversed_list = []\n",
    "\n",
    "# Iterate through the original list in reverse order\n",
    "for i in range(len(my_list) - 1, -1, -1):\n",
    "    reversed_list.append(my_list[i])\n",
    "\n",
    "# Print the original and reversed lists\n",
    "print(\"Original list:\", my_list)\n",
    "print(\"Reversed list:\", reversed_list)\n"
   ]
  },
  {
   "cell_type": "markdown",
   "id": "191fedc7-8d92-4bf0-98fb-997a0caf8ba0",
   "metadata": {},
   "source": [
    "#### 14. Write a Python program to find the common elements between two lists using a for loop.\n"
   ]
  },
  {
   "cell_type": "code",
   "execution_count": 18,
   "id": "10867735-32f8-4460-ae33-03e0668f9d9b",
   "metadata": {},
   "outputs": [
    {
     "name": "stdout",
     "output_type": "stream",
     "text": [
      "Common elements between list1 and list2: [3, 4, 5]\n"
     ]
    }
   ],
   "source": [
    "# Sample lists\n",
    "list1 = [1, 2, 3, 4, 5]\n",
    "list2 = [3, 4, 5, 6, 7]\n",
    "\n",
    "# Initialize an empty list to store common elements\n",
    "common_elements = []\n",
    "\n",
    "# Iterate through elements of list1\n",
    "for element in list1:\n",
    "    # Check if element is also in list2 and not already in common_elements\n",
    "    if element in list2 and element not in common_elements:\n",
    "        common_elements.append(element)\n",
    "\n",
    "# Print the common elements found\n",
    "print(\"Common elements between list1 and list2:\", common_elements)\n"
   ]
  },
  {
   "cell_type": "markdown",
   "id": "c484f559-6f88-41a3-aa1a-e945fc80c004",
   "metadata": {},
   "source": [
    "#### 15. Explain how to use a for loop to iterate through the keys and values of a dictionary in Python.\n"
   ]
  },
  {
   "cell_type": "code",
   "execution_count": 19,
   "id": "f7391e81-fd8a-4e1a-a613-c55b408429b8",
   "metadata": {},
   "outputs": [
    {
     "name": "stdout",
     "output_type": "stream",
     "text": [
      "Key: a, Value: 1\n",
      "Key: b, Value: 2\n",
      "Key: c, Value: 3\n"
     ]
    }
   ],
   "source": [
    "my_dict = {'a': 1, 'b': 2, 'c': 3}\n",
    "\n",
    "# Using for loop to iterate through keys and values\n",
    "for key, value in my_dict.items():\n",
    "    print(f\"Key: {key}, Value: {value}\")\n"
   ]
  },
  {
   "cell_type": "markdown",
   "id": "690213c2-894f-4fe9-8c37-9e66f29ccb10",
   "metadata": {},
   "source": [
    "#### 16. Write a Python program to find the GCD (Greatest Common Divisor) of two numbers using a for loop.\n"
   ]
  },
  {
   "cell_type": "code",
   "execution_count": 20,
   "id": "dae75b08-ffe1-434a-bf1d-c409f9f74877",
   "metadata": {},
   "outputs": [
    {
     "name": "stdout",
     "output_type": "stream",
     "text": [
      "The GCD of 24 and 36 is: 12\n"
     ]
    }
   ],
   "source": [
    "# Function to find GCD of two numbers\n",
    "def find_gcd(x, y):\n",
    "    # Determine the smaller number between x and y\n",
    "    smaller = min(x, y)\n",
    "    gcd = 1  # Initialize gcd to 1\n",
    "\n",
    "    # Iterate from 1 to the smaller number\n",
    "    for i in range(1, smaller + 1):\n",
    "        if x % i == 0 and y % i == 0:\n",
    "            gcd = i  # Update gcd when both numbers are divisible by i\n",
    "\n",
    "    return gcd\n",
    "\n",
    "# Example usage\n",
    "num1 = 24\n",
    "num2 = 36\n",
    "gcd = find_gcd(num1, num2)\n",
    "print(f\"The GCD of {num1} and {num2} is:\", gcd)\n"
   ]
  },
  {
   "cell_type": "markdown",
   "id": "8643d70d-8433-4580-b6cc-04612de6e2fa",
   "metadata": {},
   "source": [
    "#### 17. Create a Python program that checks if a string is a palindrome using a for loop.\n"
   ]
  },
  {
   "cell_type": "code",
   "execution_count": 21,
   "id": "dd82e871-0c3a-456a-9c33-5ba6c20c0b16",
   "metadata": {},
   "outputs": [
    {
     "name": "stdout",
     "output_type": "stream",
     "text": [
      "Yes\n"
     ]
    }
   ],
   "source": [
    "def isPalindrome(str):\n",
    "\n",
    "    # Run loop from 0 to len/2\n",
    "    for i in range(0, int(len(str)/2)):\n",
    "        if str[i] != str[len(str)-i-1]:\n",
    "            return False\n",
    "    return True\n",
    "\n",
    "# main function\n",
    "s = \"malayalam\"\n",
    "ans = isPalindrome(s)\n",
    "\n",
    "if (ans):\n",
    "    print(\"Yes\")\n",
    "else:\n",
    "    print(\"No\")"
   ]
  },
  {
   "cell_type": "markdown",
   "id": "f3c61437-a6ab-4879-9967-f8b8e5df229a",
   "metadata": {},
   "source": [
    "#### 18. Write a Python program to remove duplicates from a list using a for loop.\n"
   ]
  },
  {
   "cell_type": "code",
   "execution_count": 22,
   "id": "8ac0da4e-98d6-460a-9541-3430282bed2f",
   "metadata": {},
   "outputs": [
    {
     "name": "stdout",
     "output_type": "stream",
     "text": [
      "Original list: [1, 2, 3, 2, 4, 5, 3, 6]\n",
      "List with duplicates removed: [1, 2, 3, 4, 5, 6]\n"
     ]
    }
   ],
   "source": [
    "# Sample list with duplicates\n",
    "my_list = [1, 2, 3, 2, 4, 5, 3, 6]\n",
    "\n",
    "# Initialize an empty list to store unique elements\n",
    "unique_list = []\n",
    "\n",
    "# Iterate through the original list\n",
    "for item in my_list:\n",
    "    # Add the item to unique_list only if it's not already there\n",
    "    if item not in unique_list:\n",
    "        unique_list.append(item)\n",
    "\n",
    "# Print the original and unique lists\n",
    "print(\"Original list:\", my_list)\n",
    "print(\"List with duplicates removed:\", unique_list)\n"
   ]
  },
  {
   "cell_type": "markdown",
   "id": "4a679761-da13-4f15-a440-1158efb660b4",
   "metadata": {},
   "source": [
    "#### 19. Create a Python program that counts the number of words in a sentence using a for loop.\n"
   ]
  },
  {
   "cell_type": "code",
   "execution_count": 23,
   "id": "06341120-bdce-476a-ad95-71782232b215",
   "metadata": {},
   "outputs": [
    {
     "name": "stdout",
     "output_type": "stream",
     "text": [
      "Number of words in the sentence: 5\n"
     ]
    }
   ],
   "source": [
    "# Sample sentence\n",
    "sentence = \"Hello, how are you today?\"\n",
    "\n",
    "# Initialize a variable to count words\n",
    "word_count = 0\n",
    "\n",
    "# Iterate through each character in the sentence\n",
    "for char in sentence:\n",
    "    # Increment word_count when a space is encountered (assuming words are separated by spaces)\n",
    "    if char == ' ':\n",
    "        word_count += 1\n",
    "\n",
    "# Add 1 to word_count to account for the last word after the final space\n",
    "word_count += 1\n",
    "\n",
    "# Print the number of words in the sentence\n",
    "print(\"Number of words in the sentence:\", word_count)\n"
   ]
  },
  {
   "cell_type": "markdown",
   "id": "9a661405-8caa-4cb8-b094-51939d4ea41b",
   "metadata": {},
   "source": [
    "#### 20. Write a Python program to find the sum of all odd numbers from 1 to 50 using a for loop.\n"
   ]
  },
  {
   "cell_type": "code",
   "execution_count": 24,
   "id": "71968ab5-3acc-4e69-899e-ccf3bdbeac0f",
   "metadata": {},
   "outputs": [
    {
     "name": "stdout",
     "output_type": "stream",
     "text": [
      "Sum of odd numbers from 1 to 50: 625\n"
     ]
    }
   ],
   "source": [
    "# Initialize sum variable to store the sum of odd numbers\n",
    "sum_odd_numbers = 0\n",
    "\n",
    "# Use a for loop to iterate from 1 to 50\n",
    "for number in range(1, 51):\n",
    "    # Check if the number is odd\n",
    "    if number % 2 != 0:\n",
    "        sum_odd_numbers += number\n",
    "\n",
    "# Print the sum of odd numbers\n",
    "print(\"Sum of odd numbers from 1 to 50:\", sum_odd_numbers)\n"
   ]
  },
  {
   "cell_type": "markdown",
   "id": "da020239-704f-4a9f-9d6b-56c44f73ddbd",
   "metadata": {},
   "source": [
    "#### 21. Write a Python program that checks if a given year is a leap year using a for loop.\n"
   ]
  },
  {
   "cell_type": "code",
   "execution_count": 25,
   "id": "fc8db1fc-0f95-4ee2-b1b8-21e6c474d13d",
   "metadata": {},
   "outputs": [
    {
     "name": "stdout",
     "output_type": "stream",
     "text": [
      "2024 is a leap year.\n"
     ]
    }
   ],
   "source": [
    "# Function to check if a year is a leap year\n",
    "def is_leap_year(year):\n",
    "    if (year % 4 == 0 and year % 100 != 0) or (year % 400 == 0):\n",
    "        return True\n",
    "    else:\n",
    "        return False\n",
    "\n",
    "# Example usage\n",
    "year = 2024  # Change this value to test different years\n",
    "if is_leap_year(year):\n",
    "    print(f\"{year} is a leap year.\")\n",
    "else:\n",
    "    print(f\"{year} is not a leap year.\")\n"
   ]
  },
  {
   "cell_type": "markdown",
   "id": "abff5ed2-fbe5-453c-b9ba-7af4d8ee3091",
   "metadata": {},
   "source": [
    "#### 22. Create a Python program that calculates the square root of a number using a for loop.\n"
   ]
  },
  {
   "cell_type": "code",
   "execution_count": 26,
   "id": "40c458f8-dea0-40dc-adcc-9b822b637fa5",
   "metadata": {},
   "outputs": [
    {
     "name": "stdout",
     "output_type": "stream",
     "text": [
      "The square root of 25 is approximately: 5.0\n"
     ]
    }
   ],
   "source": [
    "# Number for which square root will be calculated\n",
    "number = 25\n",
    "\n",
    "# Initial guess for square root\n",
    "sqrt = number ** 0.5\n",
    "\n",
    "# Iterate to improve the guess\n",
    "for _ in range(10):  # Adjust the number of iterations for desired accuracy\n",
    "    sqrt = (sqrt + number / sqrt) / 2\n",
    "\n",
    "# Print the square root\n",
    "print(f\"The square root of {number} is approximately: {sqrt}\")\n"
   ]
  },
  {
   "cell_type": "markdown",
   "id": "62f59875-0b12-41be-87ce-e949c626d882",
   "metadata": {},
   "source": [
    "#### 23. Write a Python program to find the LCM (Least Common Multiple) of two numbers using a for loop.\n"
   ]
  },
  {
   "cell_type": "code",
   "execution_count": 27,
   "id": "28ca3070-6565-4b2b-94b1-d86393e8664d",
   "metadata": {},
   "outputs": [
    {
     "name": "stdout",
     "output_type": "stream",
     "text": [
      "The LCM of 12 and 15 is: 60\n"
     ]
    }
   ],
   "source": [
    "# Function to calculate GCD (Greatest Common Divisor) using Euclid's algorithm\n",
    "def gcd(x, y):\n",
    "    while y:\n",
    "        x, y = y, x % y\n",
    "    return x\n",
    "\n",
    "# Function to calculate LCM (Least Common Multiple)\n",
    "def lcm(a, b):\n",
    "    return abs(a * b) // gcd(a, b)\n",
    "\n",
    "# Example usage\n",
    "num1 = 12\n",
    "num2 = 15\n",
    "lcm_result = lcm(num1, num2)\n",
    "print(f\"The LCM of {num1} and {num2} is:\", lcm_result)\n"
   ]
  },
  {
   "cell_type": "markdown",
   "id": "4cc8b69f-cc60-4866-bfcb-dba4a5d2e8cb",
   "metadata": {},
   "source": [
    "### IF-ELSE"
   ]
  },
  {
   "cell_type": "markdown",
   "id": "cdd209f2-63bc-470d-baad-37d595d9c2e4",
   "metadata": {},
   "source": [
    "#### 1. Write a Python program to check if a number is positive, negative, or zero using an if-else statement.\n"
   ]
  },
  {
   "cell_type": "code",
   "execution_count": 30,
   "id": "5453b116-d32a-4460-a7cf-14464007263f",
   "metadata": {},
   "outputs": [
    {
     "name": "stdin",
     "output_type": "stream",
     "text": [
      "Enter a number:  45\n"
     ]
    },
    {
     "name": "stdout",
     "output_type": "stream",
     "text": [
      "The number is positive.\n"
     ]
    }
   ],
   "source": [
    "# Input number\n",
    "number = float(input(\"Enter a number: \"))\n",
    "\n",
    "# Check if the number is positive, negative, or zero\n",
    "if number > 0:\n",
    "    print(\"The number is positive.\")\n",
    "else:\n",
    "    print(\"The number is negative.\")\n",
    "\n"
   ]
  },
  {
   "cell_type": "markdown",
   "id": "cf62d328-8ddd-4451-aa2e-4010019b65a2",
   "metadata": {},
   "source": [
    "#### 2. Create a Python program that checks if a given number is even or odd using an if-else statement.\n"
   ]
  },
  {
   "cell_type": "code",
   "execution_count": 34,
   "id": "437b3c96-f11c-4be0-a6e2-3bad2bca7355",
   "metadata": {},
   "outputs": [
    {
     "name": "stdin",
     "output_type": "stream",
     "text": [
      "Enter a number: 45\n"
     ]
    },
    {
     "name": "stdout",
     "output_type": "stream",
     "text": [
      "The number is an odd number\n"
     ]
    }
   ],
   "source": [
    "number = int(input(\"Enter a number:\"))\n",
    "if number%2==0:\n",
    "    print(\"The number is an even number\")\n",
    "else:\n",
    "    print(\"The number is an odd number\")"
   ]
  },
  {
   "cell_type": "markdown",
   "id": "1994c7ed-9c82-4bb0-9611-0becf4dfefe8",
   "metadata": {},
   "source": [
    "#### 3. How can you use nested if-else statements in Python, and provide an example?\n"
   ]
  },
  {
   "cell_type": "code",
   "execution_count": 35,
   "id": "9ccd5698-0d84-4592-b67e-48fbad1fdca4",
   "metadata": {},
   "outputs": [
    {
     "name": "stdout",
     "output_type": "stream",
     "text": [
      "For a score of 85, the grade is: B+\n"
     ]
    }
   ],
   "source": [
    "# Example: Checking grade based on score\n",
    "score = 85\n",
    "\n",
    "if score >= 90:\n",
    "    grade = 'A'\n",
    "    if score >= 95:\n",
    "        grade += '+'  # Append '+' for scores 95 and above\n",
    "elif score >= 80:\n",
    "    grade = 'B'\n",
    "    if score >= 85:\n",
    "        grade += '+'  # Append '+' for scores 85 to 89\n",
    "elif score >= 70:\n",
    "    grade = 'C'\n",
    "    if score >= 75:\n",
    "        grade += '+'  # Append '+' for scores 75 to 79\n",
    "elif score >= 60:\n",
    "    grade = 'D'\n",
    "else:\n",
    "    grade = 'F'\n",
    "\n",
    "print(f\"For a score of {score}, the grade is: {grade}\")\n"
   ]
  },
  {
   "cell_type": "markdown",
   "id": "d0d807ae-c4f2-412e-8a95-3f216ec51525",
   "metadata": {},
   "source": [
    "#### 4. Write a Python program to determine the largest of three numbers using if-else.\n"
   ]
  },
  {
   "cell_type": "code",
   "execution_count": 36,
   "id": "dbe51f44-fbbe-492b-bcf5-30f2b774d247",
   "metadata": {},
   "outputs": [
    {
     "name": "stdin",
     "output_type": "stream",
     "text": [
      "Enter the first number:  2\n",
      "Enter the second number:  45\n",
      "Enter the third number:  25\n"
     ]
    },
    {
     "name": "stdout",
     "output_type": "stream",
     "text": [
      "The largest number among 2.0, 45.0, and 25.0 is: 45.0\n"
     ]
    }
   ],
   "source": [
    "# Input three numbers\n",
    "num1 = float(input(\"Enter the first number: \"))\n",
    "num2 = float(input(\"Enter the second number: \"))\n",
    "num3 = float(input(\"Enter the third number: \"))\n",
    "\n",
    "# Determine the largest number using if-else statements\n",
    "if num1 >= num2 and num1 >= num3:\n",
    "    largest = num1\n",
    "elif num2 >= num1 and num2 >= num3:\n",
    "    largest = num2\n",
    "else:\n",
    "    largest = num3\n",
    "\n",
    "# Print the largest number\n",
    "print(f\"The largest number among {num1}, {num2}, and {num3} is: {largest}\")\n"
   ]
  },
  {
   "cell_type": "markdown",
   "id": "0f8ed9d0-79c0-4f2b-bac4-c18471cbf2d7",
   "metadata": {},
   "source": [
    "#### 5. Write a Python program that calculates the absolute value of a number using if-else.\n"
   ]
  },
  {
   "cell_type": "code",
   "execution_count": 37,
   "id": "e70a8091-70d6-4519-b9df-f8b21b13289e",
   "metadata": {},
   "outputs": [
    {
     "name": "stdin",
     "output_type": "stream",
     "text": [
      "Enter a number:  -4\n"
     ]
    },
    {
     "name": "stdout",
     "output_type": "stream",
     "text": [
      "The absolute value of -4.0 is: 4.0\n"
     ]
    }
   ],
   "source": [
    "# Input a number\n",
    "number = float(input(\"Enter a number: \"))\n",
    "\n",
    "# Calculate the absolute value using if-else statements\n",
    "if number >= 0:\n",
    "    abs_value = number\n",
    "else:\n",
    "    abs_value = -number\n",
    "\n",
    "# Print the absolute value\n",
    "print(f\"The absolute value of {number} is: {abs_value}\")\n"
   ]
  },
  {
   "cell_type": "markdown",
   "id": "e88b5f68-bc47-4978-9675-1e6ad2498055",
   "metadata": {},
   "source": [
    "#### 6. Create a Python program that checks if a given character is a vowel or consonant using if-else.\n"
   ]
  },
  {
   "cell_type": "code",
   "execution_count": 39,
   "id": "17662ad1-fe49-4487-a969-5311c7073d28",
   "metadata": {},
   "outputs": [
    {
     "name": "stdin",
     "output_type": "stream",
     "text": [
      "Enter a character:  j\n"
     ]
    },
    {
     "name": "stdout",
     "output_type": "stream",
     "text": [
      "The character 'j' is a consonant.\n"
     ]
    }
   ],
   "source": [
    "# Input a character (assuming single character input)\n",
    "char = input(\"Enter a character: \")\n",
    "\n",
    "# Convert the character to lowercase to handle case insensitivity\n",
    "char = char.lower()\n",
    "\n",
    "# Check if the character is a vowel or consonant using if-else statements\n",
    "if char.isalpha() and len(char) == 1:  # Check if input is a single alphabetic character\n",
    "    if char in 'aeiou':\n",
    "        print(f\"The character '{char}' is a vowel.\")\n",
    "    else:\n",
    "        print(f\"The character '{char}' is a consonant.\")\n",
    "else:\n",
    "    print(\"Invalid input. Please enter a single alphabetic character.\")\n"
   ]
  },
  {
   "cell_type": "markdown",
   "id": "a4c5b4d6-2e88-411a-b99d-9165e208bf2b",
   "metadata": {},
   "source": [
    "#### 7. Write a Python program to determine if a user is eligible to vote based on their age using if-else.\n"
   ]
  },
  {
   "cell_type": "code",
   "execution_count": 40,
   "id": "20d99ff8-07dc-4be5-aabd-283106c8aa68",
   "metadata": {},
   "outputs": [
    {
     "name": "stdin",
     "output_type": "stream",
     "text": [
      "Enter your age:  22\n"
     ]
    },
    {
     "name": "stdout",
     "output_type": "stream",
     "text": [
      "You are eligible to vote.\n"
     ]
    }
   ],
   "source": [
    "# Input the age as an integer\n",
    "age = int(input(\"Enter your age: \"))\n",
    "\n",
    "# Check if the user is eligible to vote using if-else statements\n",
    "if age >= 18:\n",
    "    print(\"You are eligible to vote.\")\n",
    "else:\n",
    "    print(\"You are not eligible to vote yet.\")\n"
   ]
  },
  {
   "cell_type": "markdown",
   "id": "168b8d4d-6be9-40f5-80af-7f5afc86f0a9",
   "metadata": {},
   "source": [
    "#### 8. Create a Python program that calculates the discount amount based on the purchase amount using if-else.\n"
   ]
  },
  {
   "cell_type": "code",
   "execution_count": 43,
   "id": "5ba35b1b-713c-453f-8c88-3fe94230a572",
   "metadata": {},
   "outputs": [
    {
     "name": "stdin",
     "output_type": "stream",
     "text": [
      "Enter the purchase amount:  3000\n"
     ]
    },
    {
     "name": "stdout",
     "output_type": "stream",
     "text": [
      "Discount Amount: $300.00\n"
     ]
    }
   ],
   "source": [
    "# Input the purchase amount\n",
    "purchase_amount = float(input(\"Enter the purchase amount: \"))\n",
    "\n",
    "# Initialize discount percentage based on purchase amount\n",
    "if purchase_amount >= 1000:\n",
    "    discount_percent = 10\n",
    "elif purchase_amount >= 500:\n",
    "    discount_percent = 5\n",
    "else:\n",
    "    discount_percent = 0\n",
    "\n",
    "# Calculate discount amount\n",
    "discount_amount = (discount_percent / 100) * purchase_amount\n",
    "\n",
    "# Print the discount amount\n",
    "print(f\"Discount Amount: ${discount_amount:.2f}\")\n"
   ]
  },
  {
   "cell_type": "markdown",
   "id": "246d2d70-0e68-41a3-b070-741c782b27a3",
   "metadata": {},
   "source": [
    "#### 9. Write a Python program to check if a number is within a specified range using if-else.\n"
   ]
  },
  {
   "cell_type": "code",
   "execution_count": 44,
   "id": "35ded400-4e1f-44c5-a19c-d6479ae3af05",
   "metadata": {},
   "outputs": [
    {
     "name": "stdin",
     "output_type": "stream",
     "text": [
      "Enter a number:  45\n"
     ]
    },
    {
     "name": "stdout",
     "output_type": "stream",
     "text": [
      "The number 45.0 is within the range [10, 50].\n"
     ]
    }
   ],
   "source": [
    "# Define the range boundaries\n",
    "lower_bound = 10\n",
    "upper_bound = 50\n",
    "\n",
    "# Input the number to check\n",
    "number = float(input(\"Enter a number: \"))\n",
    "\n",
    "# Check if the number is within the specified range using if-else statements\n",
    "if number >= lower_bound and number <= upper_bound:\n",
    "    print(f\"The number {number} is within the range [{lower_bound}, {upper_bound}].\")\n",
    "else:\n",
    "    print(f\"The number {number} is not within the range [{lower_bound}, {upper_bound}].\")\n"
   ]
  },
  {
   "cell_type": "markdown",
   "id": "e66c1c1c-1b71-4268-9f59-4e6c6a7cb233",
   "metadata": {},
   "source": [
    "#### 10. Create a Python program that determines the grade of a student based on their score using if-else.\n"
   ]
  },
  {
   "cell_type": "code",
   "execution_count": 45,
   "id": "c918c8ac-5b58-48fa-ae7a-592ee91c54d4",
   "metadata": {},
   "outputs": [
    {
     "name": "stdin",
     "output_type": "stream",
     "text": [
      "Enter the score:  58\n"
     ]
    },
    {
     "name": "stdout",
     "output_type": "stream",
     "text": [
      "For a score of 58, the grade is: F\n"
     ]
    }
   ],
   "source": [
    "# Input the score as an integer\n",
    "score = int(input(\"Enter the score: \"))\n",
    "\n",
    "# Determine the grade based on the score using if-else statements\n",
    "if score >= 90:\n",
    "    grade = 'A'\n",
    "elif score >= 80:\n",
    "    grade = 'B'\n",
    "elif score >= 70:\n",
    "    grade = 'C'\n",
    "elif score >= 60:\n",
    "    grade = 'D'\n",
    "else:\n",
    "    grade = 'F'\n",
    "\n",
    "# Print the grade\n",
    "print(f\"For a score of {score}, the grade is: {grade}\")\n"
   ]
  },
  {
   "cell_type": "markdown",
   "id": "147ff5c2-eed2-492e-b1aa-0fee25077b98",
   "metadata": {},
   "source": [
    "#### 11. Write a Python program to check if a string is empty or not using if-else.\n"
   ]
  },
  {
   "cell_type": "code",
   "execution_count": 46,
   "id": "052dfc92-6bd8-4cb2-96ef-9d5cc7fa8684",
   "metadata": {},
   "outputs": [
    {
     "name": "stdin",
     "output_type": "stream",
     "text": [
      "Enter a string:  jasmine\n"
     ]
    },
    {
     "name": "stdout",
     "output_type": "stream",
     "text": [
      "The string is not empty.\n"
     ]
    }
   ],
   "source": [
    "# Input a string\n",
    "input_string = input(\"Enter a string: \")\n",
    "\n",
    "# Check if the string is empty or not using if-else statements\n",
    "if input_string:\n",
    "    print(\"The string is not empty.\")\n",
    "else:\n",
    "    print(\"The string is empty.\")\n"
   ]
  },
  {
   "cell_type": "markdown",
   "id": "37c9d0aa-bccf-40e5-93a7-1ec8f0e11652",
   "metadata": {},
   "source": [
    "#### 12. Create a Python program that identifies the type of a triangle (e.g., equilateral, isosceles, or scalene) based on input values using if-else.\n"
   ]
  },
  {
   "cell_type": "code",
   "execution_count": 47,
   "id": "433d8d76-23ed-471d-a254-f461d37da138",
   "metadata": {},
   "outputs": [
    {
     "name": "stdin",
     "output_type": "stream",
     "text": [
      "Enter the length of side 1:  45\n",
      "Enter the length of side 2:  45\n",
      "Enter the length of side 3:  47\n"
     ]
    },
    {
     "name": "stdout",
     "output_type": "stream",
     "text": [
      "The triangle with sides 45.0, 45.0, 47.0 is a isosceles triangle.\n"
     ]
    }
   ],
   "source": [
    "# Input side lengths of the triangle\n",
    "side1 = float(input(\"Enter the length of side 1: \"))\n",
    "side2 = float(input(\"Enter the length of side 2: \"))\n",
    "side3 = float(input(\"Enter the length of side 3: \"))\n",
    "\n",
    "# Check if the triangle is valid (sum of any two sides must be greater than the third side)\n",
    "if side1 + side2 > side3 and side1 + side3 > side2 and side2 + side3 > side1:\n",
    "    # Determine the type of triangle using if-else statements\n",
    "    if side1 == side2 == side3:\n",
    "        triangle_type = \"equilateral\"\n",
    "    elif side1 == side2 or side1 == side3 or side2 == side3:\n",
    "        triangle_type = \"isosceles\"\n",
    "    else:\n",
    "        triangle_type = \"scalene\"\n",
    "    \n",
    "    # Print the type of triangle\n",
    "    print(f\"The triangle with sides {side1}, {side2}, {side3} is a {triangle_type} triangle.\")\n",
    "else:\n",
    "    print(\"The input sides do not form a valid triangle.\")\n"
   ]
  },
  {
   "cell_type": "markdown",
   "id": "e2030d2f-4322-4f7d-a41c-91e6e7a57a3f",
   "metadata": {},
   "source": [
    "#### 13. Write a Python program to determine the day of the week based on a user-provided number using if-else.\n"
   ]
  },
  {
   "cell_type": "code",
   "execution_count": 50,
   "id": "0f3da356-55c5-44be-963f-20757eb0844a",
   "metadata": {},
   "outputs": [
    {
     "name": "stdin",
     "output_type": "stream",
     "text": [
      "Enter a number (1-7) to determine the day of the week:  7\n"
     ]
    },
    {
     "name": "stdout",
     "output_type": "stream",
     "text": [
      "The day corresponding to 7 is Sunday.\n"
     ]
    }
   ],
   "source": [
    "# Input a number representing the day of the week (1 for Monday, 2 for Tuesday, ..., 7 for Sunday)\n",
    "day_number = int(input(\"Enter a number (1-7) to determine the day of the week: \"))\n",
    "\n",
    "# Determine the day of the week using if-else statements\n",
    "if day_number == 1:\n",
    "    day_name = \"Monday\"\n",
    "elif day_number == 2:\n",
    "    day_name = \"Tuesday\"\n",
    "elif day_number == 3:\n",
    "    day_name = \"Wednesday\"\n",
    "elif day_number == 4:\n",
    "    day_name = \"Thursday\"\n",
    "elif day_number == 5:\n",
    "    day_name = \"Friday\"\n",
    "elif day_number == 6:\n",
    "    day_name = \"Saturday\"\n",
    "elif day_number == 7:\n",
    "    day_name = \"Sunday\"\n",
    "else:\n",
    "    day_name = \"Invalid day number\"\n",
    "\n",
    "# Print the day of the week\n",
    "print(f\"The day corresponding to {day_number} is {day_name}.\")\n"
   ]
  },
  {
   "cell_type": "markdown",
   "id": "72441230-f0a4-4786-b156-cb5583ea52e7",
   "metadata": {},
   "source": [
    "#### 14. Create a Python program that checks if a given year is a leap year using both if-else and a function.\n"
   ]
  },
  {
   "cell_type": "code",
   "execution_count": 51,
   "id": "a61d5f0a-552e-4354-9c35-a5ea7fe935b2",
   "metadata": {},
   "outputs": [
    {
     "name": "stdin",
     "output_type": "stream",
     "text": [
      "Enter a year:  2022\n"
     ]
    },
    {
     "name": "stdout",
     "output_type": "stream",
     "text": [
      "2022 is not a leap year.\n"
     ]
    }
   ],
   "source": [
    "# Function to check if a year is a leap year\n",
    "def is_leap_year(year):\n",
    "    if (year % 4 == 0 and year % 100 != 0) or (year % 400 == 0):\n",
    "        return True\n",
    "    else:\n",
    "        return False\n",
    "\n",
    "# Input the year as an integer\n",
    "year = int(input(\"Enter a year: \"))\n",
    "\n",
    "# Call the function and print the result\n",
    "if is_leap_year(year):\n",
    "    print(f\"{year} is a leap year.\")\n",
    "else:\n",
    "    print(f\"{year} is not a leap year.\")\n"
   ]
  },
  {
   "cell_type": "markdown",
   "id": "a9f90a2a-859b-4488-97ec-c1d1d5bc6987",
   "metadata": {},
   "source": [
    "#### 15. How do you use the \"assert\" statement in Python to add debugging checks within if-else blocks?\n"
   ]
  },
  {
   "cell_type": "markdown",
   "id": "d0aa6502-fff0-4159-bac3-2edc6d6c5170",
   "metadata": {},
   "source": [
    " #### The assert statement is used to assert or enforce that a condition is true. It's commonly used during debugging to add sanity checks within your code."
   ]
  },
  {
   "cell_type": "code",
   "execution_count": 52,
   "id": "b0f2f2f4-3998-479e-9240-c25e556ad762",
   "metadata": {},
   "outputs": [
    {
     "name": "stdout",
     "output_type": "stream",
     "text": [
      "x is less than or equal to 10\n",
      "x is greater than 10\n"
     ]
    }
   ],
   "source": [
    "def example_function(x):\n",
    "    assert x > 0, \"Value of x must be greater than 0\"\n",
    "    \n",
    "    if x > 10:\n",
    "        print(\"x is greater than 10\")\n",
    "    else:\n",
    "        print(\"x is less than or equal to 10\")\n",
    "\n",
    "# Example usage:\n",
    "example_function(5)   # Output: x is less than or equal to 10\n",
    "example_function(15)  # Output: x is greater than 10\n"
   ]
  },
  {
   "cell_type": "markdown",
   "id": "ddf4723f-1da6-45a9-8143-80c0c85a74b7",
   "metadata": {},
   "source": [
    "#### 16. Create a Python program that determines the eligibility of a person for a senior citizen discount based on age using if-else.\n"
   ]
  },
  {
   "cell_type": "code",
   "execution_count": 53,
   "id": "fbba1c98-77b4-493c-acbf-c475e296ad9c",
   "metadata": {},
   "outputs": [
    {
     "name": "stdin",
     "output_type": "stream",
     "text": [
      "Enter your age:  65\n"
     ]
    },
    {
     "name": "stdout",
     "output_type": "stream",
     "text": [
      "You are eligible for a senior citizen discount!\n"
     ]
    }
   ],
   "source": [
    "def check_senior_citizen(age):\n",
    "    if age >= 60:\n",
    "        print(\"You are eligible for a senior citizen discount!\")\n",
    "    else:\n",
    "        print(\"Sorry, you are not eligible for a senior citizen discount.\")\n",
    "\n",
    "# Example usage:\n",
    "age = int(input(\"Enter your age: \"))\n",
    "check_senior_citizen(age)\n"
   ]
  },
  {
   "cell_type": "markdown",
   "id": "457988cb-2a92-4949-aba7-5585c88a0ed2",
   "metadata": {},
   "source": [
    "#### 17. Write a Python program to categorize a given character as uppercase, lowercase, or neither using if-else.\n"
   ]
  },
  {
   "cell_type": "code",
   "execution_count": 55,
   "id": "a503d42d-e8c4-4534-8ffc-be6e73cfc4be",
   "metadata": {},
   "outputs": [
    {
     "name": "stdin",
     "output_type": "stream",
     "text": [
      "Enter a character:  J\n"
     ]
    },
    {
     "name": "stdout",
     "output_type": "stream",
     "text": [
      "The character 'J' is uppercase.\n"
     ]
    }
   ],
   "source": [
    "def categorize_character(char):\n",
    "    if char.isupper():\n",
    "        print(f\"The character '{char}' is uppercase.\")\n",
    "    elif char.islower():\n",
    "        print(f\"The character '{char}' is lowercase.\")\n",
    "    else:\n",
    "        print(f\"The character '{char}' is neither uppercase nor lowercase.\")\n",
    "\n",
    "# Example usage:\n",
    "character = input(\"Enter a character: \")[0]  # Take the first character of input\n",
    "categorize_character(character)\n"
   ]
  },
  {
   "cell_type": "markdown",
   "id": "6f080da5-b8ae-41c2-a0ee-e363ce1e5c98",
   "metadata": {},
   "source": [
    "#### 18. Write a Python program to determine the roots of a quadratic equation using if-else.\n"
   ]
  },
  {
   "cell_type": "code",
   "execution_count": 56,
   "id": "a849012e-224a-4d88-9fcb-bf85909f13df",
   "metadata": {},
   "outputs": [
    {
     "name": "stdout",
     "output_type": "stream",
     "text": [
      "The equation has two distinct real roots:\n",
      "Root 1 = 2.0\n",
      "Root 2 = 1.0\n"
     ]
    }
   ],
   "source": [
    "import math\n",
    "\n",
    "def calculate_roots(a, b, c):\n",
    "    # Calculate the discriminant\n",
    "    discriminant = b**2 - 4*a*c\n",
    "    \n",
    "    if discriminant > 0:\n",
    "        # Two distinct real roots\n",
    "        root1 = (-b + math.sqrt(discriminant)) / (2*a)\n",
    "        root2 = (-b - math.sqrt(discriminant)) / (2*a)\n",
    "        print(f\"The equation has two distinct real roots:\")\n",
    "        print(f\"Root 1 = {root1}\")\n",
    "        print(f\"Root 2 = {root2}\")\n",
    "    elif discriminant == 0:\n",
    "        # One real root (repeated)\n",
    "        root = -b / (2*a)\n",
    "        print(f\"The equation has one real root:\")\n",
    "        print(f\"Root = {root}\")\n",
    "    else:\n",
    "        # Complex roots\n",
    "        real_part = -b / (2*a)\n",
    "        imag_part = math.sqrt(abs(discriminant)) / (2*a)\n",
    "        print(f\"The equation has complex roots:\")\n",
    "        print(f\"Root 1 = {real_part} + {imag_part}i\")\n",
    "        print(f\"Root 2 = {real_part} - {imag_part}i\")\n",
    "\n",
    "# Example usage:\n",
    "a = 1\n",
    "b = -3\n",
    "c = 2\n",
    "calculate_roots(a, b, c)\n"
   ]
  },
  {
   "cell_type": "markdown",
   "id": "bbb6a3ac-231a-44c3-bbc4-621cec50b96a",
   "metadata": {},
   "source": [
    "#### 19. Create a Python program that checks if a given year is a century year or not using if-else.\n"
   ]
  },
  {
   "cell_type": "code",
   "execution_count": 58,
   "id": "b5f15522-93ee-4944-8d70-2283f561a1e8",
   "metadata": {},
   "outputs": [
    {
     "name": "stdin",
     "output_type": "stream",
     "text": [
      "Enter a year:  2000\n"
     ]
    },
    {
     "name": "stdout",
     "output_type": "stream",
     "text": [
      "2000 is a century year.\n"
     ]
    }
   ],
   "source": [
    "def is_century_year(year):\n",
    "    if year % 100 == 0:\n",
    "        print(f\"{year} is a century year.\")\n",
    "    else:\n",
    "        print(f\"{year} is not a century year.\")\n",
    "\n",
    "# Example usage:\n",
    "year = int(input(\"Enter a year: \"))\n",
    "is_century_year(year)\n"
   ]
  },
  {
   "cell_type": "markdown",
   "id": "0d025d5d-84c6-4b5b-b676-94b8ba1cf45b",
   "metadata": {},
   "source": [
    "#### 20. Write a Python program to determine if a given number is a perfect square using if-else.\n"
   ]
  },
  {
   "cell_type": "code",
   "execution_count": 59,
   "id": "906c7838-49ee-41d3-bed4-3f3dc211da90",
   "metadata": {},
   "outputs": [
    {
     "name": "stdin",
     "output_type": "stream",
     "text": [
      "Enter a number:  81\n"
     ]
    },
    {
     "name": "stdout",
     "output_type": "stream",
     "text": [
      "81 is a perfect square.\n"
     ]
    }
   ],
   "source": [
    "import math\n",
    "\n",
    "def is_perfect_square(number):\n",
    "    if number < 0:\n",
    "        return False  # Negative numbers are not perfect squares\n",
    "    \n",
    "    # Calculate the square root\n",
    "    sqrt_num = math.sqrt(number)\n",
    "    \n",
    "    # Check if the square root is an integer\n",
    "    if sqrt_num.is_integer():\n",
    "        return True\n",
    "    else:\n",
    "        return False\n",
    "\n",
    "# Example usage:\n",
    "num = int(input(\"Enter a number: \"))\n",
    "if is_perfect_square(num):\n",
    "    print(f\"{num} is a perfect square.\")\n",
    "else:\n",
    "    print(f\"{num} is not a perfect square.\")\n"
   ]
  },
  {
   "cell_type": "markdown",
   "id": "80ce84a8-8cec-4754-b904-3c3bee5fd01e",
   "metadata": {},
   "source": [
    "#### 21. Explain the purpose of the \"continue\" and \"break\" statements within if-else loops.\n"
   ]
  },
  {
   "cell_type": "markdown",
   "id": "5acf55c0-c898-4d92-a9af-df92a298ab78",
   "metadata": {},
   "source": [
    "#### The `continue` statement is used within loops to skip the remaining code in the current iteration and move to the next iteration. It allows for skipping specific iterations based on a condition without terminating the entire loop.\n",
    "\n",
    "#### The `break` statement is used to exit or terminate a loop prematurely, regardless of whether the loop condition still holds true. It immediately stops the execution of the loop and moves to the code that follows the loop."
   ]
  },
  {
   "cell_type": "markdown",
   "id": "7e9d4aa3-3d5f-4f8a-a694-661a56df4cbd",
   "metadata": {},
   "source": [
    "#### 22. Create a Python program that calculates the BMI (Body Mass Index) of a person based on their weight and height using if-else.\n"
   ]
  },
  {
   "cell_type": "code",
   "execution_count": 63,
   "id": "e6051502-a916-4a07-98aa-a5849a28c706",
   "metadata": {},
   "outputs": [
    {
     "name": "stdin",
     "output_type": "stream",
     "text": [
      "Enter your weight in kg:  60\n",
      "Enter your height in meters:  2.5\n"
     ]
    },
    {
     "name": "stdout",
     "output_type": "stream",
     "text": [
      "Your BMI is: 9.60\n",
      "You are classified as: Underweight\n"
     ]
    }
   ],
   "source": [
    "def calculate_bmi(weight, height):\n",
    "    bmi = weight / (height ** 2)\n",
    "    return bmi\n",
    "\n",
    "def interpret_bmi(bmi):\n",
    "    if bmi < 18.5:\n",
    "        return \"Underweight\"\n",
    "    elif bmi >= 18.5 and bmi < 25:\n",
    "        return \"Normal weight\"\n",
    "    elif bmi >= 25 and bmi < 30:\n",
    "        return \"Overweight\"\n",
    "    else:\n",
    "        return \"Obese\"\n",
    "\n",
    "# Example usage:\n",
    "weight = float(input(\"Enter your weight in kg: \"))\n",
    "height = float(input(\"Enter your height in meters: \"))\n",
    "\n",
    "bmi = calculate_bmi(weight, height)\n",
    "bmi_category = interpret_bmi(bmi)\n",
    "\n",
    "print(f\"Your BMI is: {bmi:.2f}\")\n",
    "print(f\"You are classified as: {bmi_category}\")\n"
   ]
  },
  {
   "cell_type": "markdown",
   "id": "a8db64c2-367e-472e-89b5-915825eed044",
   "metadata": {},
   "source": [
    "#### 23. How can you use the \"filter()\" function with if-else statements to filter elements from a list?\n"
   ]
  },
  {
   "cell_type": "code",
   "execution_count": 64,
   "id": "0d6d1b15-bbe2-4d3b-984d-409066ed05b0",
   "metadata": {},
   "outputs": [
    {
     "name": "stdout",
     "output_type": "stream",
     "text": [
      "Even numbers: [2, 4, 6, 8, 10]\n",
      "Odd numbers: [1, 3, 5, 7, 9]\n"
     ]
    }
   ],
   "source": [
    "# Example list\n",
    "numbers = [1, 2, 3, 4, 5, 6, 7, 8, 9, 10]\n",
    "\n",
    "# Filter to get even numbers using lambda function\n",
    "even_numbers = list(filter(lambda x: x % 2 == 0, numbers))\n",
    "\n",
    "# Filter to get odd numbers using lambda function\n",
    "odd_numbers = list(filter(lambda x: x % 2 != 0, numbers))\n",
    "\n",
    "print(\"Even numbers:\", even_numbers)\n",
    "print(\"Odd numbers:\", odd_numbers)\n"
   ]
  },
  {
   "cell_type": "markdown",
   "id": "0970b0b8-e530-40f2-9a95-327cc56f63ca",
   "metadata": {},
   "source": [
    "#### 24. Write a Python program to determine if a given number is prime or not using if-else.\n"
   ]
  },
  {
   "cell_type": "code",
   "execution_count": 65,
   "id": "2842f542-d3c0-4b01-8407-5724ae1b8144",
   "metadata": {},
   "outputs": [
    {
     "name": "stdin",
     "output_type": "stream",
     "text": [
      "Enter a number:  4\n"
     ]
    },
    {
     "name": "stdout",
     "output_type": "stream",
     "text": [
      "4 is not a prime number.\n"
     ]
    }
   ],
   "source": [
    "def is_prime(number):\n",
    "    if number <= 1:\n",
    "        return False  # Numbers less than or equal to 1 are not prime\n",
    "    \n",
    "    # Check for factors from 2 to sqrt(number)\n",
    "    for i in range(2, int(number**0.5) + 1):\n",
    "        if number % i == 0:\n",
    "            return False  # Found a divisor, hence not prime\n",
    "    \n",
    "    return True  # If no divisors found, number is prime\n",
    "\n",
    "# Example usage:\n",
    "num = int(input(\"Enter a number: \"))\n",
    "if is_prime(num):\n",
    "    print(f\"{num} is a prime number.\")\n",
    "else:\n",
    "    print(f\"{num} is not a prime number.\")\n"
   ]
  },
  {
   "cell_type": "markdown",
   "id": "2854e127-5eec-4ae3-aeb4-1a3f79983672",
   "metadata": {},
   "source": [
    "### MAP"
   ]
  },
  {
   "cell_type": "markdown",
   "id": "0f7bb360-318d-4a3a-85a3-078bf846bb0a",
   "metadata": {},
   "source": [
    "#### 1. Explain the purpose of the `map()` function in Python and provide an example of how it can be used to apply a function to each element of an iterable.\n"
   ]
  },
  {
   "cell_type": "markdown",
   "id": "69b6b26c-96d3-4c9d-83eb-c743ff2d7202",
   "metadata": {},
   "source": [
    "#### The map() function in Python is used to apply a specified function to each item in an iterable (like a list, tuple, etc.) and returns an iterator that yields the results. It essentially maps the function onto each element of the iterable, transforming each element according to the function's logic."
   ]
  },
  {
   "cell_type": "code",
   "execution_count": 68,
   "id": "9f163114-97c5-4c86-9917-5f7d4c9bf05b",
   "metadata": {},
   "outputs": [
    {
     "name": "stdout",
     "output_type": "stream",
     "text": [
      "[1, 4, 9, 16, 25]\n"
     ]
    }
   ],
   "source": [
    "# Function to square a number\n",
    "def square(x):\n",
    "    return x ** 2\n",
    "\n",
    "# List of numbers\n",
    "numbers = [1, 2, 3, 4, 5]\n",
    "\n",
    "# Using map() to square each number in the list\n",
    "squared_numbers = map(square, numbers)\n",
    "\n",
    "# Converting the map object to a list (for demonstration)\n",
    "squared_numbers_list = list(squared_numbers)\n",
    "\n",
    "print(squared_numbers_list)  \n"
   ]
  },
  {
   "cell_type": "markdown",
   "id": "31085515-f109-4a26-ba6e-150d901d22ff",
   "metadata": {},
   "source": [
    "#### 2. Write a Python program that uses the `map()` function to square each element of a list of numbers.\n"
   ]
  },
  {
   "cell_type": "code",
   "execution_count": 69,
   "id": "f1792597-9f3e-449d-b58f-f1e5382d8f56",
   "metadata": {},
   "outputs": [
    {
     "name": "stdout",
     "output_type": "stream",
     "text": [
      "[1, 4, 9, 16, 25]\n"
     ]
    }
   ],
   "source": [
    "# Function to square a number\n",
    "def square(x):\n",
    "    return x ** 2\n",
    "\n",
    "# List of numbers\n",
    "numbers = [1, 2, 3, 4, 5]\n",
    "\n",
    "# Using map() to square each number in the list\n",
    "squared_numbers = map(square, numbers)\n",
    "\n",
    "# Converting the map object to a list (for demonstration)\n",
    "squared_numbers_list = list(squared_numbers)\n",
    "\n",
    "print(squared_numbers_list) "
   ]
  },
  {
   "cell_type": "markdown",
   "id": "0d68623d-6374-46c0-85b1-a87613406612",
   "metadata": {},
   "source": [
    "#### 3. How does the `map()` function differ from a list comprehension in Python, and when would you choose one over the other?\n"
   ]
  },
  {
   "cell_type": "markdown",
   "id": "12819194-78a5-4685-9fb1-da649ce115eb",
   "metadata": {},
   "source": [
    "#### The map() function and list comprehensions in Python are both constructs used for transforming data within iterables (like lists, tuples, etc.), but they differ in their approach and usage scenarios."
   ]
  },
  {
   "cell_type": "markdown",
   "id": "f0231835-7434-48cf-bd0f-425d589e00dc",
   "metadata": {},
   "source": [
    "#### 4. Create a Python program that uses the `map()` function to convert a list of names to uppercase.\n"
   ]
  },
  {
   "cell_type": "code",
   "execution_count": 70,
   "id": "ae618bd7-6a88-432b-812a-6cc022f2fae1",
   "metadata": {},
   "outputs": [
    {
     "name": "stdout",
     "output_type": "stream",
     "text": [
      "Original names: ['Alice', 'Bob', 'Charlie', 'David', 'Emily']\n",
      "Names in uppercase: ['ALICE', 'BOB', 'CHARLIE', 'DAVID', 'EMILY']\n"
     ]
    }
   ],
   "source": [
    "# List of names\n",
    "names = [\"Alice\", \"Bob\", \"Charlie\", \"David\", \"Emily\"]\n",
    "\n",
    "# Using map() to convert names to uppercase\n",
    "uppercase_names = list(map(str.upper, names))\n",
    "\n",
    "# Print the result\n",
    "print(\"Original names:\", names)\n",
    "print(\"Names in uppercase:\", uppercase_names)\n",
    "\n"
   ]
  },
  {
   "cell_type": "markdown",
   "id": "b111727f-8f2b-49ed-939f-5dd47fad1b73",
   "metadata": {},
   "source": [
    "#### 5. Write a Python program that uses the `map()` function to calculate the length of each word in a list of strings.\n"
   ]
  },
  {
   "cell_type": "code",
   "execution_count": 71,
   "id": "7ab5ae3d-9518-497a-8eac-936e681b7827",
   "metadata": {},
   "outputs": [
    {
     "name": "stdout",
     "output_type": "stream",
     "text": [
      "Words: ['apple', 'banana', 'cherry', 'date', 'elderberry']\n",
      "Length of each word: [5, 6, 6, 4, 10]\n"
     ]
    }
   ],
   "source": [
    "# List of strings (words)\n",
    "words = [\"apple\", \"banana\", \"cherry\", \"date\", \"elderberry\"]\n",
    "\n",
    "# Using map() to calculate the length of each word\n",
    "word_lengths = list(map(len, words))\n",
    "\n",
    "# Print the result\n",
    "print(\"Words:\", words)\n",
    "print(\"Length of each word:\", word_lengths)\n"
   ]
  },
  {
   "cell_type": "markdown",
   "id": "233077ca-a01d-44d5-9e2c-0af5fbd32eb1",
   "metadata": {},
   "source": [
    "#### 6. How can you use the `map()` function to apply a custom function to elements of multiple lists simultaneously in Python?\n"
   ]
  },
  {
   "cell_type": "code",
   "execution_count": 72,
   "id": "596cd35a-e71f-4f0a-b312-1c6c8f256ae2",
   "metadata": {},
   "outputs": [
    {
     "name": "stdout",
     "output_type": "stream",
     "text": [
      "List 1: [1, 2, 3, 4, 5]\n",
      "List 2: [10, 20, 30, 40, 50]\n",
      "Sum of corresponding elements: [11, 22, 33, 44, 55]\n"
     ]
    }
   ],
   "source": [
    "def add_elements(x, y):\n",
    "    return x + y\n",
    "\n",
    "# Two lists of numbers\n",
    "list1 = [1, 2, 3, 4, 5]\n",
    "list2 = [10, 20, 30, 40, 50]\n",
    "\n",
    "# Using map() to apply add_elements function to corresponding elements\n",
    "sums = list(map(add_elements, list1, list2))\n",
    "\n",
    "# Print the result\n",
    "print(\"List 1:\", list1)\n",
    "print(\"List 2:\", list2)\n",
    "print(\"Sum of corresponding elements:\", sums)\n",
    "\n"
   ]
  },
  {
   "cell_type": "markdown",
   "id": "8bb959fc-2a63-4c74-9d3d-6ef0611fff7e",
   "metadata": {},
   "source": [
    "#### 7. Create a Python program that uses `map()` to convert a list of temperatures from Celsius to Fahrenheit.\n"
   ]
  },
  {
   "cell_type": "code",
   "execution_count": 73,
   "id": "e2725070-fd00-45f0-b44a-01cd4b7e7dbf",
   "metadata": {},
   "outputs": [
    {
     "name": "stdout",
     "output_type": "stream",
     "text": [
      "Temperatures in Celsius: [0, 10, 20, 30, 40]\n",
      "Temperatures in Fahrenheit: [32.0, 50.0, 68.0, 86.0, 104.0]\n"
     ]
    }
   ],
   "source": [
    "def celsius_to_fahrenheit(celsius):\n",
    "    return (celsius * 9/5) + 32\n",
    "\n",
    "# List of temperatures in Celsius\n",
    "temperatures_celsius = [0, 10, 20, 30, 40]\n",
    "\n",
    "# Using map() to convert temperatures to Fahrenheit\n",
    "temperatures_fahrenheit = list(map(celsius_to_fahrenheit, temperatures_celsius))\n",
    "\n",
    "# Print the result\n",
    "print(\"Temperatures in Celsius:\", temperatures_celsius)\n",
    "print(\"Temperatures in Fahrenheit:\", temperatures_fahrenheit)\n"
   ]
  },
  {
   "cell_type": "markdown",
   "id": "65e4d964-2535-42c9-a54e-466b40831e85",
   "metadata": {},
   "source": [
    "#### 8. Write a Python program that uses the `map()` function to round each element of a list of floating-point numbers to the nearest integer.\n"
   ]
  },
  {
   "cell_type": "code",
   "execution_count": 74,
   "id": "276b711b-f802-488f-8ee8-c263bb91e354",
   "metadata": {},
   "outputs": [
    {
     "name": "stdout",
     "output_type": "stream",
     "text": [
      "Original numbers: [3.14, 2.718, 1.5, 4.9, 6.75]\n",
      "Rounded numbers: [3, 3, 2, 5, 7]\n"
     ]
    }
   ],
   "source": [
    "# List of floating-point numbers\n",
    "float_numbers = [3.14, 2.718, 1.5, 4.9, 6.75]\n",
    "\n",
    "# Using map() to round each number to the nearest integer\n",
    "rounded_numbers = list(map(round, float_numbers))\n",
    "\n",
    "# Print the result\n",
    "print(\"Original numbers:\", float_numbers)\n",
    "print(\"Rounded numbers:\", rounded_numbers)\n"
   ]
  },
  {
   "cell_type": "markdown",
   "id": "b0a9c06f-11ce-4846-9211-78afd1b83180",
   "metadata": {},
   "source": [
    "### REDUCE"
   ]
  },
  {
   "cell_type": "markdown",
   "id": "b44a149e-4abc-4be0-8542-5e9b45bb1278",
   "metadata": {},
   "source": [
    "#### 1.What is the `reduce()` function in Python, and what module should you import to use it? Provide an example of its basic usage."
   ]
  },
  {
   "cell_type": "markdown",
   "id": "34129e78-8fa9-4cec-ad18-5fec8c2b7c24",
   "metadata": {},
   "source": [
    "#### The reduce() function in Python is used to apply a function to an iterable and reduce it to a single cumulative value. It continually applies the function to pairs of elements from the iterable until only one value remains. The reduce() function is part of the functools module in Python, so you need to import it from there to use it."
   ]
  },
  {
   "cell_type": "code",
   "execution_count": 75,
   "id": "51acfaa4-b798-4a8e-b00f-71c608d855d9",
   "metadata": {},
   "outputs": [
    {
     "name": "stdout",
     "output_type": "stream",
     "text": [
      "List: [1, 2, 3, 4, 5]\n",
      "Sum of the list using reduce(): 15\n"
     ]
    }
   ],
   "source": [
    "from functools import reduce\n",
    "\n",
    "# Define a function to add two numbers\n",
    "def add(x, y):\n",
    "    return x + y\n",
    "\n",
    "# List of numbers\n",
    "numbers = [1, 2, 3, 4, 5]\n",
    "\n",
    "# Using reduce() to calculate the sum of the list\n",
    "sum_result = reduce(add, numbers)\n",
    "\n",
    "# Print the result\n",
    "print(\"List:\", numbers)\n",
    "print(\"Sum of the list using reduce():\", sum_result)\n"
   ]
  },
  {
   "cell_type": "markdown",
   "id": "3c5fccaa-2f43-437f-8ffe-eb141eb070b7",
   "metadata": {},
   "source": [
    "#### 2. Write a Python program that uses the `reduce()` function to find the product of all elements in a list.\n"
   ]
  },
  {
   "cell_type": "code",
   "execution_count": 76,
   "id": "e4e0c14d-1182-4d1c-a59c-ca28037ae07e",
   "metadata": {},
   "outputs": [
    {
     "name": "stdout",
     "output_type": "stream",
     "text": [
      "List: [1, 2, 3, 4, 5]\n",
      "Product of the list using reduce(): 120\n"
     ]
    }
   ],
   "source": [
    "from functools import reduce\n",
    "\n",
    "# Define a function to multiply two numbers\n",
    "def multiply(x, y):\n",
    "    return x * y\n",
    "\n",
    "# List of numbers\n",
    "numbers = [1, 2, 3, 4, 5]\n",
    "\n",
    "# Using reduce() to calculate the product of the list\n",
    "product = reduce(multiply, numbers)\n",
    "\n",
    "# Print the result\n",
    "print(\"List:\", numbers)\n",
    "print(\"Product of the list using reduce():\", product)\n"
   ]
  },
  {
   "cell_type": "markdown",
   "id": "e247180f-45b1-4d75-887a-48646a1f9aea",
   "metadata": {},
   "source": [
    "#### 3. Create a Python program that uses `reduce()` to find the maximum element in a list of numbers.\n"
   ]
  },
  {
   "cell_type": "code",
   "execution_count": 77,
   "id": "fb24b7a4-d396-4307-8876-1907a3d7dd69",
   "metadata": {},
   "outputs": [
    {
     "name": "stdout",
     "output_type": "stream",
     "text": [
      "List: [10, 30, 50, 20, 40]\n",
      "Maximum element in the list using reduce(): 50\n"
     ]
    }
   ],
   "source": [
    "from functools import reduce\n",
    "\n",
    "# Define a function to find the maximum of two numbers\n",
    "def find_max(x, y):\n",
    "    return x if x > y else y\n",
    "\n",
    "# List of numbers\n",
    "numbers = [10, 30, 50, 20, 40]\n",
    "\n",
    "# Using reduce() to find the maximum element in the list\n",
    "max_number = reduce(find_max, numbers)\n",
    "\n",
    "# Print the result\n",
    "print(\"List:\", numbers)\n",
    "print(\"Maximum element in the list using reduce():\", max_number)\n"
   ]
  },
  {
   "cell_type": "markdown",
   "id": "c906335c-e058-43dc-8379-df4baffbadfc",
   "metadata": {},
   "source": [
    "#### 4.  How can you use the `reduce()` function to concatenate a list of strings into a single string?\n"
   ]
  },
  {
   "cell_type": "code",
   "execution_count": 78,
   "id": "8900a425-b8b6-40c0-aa96-884c7d3affe9",
   "metadata": {},
   "outputs": [
    {
     "name": "stdout",
     "output_type": "stream",
     "text": [
      "List of strings: ['Hello', ', ', 'world', '!', ' ', 'This', ' ', 'is', ' ', 'reduce', ' ', 'function.']\n",
      "Concatenated string using reduce(): Hello, world! This is reduce function.\n"
     ]
    }
   ],
   "source": [
    "from functools import reduce\n",
    "\n",
    "# Define a function to concatenate two strings\n",
    "def concatenate_strings(x, y):\n",
    "    return x + y\n",
    "\n",
    "# List of strings\n",
    "strings = [\"Hello\", \", \", \"world\", \"!\", \" \", \"This\", \" \", \"is\", \" \", \"reduce\", \" \", \"function.\"]\n",
    "\n",
    "# Using reduce() to concatenate the list of strings into a single string\n",
    "concatenated_string = reduce(concatenate_strings, strings)\n",
    "\n",
    "# Print the result\n",
    "print(\"List of strings:\", strings)\n",
    "print(\"Concatenated string using reduce():\", concatenated_string)\n"
   ]
  },
  {
   "cell_type": "markdown",
   "id": "8707f837-4a93-4ac7-b93b-47b6179c50d5",
   "metadata": {},
   "source": [
    "#### 5. Write a Python program that calculates the factorial of a number using the `reduce()` function.\n"
   ]
  },
  {
   "cell_type": "code",
   "execution_count": 79,
   "id": "493d19be-7d16-4b0d-962f-f1768c041a81",
   "metadata": {},
   "outputs": [
    {
     "name": "stdout",
     "output_type": "stream",
     "text": [
      "The factorial of 5 is: 120\n"
     ]
    }
   ],
   "source": [
    "from functools import reduce\n",
    "\n",
    "# Define a function to compute the factorial of a number\n",
    "def factorial(n):\n",
    "    return reduce(lambda x, y: x * y, range(1, n+1))\n",
    "\n",
    "# Input number\n",
    "number = 5\n",
    "\n",
    "# Calculate factorial using reduce()\n",
    "fact = factorial(number)\n",
    "\n",
    "# Print the result\n",
    "print(f\"The factorial of {number} is:\", fact)\n"
   ]
  },
  {
   "cell_type": "markdown",
   "id": "0cd5e120-5ee9-4a9c-bddd-43ba0a876336",
   "metadata": {},
   "source": [
    "#### 6. Create a Python program that uses `reduce()` to find the GCD (Greatest Common Divisor) of a list of numbers.\n"
   ]
  },
  {
   "cell_type": "code",
   "execution_count": 80,
   "id": "2df7c761-e0af-40b7-93fe-97e79b6dd88e",
   "metadata": {},
   "outputs": [
    {
     "name": "stdout",
     "output_type": "stream",
     "text": [
      "List of numbers: [24, 36, 48, 60, 72]\n",
      "GCD of the list of numbers: 12\n"
     ]
    }
   ],
   "source": [
    "from functools import reduce\n",
    "from math import gcd\n",
    "\n",
    "# List of numbers\n",
    "numbers = [24, 36, 48, 60, 72]\n",
    "\n",
    "# Function to compute GCD of two numbers\n",
    "def gcd_of_two(x, y):\n",
    "    return gcd(x, y)\n",
    "\n",
    "# Using reduce() to find the GCD of the list of numbers\n",
    "gcd_result = reduce(gcd_of_two, numbers)\n",
    "\n",
    "# Print the result\n",
    "print(\"List of numbers:\", numbers)\n",
    "print(\"GCD of the list of numbers:\", gcd_result)\n"
   ]
  },
  {
   "cell_type": "markdown",
   "id": "badbbbd6-8c13-4df1-896f-44885b47347a",
   "metadata": {},
   "source": [
    "#### 7. Write a Python program that uses the `reduce()` function to find the sum of the digits of a given number.\n"
   ]
  },
  {
   "cell_type": "code",
   "execution_count": 81,
   "id": "04e4ea49-060a-438b-aee8-ba8405f216db",
   "metadata": {},
   "outputs": [
    {
     "name": "stdout",
     "output_type": "stream",
     "text": [
      "The sum of digits of 12345 is: 15\n"
     ]
    }
   ],
   "source": [
    "from functools import reduce\n",
    "\n",
    "# Define a function to calculate the sum of digits\n",
    "def sum_of_digits(x, y):\n",
    "    return int(x) + int(y)\n",
    "\n",
    "# Input number\n",
    "number = 12345\n",
    "\n",
    "# Convert number to string and then to list of digits\n",
    "digits = list(str(number))\n",
    "\n",
    "# Using reduce() to find the sum of the digits\n",
    "sum_digits = reduce(sum_of_digits, digits)\n",
    "\n",
    "# Print the result\n",
    "print(f\"The sum of digits of {number} is:\", sum_digits)\n"
   ]
  },
  {
   "cell_type": "markdown",
   "id": "1b532281-6281-47e6-979b-49a40bc2ebd6",
   "metadata": {},
   "source": [
    "### FILTER"
   ]
  },
  {
   "cell_type": "markdown",
   "id": "9edb5b77-9836-4386-a250-b9a809b1a6ee",
   "metadata": {},
   "source": [
    "#### 1. Explain the purpose of the `filter()` function in Python and provide an example of how it can be used to filter elements from an iterable.\n"
   ]
  },
  {
   "cell_type": "code",
   "execution_count": 82,
   "id": "af98dd1a-99e0-4a55-a5de-ce88947812fc",
   "metadata": {},
   "outputs": [
    {
     "name": "stdout",
     "output_type": "stream",
     "text": [
      "Original list of numbers: [1, 2, 3, 4, 5, 6, 7, 8, 9, 10]\n",
      "Filtered even numbers: [2, 4, 6, 8, 10]\n"
     ]
    }
   ],
   "source": [
    "# Define a function to check if a number is even\n",
    "def is_even(num):\n",
    "    return num % 2 == 0\n",
    "\n",
    "# List of numbers\n",
    "numbers = [1, 2, 3, 4, 5, 6, 7, 8, 9, 10]\n",
    "\n",
    "# Use filter() to filter even numbers\n",
    "even_numbers = list(filter(is_even, numbers))\n",
    "\n",
    "# Print the result\n",
    "print(\"Original list of numbers:\", numbers)\n",
    "print(\"Filtered even numbers:\", even_numbers)\n"
   ]
  },
  {
   "cell_type": "markdown",
   "id": "9c5c2630-48e1-442b-98e4-1318d44688c8",
   "metadata": {},
   "source": [
    "#### 2. Write a Python program that uses the `filter()` function to select even numbers from a list of integers.\n"
   ]
  },
  {
   "cell_type": "code",
   "execution_count": 83,
   "id": "bcd06091-251d-4cfd-a70a-31ec654ce834",
   "metadata": {},
   "outputs": [
    {
     "name": "stdout",
     "output_type": "stream",
     "text": [
      "Original list of numbers: [1, 2, 3, 4, 5, 6, 7, 8, 9, 10]\n",
      "Filtered even numbers: [2, 4, 6, 8, 10]\n"
     ]
    }
   ],
   "source": [
    "# List of numbers\n",
    "numbers = [1, 2, 3, 4, 5, 6, 7, 8, 9, 10]\n",
    "\n",
    "# Use filter() with a lambda function to filter even numbers\n",
    "even_numbers = list(filter(lambda x: x % 2 == 0, numbers))\n",
    "\n",
    "# Print the result\n",
    "print(\"Original list of numbers:\", numbers)\n",
    "print(\"Filtered even numbers:\", even_numbers)\n"
   ]
  },
  {
   "cell_type": "markdown",
   "id": "881bfceb-906c-47c3-9064-eeda4e8dff52",
   "metadata": {},
   "source": [
    "#### 3. Create a Python program that uses the `filter()` function to select names that start with a specific letter from a list of strings.\n"
   ]
  },
  {
   "cell_type": "code",
   "execution_count": 84,
   "id": "cb15bc2b-d93d-45e8-a6f6-e3aee0c52f05",
   "metadata": {},
   "outputs": [
    {
     "name": "stdout",
     "output_type": "stream",
     "text": [
      "Original list of names: ['Alice', 'Bob', 'Charlie', 'David', 'Eve', 'Frank', 'Grace']\n",
      "Filtered names starting with 'C': ['Charlie']\n"
     ]
    }
   ],
   "source": [
    "# List of names\n",
    "names = [\"Alice\", \"Bob\", \"Charlie\", \"David\", \"Eve\", \"Frank\", \"Grace\"]\n",
    "\n",
    "# Specify the letter to filter by\n",
    "letter = 'C'\n",
    "\n",
    "# Use filter() with a lambda function to filter names starting with the specified letter\n",
    "filtered_names = list(filter(lambda name: name.startswith(letter), names))\n",
    "\n",
    "# Print the result\n",
    "print(f\"Original list of names: {names}\")\n",
    "print(f\"Filtered names starting with '{letter}': {filtered_names}\")\n"
   ]
  },
  {
   "cell_type": "markdown",
   "id": "6123ecac-fd5c-4e36-a2c1-c7701c271e00",
   "metadata": {},
   "source": [
    "#### 4. Write a Python program that uses the `filter()` function to select prime numbers from a list of integers.\n"
   ]
  },
  {
   "cell_type": "code",
   "execution_count": 85,
   "id": "e9b1b14a-fb13-455d-83e2-edca213e2b0d",
   "metadata": {},
   "outputs": [
    {
     "name": "stdout",
     "output_type": "stream",
     "text": [
      "Original list of numbers: [1, 2, 3, 4, 5, 6, 7, 8, 9, 10]\n",
      "Prime numbers in the list: [2, 3, 5, 7]\n"
     ]
    }
   ],
   "source": [
    "# Helper function to check if a number is prime\n",
    "def is_prime(num):\n",
    "    if num <= 1:\n",
    "        return False\n",
    "    if num == 2:\n",
    "        return True  # 2 is prime\n",
    "    if num % 2 == 0:\n",
    "        return False  # Other even numbers are not prime\n",
    "    for i in range(3, int(num**0.5) + 1, 2):\n",
    "        if num % i == 0:\n",
    "            return False\n",
    "    return True\n",
    "\n",
    "# List of integers\n",
    "numbers = [1, 2, 3, 4, 5, 6, 7, 8, 9, 10]\n",
    "\n",
    "# Use filter() with is_prime function to filter prime numbers\n",
    "prime_numbers = list(filter(is_prime, numbers))\n",
    "\n",
    "# Print the result\n",
    "print(\"Original list of numbers:\", numbers)\n",
    "print(\"Prime numbers in the list:\", prime_numbers)\n"
   ]
  },
  {
   "cell_type": "markdown",
   "id": "852e44dc-730f-4486-baab-3d4cb46c971c",
   "metadata": {},
   "source": [
    "#### 5. How can you use the `filter()` function to remove None values from a list in Python?\n"
   ]
  },
  {
   "cell_type": "code",
   "execution_count": 86,
   "id": "921361e0-7526-4e5e-90dc-3e282b91f128",
   "metadata": {},
   "outputs": [
    {
     "name": "stdout",
     "output_type": "stream",
     "text": [
      "Original list: [1, None, 'hello', None, 3.14, None, 'world', None]\n",
      "Filtered list (without None values): [1, 'hello', 3.14, 'world']\n"
     ]
    }
   ],
   "source": [
    "# Example list with None values\n",
    "values = [1, None, \"hello\", None, 3.14, None, \"world\", None]\n",
    "\n",
    "# Use filter() with a lambda function to remove None values\n",
    "filtered_values = list(filter(lambda x: x is not None, values))\n",
    "\n",
    "# Print the original list and the filtered list\n",
    "print(\"Original list:\", values)\n",
    "print(\"Filtered list (without None values):\", filtered_values)\n"
   ]
  },
  {
   "cell_type": "markdown",
   "id": "4f0d9283-6e08-4040-a6eb-850f0b557688",
   "metadata": {},
   "source": [
    "#### 6.Create a Python program that uses `filter()` to select words longer than a certain length from a list of strings.\n"
   ]
  },
  {
   "cell_type": "code",
   "execution_count": 87,
   "id": "2a3bd859-5635-47e3-9724-d3d414c3bba7",
   "metadata": {},
   "outputs": [
    {
     "name": "stdout",
     "output_type": "stream",
     "text": [
      "Original list of words: ['apple', 'banana', 'orange', 'grape', 'kiwi', 'melon', 'peach', 'plum']\n",
      "Filtered words longer than 5 characters: ['banana', 'orange']\n"
     ]
    }
   ],
   "source": [
    "# List of strings (words)\n",
    "words = [\"apple\", \"banana\", \"orange\", \"grape\", \"kiwi\", \"melon\", \"peach\", \"plum\"]\n",
    "\n",
    "# Specify the minimum length of words to filter by\n",
    "min_length = 5\n",
    "\n",
    "# Use filter() with a lambda function to filter words longer than min_length\n",
    "filtered_words = list(filter(lambda word: len(word) > min_length, words))\n",
    "\n",
    "# Print the result\n",
    "print(\"Original list of words:\", words)\n",
    "print(f\"Filtered words longer than {min_length} characters:\", filtered_words)\n"
   ]
  },
  {
   "cell_type": "markdown",
   "id": "cad68725-3259-4566-9840-5368383af9d8",
   "metadata": {},
   "source": [
    "#### 7. Write a Python program that uses the `filter()` function to select elements greater than a specified threshold from a list of values.\n"
   ]
  },
  {
   "cell_type": "code",
   "execution_count": 88,
   "id": "ff33f24d-52a0-45a5-bc59-b0cce774e471",
   "metadata": {},
   "outputs": [
    {
     "name": "stdout",
     "output_type": "stream",
     "text": [
      "Original list of values: [12, 5, 20, 8, 15, 3, 10, 18]\n",
      "Filtered values greater than 10: [12, 20, 15, 18]\n"
     ]
    }
   ],
   "source": [
    "# List of values\n",
    "values = [12, 5, 20, 8, 15, 3, 10, 18]\n",
    "\n",
    "# Specify the threshold value\n",
    "threshold = 10\n",
    "\n",
    "# Use filter() with a lambda function to filter elements greater than threshold\n",
    "filtered_values = list(filter(lambda x: x > threshold, values))\n",
    "\n",
    "# Print the result\n",
    "print(\"Original list of values:\", values)\n",
    "print(f\"Filtered values greater than {threshold}:\", filtered_values)\n"
   ]
  },
  {
   "cell_type": "markdown",
   "id": "b3641400-9cd8-497a-a81c-a2e6c799b91c",
   "metadata": {},
   "source": [
    "### RECURSION"
   ]
  },
  {
   "cell_type": "markdown",
   "id": "dfb98642-df10-450c-a2c7-08b480e36a89",
   "metadata": {},
   "source": [
    "#### 1. Explain the concept of recursion in Python. How does it differ from iteration?\n"
   ]
  },
  {
   "cell_type": "markdown",
   "id": "e26b92d2-b971-47c8-a1c3-bf5ea2119531",
   "metadata": {},
   "source": [
    "#### Recursion in Python is a technique where a function calls itself to solve smaller instances of a problem until a base condition is met. It differs from iteration, which involves using loops (e.g., `for` or `while`) to repeatedly execute a block of code until a condition is false or a sequence is exhausted. Recursion can offer a more elegant solution for problems that can be broken down into smaller, similar sub-problems."
   ]
  },
  {
   "cell_type": "markdown",
   "id": "122a4236-9566-4524-8de8-acea2e495c27",
   "metadata": {},
   "source": [
    "#### 2. Write a Python program to calculate the factorial of a number using recursion.\n"
   ]
  },
  {
   "cell_type": "code",
   "execution_count": 89,
   "id": "e6803d66-85d2-4da1-a3c8-051afca722ac",
   "metadata": {},
   "outputs": [
    {
     "name": "stdout",
     "output_type": "stream",
     "text": [
      "The factorial of 5 is: 120\n"
     ]
    }
   ],
   "source": [
    "def factorial(n):\n",
    "    # Base case: factorial of 0 or 1 is 1\n",
    "    if n == 0 or n == 1:\n",
    "        return 1\n",
    "    else:\n",
    "        # Recursive case: n * factorial(n-1)\n",
    "        return n * factorial(n - 1)\n",
    "\n",
    "# Input number for which factorial needs to be calculated\n",
    "num = 5\n",
    "\n",
    "# Calculate factorial using the factorial function\n",
    "result = factorial(num)\n",
    "\n",
    "# Print the result\n",
    "print(f\"The factorial of {num} is: {result}\")\n"
   ]
  },
  {
   "cell_type": "markdown",
   "id": "4fe99a95-e9ee-404a-be6c-083d67be3ee0",
   "metadata": {},
   "source": [
    "#### 3. Create a recursive Python function to find the nth Fibonacci number.\n"
   ]
  },
  {
   "cell_type": "code",
   "execution_count": 90,
   "id": "f9113e14-50a4-423a-b79e-0aa05914c8ca",
   "metadata": {},
   "outputs": [
    {
     "name": "stdout",
     "output_type": "stream",
     "text": [
      "The 10th Fibonacci number is: 55\n"
     ]
    }
   ],
   "source": [
    "def fibonacci(n):\n",
    "    # Base cases\n",
    "    if n <= 0:\n",
    "        return 0\n",
    "    elif n == 1:\n",
    "        return 1\n",
    "    else:\n",
    "        # Recursive case: Fibonacci(n) = Fibonacci(n-1) + Fibonacci(n-2)\n",
    "        return fibonacci(n - 1) + fibonacci(n - 2)\n",
    "\n",
    "# Input value for which Fibonacci number needs to be found\n",
    "num = 10\n",
    "\n",
    "# Calculate Fibonacci number using the fibonacci function\n",
    "fib_number = fibonacci(num)\n",
    "\n",
    "# Print the result\n",
    "print(f\"The {num}th Fibonacci number is: {fib_number}\")\n"
   ]
  },
  {
   "cell_type": "markdown",
   "id": "6bafc4ef-8d1e-4c96-86a6-e59998ad33ef",
   "metadata": {},
   "source": [
    "#### 4. Write a recursive Python function to calculate the sum of all elements in a list."
   ]
  },
  {
   "cell_type": "code",
   "execution_count": 91,
   "id": "25ab23b5-c553-4734-9f98-da2f49f5f94d",
   "metadata": {},
   "outputs": [
    {
     "name": "stdout",
     "output_type": "stream",
     "text": [
      "The sum of all elements in the list is: 15\n"
     ]
    }
   ],
   "source": [
    "def recursive_sum(lst):\n",
    "    # Base case: if the list is empty, sum is 0\n",
    "    if len(lst) == 0:\n",
    "        return 0\n",
    "    # Recursive case: sum of first element + sum of rest of the elements\n",
    "    else:\n",
    "        return lst[0] + recursive_sum(lst[1:])\n",
    "\n",
    "# Example list of numbers\n",
    "numbers = [1, 2, 3, 4, 5]\n",
    "\n",
    "# Calculate the sum using recursive_sum function\n",
    "total_sum = recursive_sum(numbers)\n",
    "\n",
    "# Print the result\n",
    "print(f\"The sum of all elements in the list is: {total_sum}\")\n"
   ]
  },
  {
   "cell_type": "markdown",
   "id": "946e2b37-ae93-4e0d-be79-366e5d4edf33",
   "metadata": {},
   "source": [
    "#### 5. How can you prevent a recursive function from running indefinitely, causing a stack overflow error?\n",
    "\n"
   ]
  },
  {
   "cell_type": "code",
   "execution_count": 92,
   "id": "4b9d5ce4-1b98-40c9-9c65-3c18192d9a98",
   "metadata": {},
   "outputs": [
    {
     "name": "stdout",
     "output_type": "stream",
     "text": [
      "120\n",
      "1\n"
     ]
    }
   ],
   "source": [
    "def factorial(n):\n",
    "    # Base case\n",
    "    if n == 0:\n",
    "        return 1\n",
    "    # Recursive case\n",
    "    elif n > 0:\n",
    "        return n * factorial(n - 1)\n",
    "    else:\n",
    "        raise ValueError(\"Factorial is not defined for negative numbers\")\n",
    "\n",
    "# Test cases\n",
    "print(factorial(5))  # 120\n",
    "print(factorial(0))  # 1\n"
   ]
  },
  {
   "cell_type": "markdown",
   "id": "be849654-1abf-4d08-931e-1e5c6f9d4760",
   "metadata": {},
   "source": [
    "#### 6. Create a recursive Python function to find the greatest common divisor (GCD) of two numbers using the Euclidean algorithm.\n"
   ]
  },
  {
   "cell_type": "code",
   "execution_count": 93,
   "id": "9f04a5d4-68ba-45b8-9038-17b9edc9a8d2",
   "metadata": {},
   "outputs": [
    {
     "name": "stdout",
     "output_type": "stream",
     "text": [
      "The GCD of 48 and 18 is: 6\n"
     ]
    }
   ],
   "source": [
    "def gcd(a, b):\n",
    "    # Base case\n",
    "    if b == 0:\n",
    "        return a\n",
    "    # Recursive case\n",
    "    else:\n",
    "        return gcd(b, a % b)\n",
    "\n",
    "# Example numbers\n",
    "num1 = 48\n",
    "num2 = 18\n",
    "\n",
    "# Calculate GCD using the gcd function\n",
    "result = gcd(num1, num2)\n",
    "\n",
    "# Print the result\n",
    "print(f\"The GCD of {num1} and {num2} is: {result}\")\n"
   ]
  },
  {
   "cell_type": "markdown",
   "id": "0ebafc39-2cf0-4ee0-aa49-d785b10a2132",
   "metadata": {},
   "source": [
    "#### 7. Write a recursive Python function to reverse a string."
   ]
  },
  {
   "cell_type": "code",
   "execution_count": 94,
   "id": "7427f0c8-cd95-4d02-8843-e73e9995595c",
   "metadata": {},
   "outputs": [
    {
     "name": "stdout",
     "output_type": "stream",
     "text": [
      "The reversed string of 'hello' is: 'olleh'\n"
     ]
    }
   ],
   "source": [
    "def reverse_string(s):\n",
    "    # Base case: if the string is empty or has only one character\n",
    "    if len(s) <= 1:\n",
    "        return s\n",
    "    # Recursive case: swap the first and last characters, and reverse the rest\n",
    "    else:\n",
    "        return s[-1] + reverse_string(s[1:-1]) + s[0]\n",
    "\n",
    "# Example string\n",
    "input_string = \"hello\"\n",
    "\n",
    "# Reverse the string using the reverse_string function\n",
    "reversed_string = reverse_string(input_string)\n",
    "\n",
    "# Print the result\n",
    "print(f\"The reversed string of '{input_string}' is: '{reversed_string}'\")\n"
   ]
  },
  {
   "cell_type": "markdown",
   "id": "87e4da59-c029-4d30-b833-9c1c633d9129",
   "metadata": {},
   "source": [
    "#### 8. Create a recursive Python function to calculate the power of a number (x^n).\n"
   ]
  },
  {
   "cell_type": "code",
   "execution_count": 95,
   "id": "516e0220-be4b-40f7-9a77-39382736ec0a",
   "metadata": {},
   "outputs": [
    {
     "name": "stdout",
     "output_type": "stream",
     "text": [
      "2 raised to the power of 5 is: 32\n"
     ]
    }
   ],
   "source": [
    "def power(x, n):\n",
    "    # Base case: power of any number to 0 is 1\n",
    "    if n == 0:\n",
    "        return 1\n",
    "    # Recursive case: calculate power recursively\n",
    "    elif n > 0:\n",
    "        return x * power(x, n - 1)\n",
    "    # Handle negative exponent (optional)\n",
    "    else:\n",
    "        return 1 / power(x, -n)\n",
    "\n",
    "# Example usage\n",
    "base = 2\n",
    "exponent = 5\n",
    "\n",
    "# Calculate power using the power function\n",
    "result = power(base, exponent)\n",
    "\n",
    "# Print the result\n",
    "print(f\"{base} raised to the power of {exponent} is: {result}\")\n"
   ]
  },
  {
   "cell_type": "markdown",
   "id": "6e31fa01-7daa-4cfe-a789-780b2d1b1a3a",
   "metadata": {},
   "source": [
    "#### 9. Write a recursive Python function to find all permutations of a given string.\n"
   ]
  },
  {
   "cell_type": "code",
   "execution_count": 96,
   "id": "7c3c4931-ea9c-4b94-a70d-124d7f4b7643",
   "metadata": {},
   "outputs": [
    {
     "name": "stdout",
     "output_type": "stream",
     "text": [
      "All permutations of 'abc' are:\n",
      "abc\n",
      "acb\n",
      "bac\n",
      "bca\n",
      "cab\n",
      "cba\n"
     ]
    }
   ],
   "source": [
    "def permutations(s):\n",
    "    # Base case: if the string length is 1, return the string itself as a single permutation\n",
    "    if len(s) <= 1:\n",
    "        return [s]\n",
    "    \n",
    "    # List to store permutations\n",
    "    perms = []\n",
    "    \n",
    "    # Iterate over each character in the string\n",
    "    for i in range(len(s)):\n",
    "        # Fix s[i] as the first character and find permutations of the rest\n",
    "        first_char = s[i]\n",
    "        remaining_chars = s[:i] + s[i+1:]\n",
    "        \n",
    "        # Recursive call to find permutations of the remaining characters\n",
    "        for perm in permutations(remaining_chars):\n",
    "            perms.append(first_char + perm)\n",
    "    \n",
    "    return perms\n",
    "\n",
    "# Example usage\n",
    "input_string = \"abc\"\n",
    "\n",
    "# Get all permutations using the permutations function\n",
    "result = permutations(input_string)\n",
    "\n",
    "# Print the result\n",
    "print(f\"All permutations of '{input_string}' are:\")\n",
    "for perm in result:\n",
    "    print(perm)\n"
   ]
  },
  {
   "cell_type": "markdown",
   "id": "3b349afc-257f-47dc-881f-9fd1582e82ca",
   "metadata": {},
   "source": [
    "#### 10. Write a recursive Python function to check if a string is a palindrome.\n"
   ]
  },
  {
   "cell_type": "code",
   "execution_count": 97,
   "id": "77574428-b7cb-4781-8db9-d2dc0951ccbb",
   "metadata": {},
   "outputs": [
    {
     "name": "stdout",
     "output_type": "stream",
     "text": [
      "'radar' is a palindrome.\n"
     ]
    }
   ],
   "source": [
    "def is_palindrome(s):\n",
    "    # Base case: if the string length is 0 or 1, it's a palindrome\n",
    "    if len(s) <= 1:\n",
    "        return True\n",
    "    # Recursive case: compare first and last characters\n",
    "    elif s[0] == s[-1]:\n",
    "        return is_palindrome(s[1:-1])  # Recursively check the substring without first and last characters\n",
    "    else:\n",
    "        return False\n",
    "\n",
    "# Example usage\n",
    "input_string = \"radar\"\n",
    "\n",
    "# Check if the input_string is a palindrome using the is_palindrome function\n",
    "if is_palindrome(input_string):\n",
    "    print(f\"'{input_string}' is a palindrome.\")\n",
    "else:\n",
    "    print(f\"'{input_string}' is not a palindrome.\")\n"
   ]
  },
  {
   "cell_type": "markdown",
   "id": "dde805ce-2c35-493b-9b86-bfaf41a14bae",
   "metadata": {},
   "source": [
    "#### 11. Create a recursive Python function to generate all possible combinations of a list of elements.\n",
    "\n"
   ]
  },
  {
   "cell_type": "code",
   "execution_count": 98,
   "id": "1b533eb9-9370-4a03-a43a-0c3b029d5359",
   "metadata": {},
   "outputs": [
    {
     "name": "stdout",
     "output_type": "stream",
     "text": [
      "All combinations:\n",
      "('a', 'b', 'c')\n",
      "('a', 'b')\n",
      "('a', 'c')\n",
      "('a',)\n",
      "('b', 'c')\n",
      "('b',)\n",
      "('c',)\n",
      "()\n"
     ]
    }
   ],
   "source": [
    "def combinations(elements):\n",
    "    if not elements:\n",
    "        return [()]\n",
    "    \n",
    "    first = elements[0]\n",
    "    rest = elements[1:]\n",
    "    \n",
    "    # Recursively generate combinations with first element included and excluded\n",
    "    without_first = combinations(rest)\n",
    "    with_first = [(first,) + combo for combo in without_first]\n",
    "    \n",
    "    # Combine both lists and return\n",
    "    return with_first + without_first\n",
    "\n",
    "# Example usage\n",
    "input_list = ['a', 'b', 'c']\n",
    "\n",
    "# Generate all combinations using the combinations function\n",
    "result = combinations(input_list)\n",
    "\n",
    "# Print the result\n",
    "print(\"All combinations:\")\n",
    "for combo in result:\n",
    "    print(combo)\n"
   ]
  },
  {
   "cell_type": "markdown",
   "id": "a0866616-c444-4707-9305-f2260a877f1a",
   "metadata": {},
   "source": [
    "### BASICS OF FUNCTIONS"
   ]
  },
  {
   "cell_type": "markdown",
   "id": "42d672e2-a19d-41f0-8304-42b6674ba736",
   "metadata": {},
   "source": [
    "#### 1. What is a function in Python, and why is it used?"
   ]
  },
  {
   "cell_type": "markdown",
   "id": "91ef66f0-dde8-41cb-82c5-6003fd4e0716",
   "metadata": {},
   "source": [
    "#### A function in Python is a reusable block of code designed to perform a specific task. It is used to organize code, improve readability, and enable code reuse by allowing you to call the same code multiple times with different inputs."
   ]
  },
  {
   "cell_type": "markdown",
   "id": "cf30595a-0efd-4227-8b45-706ba3cb7a94",
   "metadata": {},
   "source": [
    "#### 2. How do you define a function in Python? Provide an example.\n"
   ]
  },
  {
   "cell_type": "markdown",
   "id": "18cb0c46-7e86-459c-bcd7-8fe60894abef",
   "metadata": {},
   "source": [
    "#### In Python, a function is defined using the def keyword followed by the function name, parentheses (which may include parameters), and a colon. The function body is indented and contains the code to be executed."
   ]
  },
  {
   "cell_type": "code",
   "execution_count": 99,
   "id": "35e3bcf6-ff43-4b5d-8d48-1263f3ba1523",
   "metadata": {},
   "outputs": [
    {
     "name": "stdout",
     "output_type": "stream",
     "text": [
      "Hello, Alice!\n"
     ]
    }
   ],
   "source": [
    "def greet(name):\n",
    "    \"\"\"\n",
    "    This function greets the person passed in as a parameter.\n",
    "    \"\"\"\n",
    "    print(f\"Hello, {name}!\")\n",
    "\n",
    "# Example usage\n",
    "greet(\"Alice\")\n"
   ]
  },
  {
   "cell_type": "markdown",
   "id": "50842892-0ff2-4bb5-a40b-c34a1d4d4e31",
   "metadata": {},
   "source": [
    "#### 3. Explain the difference between a function definition and a function call.\n"
   ]
  },
  {
   "cell_type": "markdown",
   "id": "2ad3baa7-41c0-4ba4-bde8-8d07de29ddc7",
   "metadata": {},
   "source": [
    "#### A function definition is the process of specifying the function's name, parameters, and the block of code that runs when the function is called. A function call, on the other hand, is when you invoke or execute the defined function by providing necessary arguments, causing the function's code to run."
   ]
  },
  {
   "cell_type": "markdown",
   "id": "07225bc9-2c89-486b-94d9-f244243391ff",
   "metadata": {},
   "source": [
    "#### 4. Write a Python program that defines a function to calculate the sum of two numbers and then calls the function.\n"
   ]
  },
  {
   "cell_type": "code",
   "execution_count": 100,
   "id": "4c229df0-c95d-4c9f-afe3-1d3494984f46",
   "metadata": {},
   "outputs": [
    {
     "name": "stdout",
     "output_type": "stream",
     "text": [
      "The sum of 5 and 7 is: 12\n"
     ]
    }
   ],
   "source": [
    "# Function definition\n",
    "def sum_of_two_numbers(a, b):\n",
    "    \"\"\"\n",
    "    This function takes two numbers as input and returns their sum.\n",
    "    \"\"\"\n",
    "    return a + b\n",
    "\n",
    "# Example usage\n",
    "number1 = 5\n",
    "number2 = 7\n",
    "\n",
    "# Function call\n",
    "result = sum_of_two_numbers(number1, number2)\n",
    "\n",
    "# Print the result\n",
    "print(f\"The sum of {number1} and {number2} is: {result}\")\n"
   ]
  },
  {
   "cell_type": "markdown",
   "id": "c972a787-0674-4fd3-9028-d2c076c964c0",
   "metadata": {},
   "source": [
    "#### 5. What is a function signature, and what information does it typically include?\n",
    "#### A function signature in Python refers to the definition of a function that includes the function's name, the parameters it takes (including their types and default values, if any), and its return type (if specified). The function signature provides information about how the function should be called and what kind of arguments it expects."
   ]
  },
  {
   "cell_type": "markdown",
   "id": "0c223917-b011-46d3-b906-921618e262aa",
   "metadata": {},
   "source": [
    "#### 6. Create a Python function that takes two arguments and returns their product.\n"
   ]
  },
  {
   "cell_type": "code",
   "execution_count": 101,
   "id": "f17db863-2851-457e-b7d4-3bfc6371fd79",
   "metadata": {},
   "outputs": [
    {
     "name": "stdout",
     "output_type": "stream",
     "text": [
      "The product of 5 and 7 is: 35\n"
     ]
    }
   ],
   "source": [
    "# Function definition\n",
    "def multiply_two_numbers(a, b):\n",
    "    \"\"\"\n",
    "    This function takes two numbers as input and returns their product.\n",
    "    \"\"\"\n",
    "    return a * b\n",
    "\n",
    "# Example usage\n",
    "number1 = 5\n",
    "number2 = 7\n",
    "\n",
    "# Function call\n",
    "result = multiply_two_numbers(number1, number2)\n",
    "\n",
    "# Print the result\n",
    "print(f\"The product of {number1} and {number2} is: {result}\")\n"
   ]
  },
  {
   "cell_type": "markdown",
   "id": "66d00d7a-e78a-4a82-93c9-d09725eef656",
   "metadata": {},
   "source": [
    "### FUNCTION PARAMETER AND ARGUMENTS"
   ]
  },
  {
   "cell_type": "markdown",
   "id": "12dbb1a4-6164-4ce1-b452-7e5b178c90d7",
   "metadata": {},
   "source": [
    "#### 1. Explain the concepts of formal parameters and actual arguments in Python functions.\n"
   ]
  },
  {
   "cell_type": "markdown",
   "id": "3ba14119-3c56-458a-96eb-21ad0992d88d",
   "metadata": {},
   "source": [
    "#### Formal parameters are the variables defined in a function's declaration that act as placeholders for the values the function will receive. Actual arguments are the real values or variables passed to the function when it is called, which get assigned to the formal parameters."
   ]
  },
  {
   "cell_type": "markdown",
   "id": "a74c70a3-b3cd-428e-95c0-79e2c6a55b63",
   "metadata": {},
   "source": [
    "#### 2. Write a Python program that defines a function with default argument values.\n"
   ]
  },
  {
   "cell_type": "code",
   "execution_count": 102,
   "id": "0ad2cfa4-ac32-41d8-92a8-1e08f26df02e",
   "metadata": {},
   "outputs": [
    {
     "name": "stdout",
     "output_type": "stream",
     "text": [
      "Hello, Alice!\n",
      "Hi, Bob!\n",
      "Hey, Charlie.\n",
      "Hello, Dave!!!\n"
     ]
    }
   ],
   "source": [
    "# Function definition with default argument values\n",
    "def greet(name, greeting=\"Hello\", punctuation=\"!\"):\n",
    "    \"\"\"\n",
    "    This function greets a person with a specified greeting and punctuation.\n",
    "    The greeting and punctuation have default values.\n",
    "    \"\"\"\n",
    "    return f\"{greeting}, {name}{punctuation}\"\n",
    "\n",
    "# Example usage\n",
    "# Using all default values\n",
    "print(greet(\"Alice\"))\n",
    "\n",
    "# Using a custom greeting\n",
    "print(greet(\"Bob\", greeting=\"Hi\"))\n",
    "\n",
    "# Using a custom greeting and punctuation\n",
    "print(greet(\"Charlie\", greeting=\"Hey\", punctuation=\".\"))\n",
    "\n",
    "# Using a custom punctuation only\n",
    "print(greet(\"Dave\", punctuation=\"!!!\"))\n"
   ]
  },
  {
   "cell_type": "markdown",
   "id": "f3a437ff-0225-4f20-b841-8c7eb1cc2ead",
   "metadata": {},
   "source": [
    "#### 3. How do you use keyword arguments in Python function calls? Provide an example.\n"
   ]
  },
  {
   "cell_type": "code",
   "execution_count": 103,
   "id": "144fd55f-2526-4c41-a584-e645e3dd78f1",
   "metadata": {},
   "outputs": [
    {
     "name": "stdout",
     "output_type": "stream",
     "text": [
      "Hello, Alice!\n",
      "Hi, Bob!\n",
      "Hey, Charlie.\n",
      "Hello, Dave!!!\n"
     ]
    }
   ],
   "source": [
    "# Function definition with multiple parameters and default values\n",
    "def greet(name, greeting=\"Hello\", punctuation=\"!\"):\n",
    "    \"\"\"\n",
    "    This function greets a person with a specified greeting and punctuation.\n",
    "    The greeting and punctuation have default values.\n",
    "    \"\"\"\n",
    "    return f\"{greeting}, {name}{punctuation}\"\n",
    "\n",
    "# Example usage with keyword arguments\n",
    "print(greet(\"Alice\"))  # Uses all default values\n",
    "print(greet(\"Bob\", greeting=\"Hi\"))  # Custom greeting, default punctuation\n",
    "print(greet(\"Charlie\", greeting=\"Hey\", punctuation=\".\"))  # Custom greeting and punctuation\n",
    "print(greet(\"Dave\", punctuation=\"!!!\"))  # Custom punctuation, default greeting\n"
   ]
  },
  {
   "cell_type": "markdown",
   "id": "ff82c2e3-71a3-49db-ad80-238312192be6",
   "metadata": {},
   "source": [
    "#### 4. Create a Python function that accepts a variable number of arguments and calculates their sum.\n"
   ]
  },
  {
   "cell_type": "code",
   "execution_count": 104,
   "id": "4965c5df-e97d-432e-88aa-710a51d5f8b6",
   "metadata": {},
   "outputs": [
    {
     "name": "stdout",
     "output_type": "stream",
     "text": [
      "6\n",
      "50\n",
      "12.0\n",
      "0\n"
     ]
    }
   ],
   "source": [
    "def calculate_sum(*args):\n",
    "    \"\"\"\n",
    "    This function calculates the sum of variable number of arguments.\n",
    "    \"\"\"\n",
    "    total_sum = 0\n",
    "    for num in args:\n",
    "        total_sum += num\n",
    "    return total_sum\n",
    "\n",
    "# Example usage\n",
    "print(calculate_sum(1, 2, 3))  # Output: 6\n",
    "print(calculate_sum(5, 10, 15, 20))  # Output: 50\n",
    "print(calculate_sum(2.5, 3.5, 1.5, 4.5))  # Output: 12.0\n",
    "print(calculate_sum())  # Output: 0 (no arguments passed)\n"
   ]
  },
  {
   "cell_type": "markdown",
   "id": "77906b22-18c8-45b4-80f2-dd0c10bdee72",
   "metadata": {},
   "source": [
    "#### 5. What is the purpose of the `*args` and `**kwargs` syntax in function parameter lists?\n"
   ]
  },
  {
   "cell_type": "markdown",
   "id": "1192eed2-2529-48fb-b1be-277eb39283e8",
   "metadata": {},
   "source": [
    "#### The *args and **kwargs syntax in Python function parameter lists serve the purpose of accepting a variable number of positional and keyword arguments, respectively.\n",
    "\n",
    "#### *args: Allows a function to accept any number of positional arguments. These arguments are captured as a tuple within the function, regardless of how many there are.\n",
    "\n",
    "#### **kwargs: Allows a function to accept any number of keyword arguments (arguments passed with their corresponding parameter names). These arguments are captured as a dictionary within the function, allowing flexibility with named parameters.\n",
    "\n"
   ]
  },
  {
   "cell_type": "markdown",
   "id": "86181e1c-9a45-4975-acfb-38f3cf23c6d3",
   "metadata": {},
   "source": [
    "### RETURN VALUES AND SCOPING"
   ]
  },
  {
   "cell_type": "markdown",
   "id": "2ca2ce12-7dd9-40cb-b4ef-fed134833178",
   "metadata": {},
   "source": [
    "#### 1. Describe the role of the `return` statement in Python functions and provide examples.\n"
   ]
  },
  {
   "cell_type": "markdown",
   "id": "792de824-4ec6-43f0-9084-10a5a5b31557",
   "metadata": {},
   "source": [
    "#### The return statement in Python functions is used to exit the function and optionally return a value back to the caller. It serves the role of providing the result of the function's computation or operation to the part of the program that called it. If no return statement is used or if return is called without a value, the function returns None by default."
   ]
  },
  {
   "cell_type": "code",
   "execution_count": 106,
   "id": "9526fc61-622a-4454-b62e-a1e5dedab908",
   "metadata": {},
   "outputs": [
    {
     "name": "stdout",
     "output_type": "stream",
     "text": [
      "Hello, Alice!\n"
     ]
    }
   ],
   "source": [
    "def add_numbers(a, b):\n",
    "    return a + b\n",
    "\n",
    "result = add_numbers(3, 5)  # Returns 8\n",
    "\n",
    "def greet(name):\n",
    "    print(f\"Hello, {name}!\")\n",
    "\n",
    "greet(\"Alice\")  # Does not return a value, implicitly returns None\n"
   ]
  },
  {
   "cell_type": "markdown",
   "id": "ad2b06df-e509-4a98-a0bd-0375548ed942",
   "metadata": {},
   "source": [
    "#### 2. Explain the concept of variable scope in Python, including local and global variables.\n"
   ]
  },
  {
   "cell_type": "markdown",
   "id": "66223169-4819-497d-afda-05210748dea3",
   "metadata": {},
   "source": [
    "#### Variable scope in Python refers to the visibility and accessibility of variables within different parts of a program. \n",
    "\n",
    "- ####  **Local variables** are declared inside a function and can only be accessed within that function.\n",
    "- #### **Global variables** are declared outside any function and can be accessed throughout the entire program, unless shadowed by a local variable with the same name."
   ]
  },
  {
   "cell_type": "markdown",
   "id": "d735c3ed-9e1b-4753-81c5-1b5b8a9a6875",
   "metadata": {},
   "source": [
    "#### 3. Write a Python program that demonstrates the use of global variables within functions.\n"
   ]
  },
  {
   "cell_type": "code",
   "execution_count": 107,
   "id": "1e0e2c86-a141-4345-9ba6-cbcf73e61977",
   "metadata": {},
   "outputs": [
    {
     "name": "stdout",
     "output_type": "stream",
     "text": [
      "Before function call: 10\n",
      "Inside function: 20\n",
      "After function call: 20\n",
      "Inside another function: 20\n"
     ]
    }
   ],
   "source": [
    "# Global variable\n",
    "global_var = 10\n",
    "\n",
    "# Function that uses a global variable\n",
    "def modify_global():\n",
    "    global global_var\n",
    "    global_var = 20  # Modify the global variable inside the function\n",
    "    print(\"Inside function:\", global_var)\n",
    "\n",
    "# Function that reads the global variable\n",
    "def read_global():\n",
    "    print(\"Inside another function:\", global_var)\n",
    "\n",
    "# Display the initial value of the global variable\n",
    "print(\"Before function call:\", global_var)\n",
    "\n",
    "# Call the function that modifies the global variable\n",
    "modify_global()\n",
    "\n",
    "# Display the modified value of the global variable\n",
    "print(\"After function call:\", global_var)\n",
    "\n",
    "# Call another function that reads the global variable\n",
    "read_global()\n"
   ]
  },
  {
   "cell_type": "markdown",
   "id": "7898c103-ca3c-4509-bda5-ab4f5dfbcc37",
   "metadata": {},
   "source": [
    "#### 4. Create a Python function that calculates the factorial of a number and returns it."
   ]
  },
  {
   "cell_type": "code",
   "execution_count": 108,
   "id": "04d68ac1-111b-4ec7-806b-c64d3c10ae6c",
   "metadata": {},
   "outputs": [
    {
     "name": "stdout",
     "output_type": "stream",
     "text": [
      "The factorial of 5 is: 120\n"
     ]
    }
   ],
   "source": [
    "def factorial(n):\n",
    "    \"\"\"\n",
    "    Calculate the factorial of a number n.\n",
    "    \"\"\"\n",
    "    if n == 0 or n == 1:\n",
    "        return 1\n",
    "    else:\n",
    "        return n * factorial(n - 1)\n",
    "\n",
    "# Example usage\n",
    "number = 5\n",
    "result = factorial(number)\n",
    "print(f\"The factorial of {number} is: {result}\")\n"
   ]
  },
  {
   "cell_type": "markdown",
   "id": "73e5affb-6853-40cb-bd21-c50724c528e5",
   "metadata": {},
   "source": [
    "#### 5. How can you access variables defined outside a function from within the function?\n"
   ]
  },
  {
   "cell_type": "markdown",
   "id": "4572526e-5bfe-4b76-8a32-d7fd1d3afb93",
   "metadata": {},
   "source": [
    "#### In Python, you can access variables defined outside a function from within the function by using the global keyword to declare those variables within the function. "
   ]
  },
  {
   "cell_type": "markdown",
   "id": "972002b1-1ad7-45d2-b20b-34b4ce9752cb",
   "metadata": {},
   "source": [
    "### LAMBDA FUNCTIONS AND HIGHER ORDER FUNCTIONS"
   ]
  },
  {
   "cell_type": "markdown",
   "id": "d59cfe91-9751-4b44-acb0-12ae4b09cc7f",
   "metadata": {},
   "source": [
    "#### 1. What are lambda functions in Python, and when are they typically used?\n"
   ]
  },
  {
   "cell_type": "markdown",
   "id": "59af0776-35a7-479b-bf05-702d732e4710",
   "metadata": {},
   "source": [
    "#### Lambda functions in Python are small, anonymous functions defined using the `lambda` keyword. They are typically used when a short function is needed for a specific task, often where a full function definition would be overkill. Lambda functions are commonly used in situations where functions are passed as arguments to higher-order functions like `map()`, `filter()`, and `sorted()`, or in situations where you want to create simple one-liner functions without explicitly defining a named function."
   ]
  },
  {
   "cell_type": "markdown",
   "id": "ecd217fe-0396-4cbf-89b8-568ee6d496b8",
   "metadata": {},
   "source": [
    "#### 2. Write a Python program that uses lambda functions to sort a list of tuples based on the second element.\n"
   ]
  },
  {
   "cell_type": "code",
   "execution_count": 109,
   "id": "8786e6a3-703a-4998-8d16-bf42e0de51b3",
   "metadata": {},
   "outputs": [
    {
     "name": "stdout",
     "output_type": "stream",
     "text": [
      "Sorted list of tuples based on the second element:\n",
      "[(4, 1), (3, 2), (5, 3), (1, 5), (9, 8)]\n"
     ]
    }
   ],
   "source": [
    "# List of tuples\n",
    "tuples_list = [(1, 5), (3, 2), (9, 8), (4, 1), (5, 3)]\n",
    "\n",
    "# Sort the list of tuples based on the second element using lambda function\n",
    "sorted_list = sorted(tuples_list, key=lambda x: x[1])\n",
    "\n",
    "# Print the sorted list\n",
    "print(\"Sorted list of tuples based on the second element:\")\n",
    "print(sorted_list)\n"
   ]
  },
  {
   "cell_type": "markdown",
   "id": "54566524-b4fc-4b53-8b65-c558bc9c8bf9",
   "metadata": {},
   "source": [
    "#### 3. Explain the concept of higher-order functions in Python, and provide an example.\n"
   ]
  },
  {
   "cell_type": "markdown",
   "id": "b07953db-ae7d-448d-abe7-ecd0bbf4a243",
   "metadata": {},
   "source": [
    "#### Higher-order functions in Python are functions that can take other functions as arguments or return functions as results. They enable functional programming paradigms where functions are treated as first-class citizens, allowing for more modular and reusable code."
   ]
  },
  {
   "cell_type": "code",
   "execution_count": 110,
   "id": "42bea50d-2c88-446f-870d-f4d3c707d9c7",
   "metadata": {},
   "outputs": [
    {
     "name": "stdout",
     "output_type": "stream",
     "text": [
      "Result of addition: 8\n",
      "Result of subtraction: 2\n"
     ]
    }
   ],
   "source": [
    "def apply_operation(operation, x, y):\n",
    "    return operation(x, y)\n",
    "\n",
    "def add(x, y):\n",
    "    return x + y\n",
    "\n",
    "def subtract(x, y):\n",
    "    return x - y\n",
    "\n",
    "result1 = apply_operation(add, 5, 3)  # Passing add function as argument\n",
    "result2 = apply_operation(subtract, 5, 3)  # Passing subtract function as argument\n",
    "\n",
    "print(\"Result of addition:\", result1)  # Output: Result of addition: 8\n",
    "print(\"Result of subtraction:\", result2)  # Output: Result of subtraction: 2\n"
   ]
  },
  {
   "cell_type": "markdown",
   "id": "9751ac5f-cdba-4199-8c0e-596e8d1a5932",
   "metadata": {},
   "source": [
    "#### 4. Create a Python function that takes a list of numbers and a function as arguments, applying the function to each element in the list.\n"
   ]
  },
  {
   "cell_type": "code",
   "execution_count": 111,
   "id": "437e343c-cb5d-4c72-be1d-baf201bd6ed4",
   "metadata": {},
   "outputs": [
    {
     "name": "stdout",
     "output_type": "stream",
     "text": [
      "Squared numbers: [1, 4, 9, 16, 25]\n",
      "Doubled numbers: [2, 4, 6, 8, 10]\n"
     ]
    }
   ],
   "source": [
    "def apply_function_to_list(numbers, func):\n",
    "    \"\"\"\n",
    "    Apply the given function to each element in the list of numbers.\n",
    "    \"\"\"\n",
    "    result = []\n",
    "    for num in numbers:\n",
    "        result.append(func(num))\n",
    "    return result\n",
    "\n",
    "# Example functions to pass as arguments\n",
    "def square(x):\n",
    "    return x ** 2\n",
    "\n",
    "def double(x):\n",
    "    return x * 2\n",
    "\n",
    "# Example list of numbers\n",
    "numbers = [1, 2, 3, 4, 5]\n",
    "\n",
    "# Applying square function to the list of numbers\n",
    "result_square = apply_function_to_list(numbers, square)\n",
    "print(\"Squared numbers:\", result_square)  # Output: Squared numbers: [1, 4, 9, 16, 25]\n",
    "\n",
    "# Applying double function to the list of numbers\n",
    "result_double = apply_function_to_list(numbers, double)\n",
    "print(\"Doubled numbers:\", result_double)  # Output: Doubled numbers: [2, 4, 6, 8, 10]\n"
   ]
  },
  {
   "cell_type": "markdown",
   "id": "b0d19305-5c6c-47df-89bc-a019a639f99c",
   "metadata": {},
   "source": [
    "### BUILT-IN FUNCTIONS"
   ]
  },
  {
   "cell_type": "markdown",
   "id": "a16742bf-0419-4e76-8bf5-de59950bad15",
   "metadata": {},
   "source": [
    "#### 1. Describe the role of built-in functions like `len()`, `max()`, and `min()` in Python.\n"
   ]
  },
  {
   "cell_type": "markdown",
   "id": "f493b25f-1430-4883-9f6d-28df52050ae4",
   "metadata": {},
   "source": [
    "#### Built-in functions like `len()`, `max()`, and `min()` in Python serve the role of providing convenient operations on data structures:\n",
    "\n",
    "#### len(): Returns the number of items in an object (such as a list, tuple, string, etc.).\n",
    "#### max(): Returns the largest item in an iterable (like a list or tuple).\n",
    "#### min(): Returns the smallest item in an iterable (like a list or tuple).\n",
    "\n",
    "#### These functions are essential for basic data manipulation and are commonly used in everyday programming tasks to retrieve fundamental information about data collections."
   ]
  },
  {
   "cell_type": "markdown",
   "id": "ed377aa4-716f-478f-9e3c-9a020bfdb749",
   "metadata": {},
   "source": [
    "#### 2. Write a Python program that uses the `map()` function to apply a function to each element of a list.\n"
   ]
  },
  {
   "cell_type": "code",
   "execution_count": 115,
   "id": "eb18903b-b366-4c20-9844-81fe963065b0",
   "metadata": {},
   "outputs": [
    {
     "name": "stdout",
     "output_type": "stream",
     "text": [
      "Original list: [1, 2, 3, 4, 5]\n",
      "Squared list: [1, 4, 9, 16, 25]\n"
     ]
    }
   ],
   "source": [
    "\n",
    "def square(x):\n",
    "    return x ** 2\n",
    "\n",
    "# Example list of numbers\n",
    "numbers = [1, 2, 3, 4, 5]\n",
    "\n",
    "# Using map() to apply square function to each element in the list\n",
    "result = list(map(square, numbers))\n",
    "\n",
    "# Print the original list and the result after applying the function\n",
    "print(\"Original list:\", numbers)\n",
    "print(\"Squared list:\", result)\n"
   ]
  },
  {
   "cell_type": "markdown",
   "id": "e5eb1e38-ea49-40ca-95a6-4e6c02ab9c18",
   "metadata": {},
   "source": [
    "#### 3. How does the `filter()` function work in Python, and when would you use it?\n"
   ]
  },
  {
   "cell_type": "markdown",
   "id": "d384743b-24c5-4122-84da-48a1397b6c1f",
   "metadata": {},
   "source": [
    "#### The `filter()` function in Python applies a function to each element in an iterable (like a list) and returns an iterator yielding the elements for which the function returns `True`. It is typically used when you want to selectively extract elements from a collection based on a condition defined by a function, effectively filtering out unwanted elements. This function is useful for tasks where you need to process or manipulate data based on specific criteria or conditions."
   ]
  },
  {
   "cell_type": "markdown",
   "id": "5fe982e4-97ed-4de3-9311-b6b7ffa5986a",
   "metadata": {},
   "source": [
    "#### 4. Create a Python program that uses the `reduce()` function to find the product of all elements in a list."
   ]
  },
  {
   "cell_type": "code",
   "execution_count": 117,
   "id": "f75ba0e1-7c62-424a-bc41-9561f8c8e59f",
   "metadata": {},
   "outputs": [
    {
     "name": "stdout",
     "output_type": "stream",
     "text": [
      "Product of all elements: 120\n"
     ]
    }
   ],
   "source": [
    "from functools import reduce\n",
    "\n",
    "# List of numbers\n",
    "numbers = [1, 2, 3, 4, 5]\n",
    "\n",
    "# Define a function to multiply two numbers\n",
    "def multiply(x, y):\n",
    "    return x * y\n",
    "\n",
    "# Use reduce() to find the product of all elements in the list\n",
    "product = reduce(multiply, numbers)\n",
    "\n",
    "# Print the result\n",
    "print(\"Product of all elements:\", product)\n"
   ]
  },
  {
   "cell_type": "markdown",
   "id": "aeaebb65-8e84-4dd8-b3a1-b689be552b96",
   "metadata": {},
   "source": [
    "### FUNCTION DOCUMENTATION AND BEST PRACTICES"
   ]
  },
  {
   "cell_type": "markdown",
   "id": "e7476e96-038a-40fc-9001-ef1b74617b1f",
   "metadata": {},
   "source": [
    "#### 1. Explain the purpose of docstrings in Python functions and how to write them.\n"
   ]
  },
  {
   "cell_type": "markdown",
   "id": "bb13edb4-4224-4342-8de1-cbd78058037b",
   "metadata": {},
   "source": [
    "#### Docstrings in Python functions serve the purpose of documenting the functionality of the function, describing its parameters, return values, and any other relevant information. They are used to provide documentation that can be accessed using tools like help() or __doc__ attribute, aiding in understanding how to use the function correctly.\n",
    "\n",
    "#### To write a docstring:\n",
    "\n",
    "#### Place a triple-quoted string at the beginning of the function.\n",
    "#### Describe the function's purpose, parameters (including their types), return value, and any exceptions it may raise.\n",
    "#### Optionally, include examples or usage scenarios."
   ]
  },
  {
   "cell_type": "markdown",
   "id": "c204deba-e2b9-4321-9771-1fb0e97187fa",
   "metadata": {},
   "source": [
    "#### 2. Describe some best practices for naming functions and variables in Python, including naming conventions and guidelines.\r\n"
   ]
  },
  {
   "cell_type": "markdown",
   "id": "7af25a6b-148e-4beb-8d42-afa63d70581f",
   "metadata": {},
   "source": [
    "#### Some best practices for naming functions and variables in Python include:\n",
    "\n",
    "#### 1. **Use descriptive names**: Choose names that accurately describe the purpose or behavior of the function or variable.\n",
    "  \n",
    "#### 2. **Follow naming conventions**: Use `lower_case_with_underscores` for function names and variables, `UPPER_CASE` for constants, and `CapitalizedWords` (CamelCase) for classes.\n",
    "  \n",
    "#### 3. **Avoid single-letter names**: Unless used for simple loop counters (`i`, `j`, `k`), opt for more descriptive names to enhance readability and maintainability of code.\n",
    "  \n",
    "#### 4. **Be consistent**: Maintain consistency in naming throughout your codebase to make it easier for others (and yourself) to understand and navigate the code."
   ]
  }
 ],
 "metadata": {
  "kernelspec": {
   "display_name": "Python 3 (ipykernel)",
   "language": "python",
   "name": "python3"
  },
  "language_info": {
   "codemirror_mode": {
    "name": "ipython",
    "version": 3
   },
   "file_extension": ".py",
   "mimetype": "text/x-python",
   "name": "python",
   "nbconvert_exporter": "python",
   "pygments_lexer": "ipython3",
   "version": "3.11.4"
  }
 },
 "nbformat": 4,
 "nbformat_minor": 5
}
