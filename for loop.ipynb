{
 "cells": [
  {
   "cell_type": "markdown",
   "id": "8cbf2972-dbc7-43b1-9a3b-b3ddd033a2f5",
   "metadata": {},
   "source": [
    "## FOR LOOP ASSIGNMENT "
   ]
  },
  {
   "cell_type": "markdown",
   "id": "a62c420d-22cd-4fe6-bb2d-fee0554eeaeb",
   "metadata": {},
   "source": [
    "### BASIC LEVEL"
   ]
  },
  {
   "cell_type": "markdown",
   "id": "816c5d2b-3a79-4766-bbc5-d0c307aa2d00",
   "metadata": {},
   "source": [
    "#### QUESTION 1"
   ]
  },
  {
   "cell_type": "code",
   "execution_count": 3,
   "id": "58c82e03-7a47-4089-8afb-b9c4b45b4a5b",
   "metadata": {},
   "outputs": [
    {
     "name": "stdout",
     "output_type": "stream",
     "text": [
      "1\n",
      "2\n",
      "3\n",
      "4\n",
      "5\n",
      "6\n",
      "7\n",
      "8\n",
      "9\n",
      "10\n"
     ]
    }
   ],
   "source": [
    "# Write a python code to print numbers from 1 to 10 using a 'for' loop\n",
    "for i in range(1,11):\n",
    "    print(i)"
   ]
  },
  {
   "cell_type": "markdown",
   "id": "f53f8d9b-2baa-4927-a2c2-2ac2fdc53a71",
   "metadata": {},
   "source": [
    "#### QUESTION 2"
   ]
  },
  {
   "cell_type": "code",
   "execution_count": 5,
   "id": "f3b6ab17-8f04-4b27-8b4c-d7fdec2df335",
   "metadata": {},
   "outputs": [
    {
     "name": "stdout",
     "output_type": "stream",
     "text": [
      "45\n"
     ]
    }
   ],
   "source": [
    "# Create a program that calculates the sum of all numbers in a list using a 'for' loop\n",
    "list = [1,2,3,4,5,6,7,8,9]\n",
    "sum = 0\n",
    "for x in list:\n",
    "    sum = sum + x\n",
    "\n",
    "print(sum)"
   ]
  },
  {
   "cell_type": "markdown",
   "id": "f2cfe51d-004f-4e0f-95d7-e67f3462e71f",
   "metadata": {},
   "source": [
    "#### QUESTION 3"
   ]
  },
  {
   "cell_type": "code",
   "execution_count": 6,
   "id": "db6a0b40-07d4-46c1-a0a0-ec856f033671",
   "metadata": {},
   "outputs": [
    {
     "name": "stdout",
     "output_type": "stream",
     "text": [
      "The original string is :  Geeksforgeeks\n",
      "The reversed string is :  skeegrofskeeG \n"
     ]
    }
   ],
   "source": [
    "# Write a program to print the characters of a string in reverse order using a 'for' loop \n",
    "def reverse(s):\n",
    "    str = \" \"\n",
    "    for i in s:\n",
    "        str = i + str\n",
    "    return str\n",
    "\n",
    "s = \"Geeksforgeeks\"\n",
    "print(\"The original string is : \" , end = \" \")\n",
    "print(s)\n",
    "print(\"The reversed string is : \" , end = \" \")\n",
    "print(reverse(s))"
   ]
  },
  {
   "cell_type": "markdown",
   "id": "20f8ef14-7c9a-4844-a80e-48218f6defdf",
   "metadata": {},
   "source": [
    "#### QUESTION 4"
   ]
  },
  {
   "cell_type": "code",
   "execution_count": 8,
   "id": "6c54cd08-4ed7-4f79-afad-39c8b6557f64",
   "metadata": {},
   "outputs": [
    {
     "name": "stdin",
     "output_type": "stream",
     "text": [
      "Enter the number: 4\n"
     ]
    },
    {
     "name": "stdout",
     "output_type": "stream",
     "text": [
      "factorial of  4 is 24\n"
     ]
    }
   ],
   "source": [
    "# Develop a program that finds the factorial of a given number using a 'for' loop\n",
    "num = int(input(\"Enter the number:\"))\n",
    "fac = 1\n",
    "for i in range(1 , num + 1):\n",
    "    fac = fac*i\n",
    "\n",
    "print(\"factorial of \" , num , \"is\" , fac)"
   ]
  },
  {
   "cell_type": "markdown",
   "id": "2914e7a3-f4f3-4877-9868-78b3a84ade57",
   "metadata": {},
   "source": [
    "#### QUESTION 5"
   ]
  },
  {
   "cell_type": "code",
   "execution_count": 13,
   "id": "3b9a593c-bf68-46dd-90a6-be98710e6ab0",
   "metadata": {},
   "outputs": [
    {
     "name": "stdin",
     "output_type": "stream",
     "text": [
      "Enter the number: 12\n"
     ]
    },
    {
     "name": "stdout",
     "output_type": "stream",
     "text": [
      "12*1= 12\n",
      "12*2= 24\n",
      "12*3= 36\n",
      "12*4= 48\n",
      "12*5= 60\n",
      "12*6= 72\n",
      "12*7= 84\n",
      "12*8= 96\n",
      "12*9= 108\n",
      "12*10= 120\n"
     ]
    }
   ],
   "source": [
    "# Create a program to print the multiplication table of a given number using a for loop\n",
    "number = int(input(\"Enter the number:\"))\n",
    "for i in range(1,11):\n",
    "    print(f'{number}*{i}= {number*i}')"
   ]
  },
  {
   "cell_type": "markdown",
   "id": "525cafb1-9107-400c-bce0-c5dfcfa60168",
   "metadata": {},
   "source": [
    "#### QUESTION 6"
   ]
  },
  {
   "cell_type": "code",
   "execution_count": 15,
   "id": "ed454632-5c1c-4f97-9754-d8f5c9941341",
   "metadata": {},
   "outputs": [
    {
     "name": "stdout",
     "output_type": "stream",
     "text": [
      "Even numbers in the list: 5\n",
      "Odd numbers in the list: 4\n"
     ]
    }
   ],
   "source": [
    "# Write a program that counts the number of even and odd numbers in a list using a 'for' loop\n",
    "list = [10,23,44,56,77,93,12,57,90]\n",
    "even_count , odd_count = 0,0 \n",
    "for num in list:\n",
    "    if num%2==0:\n",
    "        even_count += 1\n",
    "    else:\n",
    "        odd_count += 1\n",
    "\n",
    "print(\"Even numbers in the list:\" , even_count)\n",
    "print(\"Odd numbers in the list:\" , odd_count)"
   ]
  },
  {
   "cell_type": "markdown",
   "id": "0b17116b-ff5e-4dbb-9339-5f7454ae63a7",
   "metadata": {},
   "source": [
    "#### QUESTION 7"
   ]
  },
  {
   "cell_type": "code",
   "execution_count": 18,
   "id": "25a17113-8713-4343-be56-81c34704d600",
   "metadata": {},
   "outputs": [
    {
     "name": "stdout",
     "output_type": "stream",
     "text": [
      "The square of 1 is 1\n",
      "The square of 2 is 4\n",
      "The square of 3 is 9\n",
      "The square of 4 is 16\n",
      "The square of 5 is 25\n"
     ]
    }
   ],
   "source": [
    "# Develop a program that prints the squares of numbers from 1 to 5 using a 'for' loop\n",
    "nums = [1,2,3,4,5]\n",
    "\n",
    "squared = []\n",
    "for i in nums:\n",
    "    sqr = i*i\n",
    "    squared.append(sqr)\n",
    "    print(\"The square of {} is {}\".format(i , sqr))"
   ]
  },
  {
   "cell_type": "markdown",
   "id": "60623b07-d122-464d-bff4-6404e54ae5c7",
   "metadata": {},
   "source": [
    "#### QUESTION 8"
   ]
  },
  {
   "cell_type": "code",
   "execution_count": 21,
   "id": "81cfbce8-55df-498a-a1c4-43fb3b7fecc2",
   "metadata": {},
   "outputs": [
    {
     "name": "stdout",
     "output_type": "stream",
     "text": [
      "7\n"
     ]
    }
   ],
   "source": [
    "# Create a program to find the length of a string without using the 'len()' function\n",
    "def findLen(string):\n",
    "    count = 0\n",
    "    for i in string:\n",
    "        count += 1 \n",
    "    return count\n",
    "\n",
    "string = \"Jasmine\"\n",
    "print(findLen(string))\n"
   ]
  },
  {
   "cell_type": "markdown",
   "id": "222a53bb-9a3f-4f0a-9b2d-93850d1e856b",
   "metadata": {},
   "source": [
    "#### QUESTION 9 "
   ]
  },
  {
   "cell_type": "code",
   "execution_count": 22,
   "id": "ecdf395a-1ef0-4741-9976-24bd3615a9c6",
   "metadata": {},
   "outputs": [
    {
     "name": "stdout",
     "output_type": "stream",
     "text": [
      "5.5\n"
     ]
    }
   ],
   "source": [
    "# Write a program that calculates the average of a list of numbers using a 'for' loop\n",
    "list = [1,2,3,4,5,6,7,8,9,10]\n",
    "total = 0\n",
    "for num in list:\n",
    "    total += num\n",
    "average = total/len(list)\n",
    "print(average)"
   ]
  },
  {
   "cell_type": "markdown",
   "id": "295a493a-335d-4026-bdcc-82dfdd246d79",
   "metadata": {},
   "source": [
    "#### QUESTION 10"
   ]
  },
  {
   "cell_type": "code",
   "execution_count": 1,
   "id": "f1b114f9-6c8e-48c1-85b5-0cfeb6055127",
   "metadata": {},
   "outputs": [
    {
     "name": "stdout",
     "output_type": "stream",
     "text": [
      "0 1 1 2 3 5 8 13 21 34 55 89 144 233 377 610 987 1597 2584 "
     ]
    }
   ],
   "source": [
    "# Develop a program that prints the first 'n' Fibonacci numbers using a 'for' loop\n",
    "a,b = 0,1\n",
    "series_length = 17\n",
    "print(a,b, end= ' ')\n",
    "for i in range(series_length):\n",
    "    c = a+b\n",
    "    print(c , end = ' ')\n",
    "    a=b\n",
    "    b=c"
   ]
  },
  {
   "cell_type": "markdown",
   "id": "c6754d91-db97-46de-a560-0e3085a82b1f",
   "metadata": {},
   "source": [
    "### INTERMEDIATE LEVEL"
   ]
  },
  {
   "cell_type": "markdown",
   "id": "cf8840b0-7933-4a05-8035-d9db6c299026",
   "metadata": {},
   "source": [
    "#### QUESTION 11"
   ]
  },
  {
   "cell_type": "code",
   "execution_count": 30,
   "id": "9b4abe05-1f13-4a3b-aaaf-cdfd23ad5d54",
   "metadata": {},
   "outputs": [
    {
     "name": "stdout",
     "output_type": "stream",
     "text": [
      "Does the list have duplicates ? True\n"
     ]
    }
   ],
   "source": [
    "# Write a program to check if a given list contains any duplicates using a 'for' loop\n",
    "def has_duplicates(list):\n",
    "    seen = set()\n",
    "    for item in list:\n",
    "        if item in seen:\n",
    "            return True\n",
    "        seen.add(item)\n",
    "    return False\n",
    "\n",
    "list = [1,2,3,4,5,3]\n",
    "result = has_duplicates(list)\n",
    "print(f\"Does the list have duplicates ? {result}\")"
   ]
  },
  {
   "cell_type": "markdown",
   "id": "4a0a4572-4cb2-4b44-9107-39367ec8b591",
   "metadata": {},
   "source": [
    "#### QUESTION 12"
   ]
  },
  {
   "cell_type": "code",
   "execution_count": 6,
   "id": "9537b44e-05d0-4a08-a602-39aa1fc1f380",
   "metadata": {},
   "outputs": [
    {
     "ename": "IndentationError",
     "evalue": "expected an indented block after 'if' statement on line 9 (1321797477.py, line 11)",
     "output_type": "error",
     "traceback": [
      "\u001b[1;36m  Cell \u001b[1;32mIn[6], line 11\u001b[1;36m\u001b[0m\n\u001b[1;33m    else:\u001b[0m\n\u001b[1;37m    ^\u001b[0m\n\u001b[1;31mIndentationError\u001b[0m\u001b[1;31m:\u001b[0m expected an indented block after 'if' statement on line 9\n"
     ]
    }
   ],
   "source": [
    "# Create a program that prints the prime numbers in a given range using a 'for' loop\n",
    "lower_value = int(input(\"Enter the lowest range value:\"))\n",
    "upper_value = int(input(\"Enter the upper range value:\"))\n",
    "\n",
    "print(\"The prime numbers are in the range are:\")\n",
    "for number in range(lower_value , upper_value+1):\n",
    "        if number>1:\n",
    "            for i in range(2,number):\n",
    "                if(number%1) == 0:\n",
    "                    \n",
    "        else:\n",
    "          print(number)          "
   ]
  },
  {
   "cell_type": "markdown",
   "id": "397c8513-5304-4f5e-af84-b34c7090c309",
   "metadata": {},
   "source": [
    "#### QUESTION 13"
   ]
  },
  {
   "cell_type": "code",
   "execution_count": 40,
   "id": "cbdb334d-e145-4c84-b3f1-233cbd2f3df8",
   "metadata": {},
   "outputs": [
    {
     "name": "stdout",
     "output_type": "stream",
     "text": [
      "Number of vowels are : \n",
      "7\n"
     ]
    }
   ],
   "source": [
    "# Develop a program that counts the number of vowels in a string using a 'for' loop\n",
    "string = \"I am pursuing Masters\"\n",
    "vowels = 0\n",
    "for i in string:\n",
    "    if(i==\"a\" or i ==\"e\" or i == \"i\" or i == \"o\" or i == \"u\" or i ==\"A\" or i == \"E\" or i == \"I\" or i == \"O\" or i == \"U\"):\n",
    "        vowels = vowels+1\n",
    "\n",
    "print(\"Number of vowels are : \")\n",
    "print(vowels)"
   ]
  },
  {
   "cell_type": "markdown",
   "id": "20504605-892d-4f97-a041-da1eedb61a00",
   "metadata": {},
   "source": [
    "#### QUESTION 14"
   ]
  },
  {
   "cell_type": "code",
   "execution_count": 5,
   "id": "7e93d7e6-1564-4bfe-92aa-b6756f035e76",
   "metadata": {},
   "outputs": [
    {
     "name": "stdout",
     "output_type": "stream",
     "text": [
      "The maximum element in the 2D list is: 9\n"
     ]
    }
   ],
   "source": [
    "# Write a program to find the maximum element in 2D list using a nested 'for' loop\n",
    "def find_max_element_2d(list_2d):\n",
    "    max_element = float('-inf')\n",
    "    for row in list_2d:\n",
    "        for element in row:\n",
    "            if element > max_element:\n",
    "                max_element = element\n",
    "\n",
    "    return max_element\n",
    "\n",
    "two_d_list = [[1,5,3],\n",
    "             [8,2,4],\n",
    "             [6,9,7]]\n",
    "result = find_max_element_2d(two_d_list)\n",
    "print(f\"The maximum element in the 2D list is: {result}\")"
   ]
  },
  {
   "cell_type": "markdown",
   "id": "2b288c83-ef97-441d-bd19-003480778464",
   "metadata": {},
   "source": [
    "#### QUESTION 15"
   ]
  },
  {
   "cell_type": "code",
   "execution_count": 7,
   "id": "e5c33b97-73f0-48f5-afde-f58d53a27440",
   "metadata": {},
   "outputs": [
    {
     "name": "stdout",
     "output_type": "stream",
     "text": [
      "Original list : [1, 2, 3, 2, 4, 2, 5]\n",
      "List after removing 2: [1, 3, 4, 5]\n"
     ]
    }
   ],
   "source": [
    "# Create a program that removes all the occurences of a specific element from  a list using 'for' loop\n",
    "def remove_element_from_list(input_list , element_to_remove):\n",
    "    result_list = []\n",
    "    for item in input_list:\n",
    "        if item!= element_to_remove:\n",
    "            result_list.append(item)\n",
    "    return result_list\n",
    "\n",
    "original_list = [1,2,3,2,4,2,5]\n",
    "element_to_remove = 2\n",
    "updated_list = remove_element_from_list(original_list , element_to_remove)\n",
    "print(f\"Original list : {original_list}\")\n",
    "print(f\"List after removing {element_to_remove}: {updated_list}\")"
   ]
  },
  {
   "cell_type": "markdown",
   "id": "c4505748-84f8-473c-ad47-70ebc06cc135",
   "metadata": {},
   "source": [
    "#### QUESTION 16"
   ]
  },
  {
   "cell_type": "code",
   "execution_count": 8,
   "id": "e6dcd708-435f-40d6-98d2-6e743d343afd",
   "metadata": {},
   "outputs": [
    {
     "name": "stdout",
     "output_type": "stream",
     "text": [
      "\n",
      "Multiplication table for 1:\n",
      "\n",
      "1*1 = 1\n",
      "1*2 = 2\n",
      "1*3 = 3\n",
      "1*4 = 4\n",
      "1*5 = 5\n",
      "1*6 = 6\n",
      "1*7 = 7\n",
      "1*8 = 8\n",
      "1*9 = 9\n",
      "1*10 = 10\n",
      "\n",
      "Multiplication table for 2:\n",
      "\n",
      "2*1 = 2\n",
      "2*2 = 4\n",
      "2*3 = 6\n",
      "2*4 = 8\n",
      "2*5 = 10\n",
      "2*6 = 12\n",
      "2*7 = 14\n",
      "2*8 = 16\n",
      "2*9 = 18\n",
      "2*10 = 20\n",
      "\n",
      "Multiplication table for 3:\n",
      "\n",
      "3*1 = 3\n",
      "3*2 = 6\n",
      "3*3 = 9\n",
      "3*4 = 12\n",
      "3*5 = 15\n",
      "3*6 = 18\n",
      "3*7 = 21\n",
      "3*8 = 24\n",
      "3*9 = 27\n",
      "3*10 = 30\n",
      "\n",
      "Multiplication table for 4:\n",
      "\n",
      "4*1 = 4\n",
      "4*2 = 8\n",
      "4*3 = 12\n",
      "4*4 = 16\n",
      "4*5 = 20\n",
      "4*6 = 24\n",
      "4*7 = 28\n",
      "4*8 = 32\n",
      "4*9 = 36\n",
      "4*10 = 40\n",
      "\n",
      "Multiplication table for 5:\n",
      "\n",
      "5*1 = 5\n",
      "5*2 = 10\n",
      "5*3 = 15\n",
      "5*4 = 20\n",
      "5*5 = 25\n",
      "5*6 = 30\n",
      "5*7 = 35\n",
      "5*8 = 40\n",
      "5*9 = 45\n",
      "5*10 = 50\n"
     ]
    }
   ],
   "source": [
    "# Develop a program that generates a multiplication table for numbers  from 1 to 5 using a nested ''for' loop\n",
    "def generate_multiplication_table():\n",
    "    for i in range(1,6):\n",
    "        print(f\"\\nMultiplication table for {i}:\\n\")\n",
    "        for j in range(1,11):\n",
    "            result = i*j\n",
    "            print(f\"{i}*{j} = {result}\")\n",
    "\n",
    "generate_multiplication_table()\n"
   ]
  },
  {
   "cell_type": "markdown",
   "id": "f18a56ed-500d-4421-b252-4cabc775756c",
   "metadata": {},
   "source": [
    "#### QUESTION 17"
   ]
  },
  {
   "cell_type": "code",
   "execution_count": 11,
   "id": "7c700d27-0ca6-48dd-be41-89313f48372e",
   "metadata": {},
   "outputs": [
    {
     "name": "stdout",
     "output_type": "stream",
     "text": [
      "Fahrenheit temperatures : [32, 68, 86, 104, 212]\n",
      "Celsius temperatures : [0.0, 20.0, 30.0, 40.0, 100.0]\n"
     ]
    }
   ],
   "source": [
    "# Write a program that converts a list of Fahrenheit temperatures to Celsius using a 'for' loop\n",
    "def fahrenheit_to_celsius(fahrenheit_list):\n",
    "    celsius_list = []\n",
    "    for temp_f in fahrenheit_list:\n",
    "        temp_c = (temp_f - 32)*5/9\n",
    "        celsius_list.append(temp_c)\n",
    "\n",
    "    return celsius_list\n",
    "\n",
    "fahrenheit_temps = [32,68,86,104,212]\n",
    "celsius_temps = fahrenheit_to_celsius(fahrenheit_temps)\n",
    "\n",
    "print(f\"Fahrenheit temperatures : {fahrenheit_temps}\")\n",
    "print(f\"Celsius temperatures : {celsius_temps}\")"
   ]
  },
  {
   "cell_type": "markdown",
   "id": "68c31995-b398-4a26-9e6d-7cd24e3cf6f2",
   "metadata": {},
   "source": [
    "#### QUESTION 18"
   ]
  },
  {
   "cell_type": "code",
   "execution_count": 15,
   "id": "41381a20-3760-4e92-89a6-21e64b115aa3",
   "metadata": {},
   "outputs": [
    {
     "name": "stdout",
     "output_type": "stream",
     "text": [
      "Common elements: [3, 4, 5]\n"
     ]
    }
   ],
   "source": [
    "# Create a program to print the common elements from two lists using a 'for' loop\n",
    "def find_common_elements(list1 , list2):\n",
    "    common_elements = []\n",
    "    for item1 in list1:\n",
    "        for item2 in list2:\n",
    "            if item1 == item2 and item1 not in common_elements:\n",
    "                common_elements.append(item1)\n",
    "\n",
    "    return common_elements\n",
    "\n",
    "list_a = [1,2,3,4,5]\n",
    "list_b = [3,4,5,6,7]\n",
    "common_elements_result = find_common_elements(list_a,list_b)\n",
    "if common_elements_result:\n",
    "    print(f\"Common elements: {common_elements_result}\")\n",
    "else:\n",
    "    print(f\"No common elements found.\")"
   ]
  },
  {
   "cell_type": "markdown",
   "id": "fce86a98-f27e-4e03-be9a-ad15b14d5d5e",
   "metadata": {},
   "source": [
    "#### QUESTION 19"
   ]
  },
  {
   "cell_type": "code",
   "execution_count": 19,
   "id": "30368c12-4d77-4c3c-804b-bdf575e1283b",
   "metadata": {},
   "outputs": [
    {
     "name": "stdout",
     "output_type": "stream",
     "text": [
      "* \n",
      "* * \n",
      "* * * \n",
      "* * * * \n",
      "* * * * * \n"
     ]
    }
   ],
   "source": [
    "# Develop a program that prints right-angled triangles using for loop . \n",
    "for i in range(5):\n",
    "    for j in range(i+1):\n",
    "        print(\"*\" , end = \" \")\n",
    "    print()"
   ]
  },
  {
   "cell_type": "markdown",
   "id": "c1d73224-7ec4-4a3a-b956-98a35bb3798b",
   "metadata": {},
   "source": [
    "#### QUESTION 20"
   ]
  },
  {
   "cell_type": "code",
   "execution_count": 22,
   "id": "c09a5438-2f85-4006-b1c3-49d8bf512568",
   "metadata": {},
   "outputs": [
    {
     "name": "stdout",
     "output_type": "stream",
     "text": [
      "The GCD of 48 and 18 is: 6\n"
     ]
    }
   ],
   "source": [
    "# Write a program to find the Greatest Common Divisor (GCD) of two numbers using for loop\n",
    "def find_gcd(num1 , num2):\n",
    "    smaller = min(num1 , num2)\n",
    "    for i in range(smaller, 0 , -1):\n",
    "        if num1 % i == 0 and num2 % i == 0:\n",
    "            return i\n",
    "\n",
    "    return 1\n",
    "\n",
    "number1 = 48\n",
    "number2 = 18\n",
    "result = find_gcd(number1 , number2)\n",
    "print(f\"The GCD of {number1} and {number2} is: {result}\")"
   ]
  },
  {
   "cell_type": "markdown",
   "id": "51bc9f63-126d-4dd3-ad3d-176edae06049",
   "metadata": {},
   "source": [
    "### ADVANCED LEVEL"
   ]
  },
  {
   "cell_type": "markdown",
   "id": "743d42c1-55ce-4dea-b2be-53db2efa8bbe",
   "metadata": {},
   "source": [
    "#### QUESTION 21"
   ]
  },
  {
   "cell_type": "code",
   "execution_count": 1,
   "id": "01908482-4113-4855-835f-843ddd014f32",
   "metadata": {},
   "outputs": [
    {
     "name": "stdout",
     "output_type": "stream",
     "text": [
      "[6, 15, 24]\n"
     ]
    }
   ],
   "source": [
    "# Create a program that calculates the sum of the digits of the numbers in a list using list comprehension\n",
    "def sum_of_digits(num):\n",
    "    return sum(int(digit) for digit in str(num))\n",
    "def sum_of_digits_in_list(numbers):\n",
    "    return[sum_of_digits(num) for num in numbers]\n",
    "\n",
    "numbers_list = [123,456,789]\n",
    "result = sum_of_digits_in_list(numbers_list)\n",
    "print(result)"
   ]
  },
  {
   "cell_type": "markdown",
   "id": "09e70f02-063c-44e1-97b9-085112ee013f",
   "metadata": {},
   "source": [
    "#### QUESTION 22"
   ]
  },
  {
   "cell_type": "code",
   "execution_count": 5,
   "id": "3fd2e787-389a-4238-a8ae-af1f572cc592",
   "metadata": {},
   "outputs": [
    {
     "name": "stdin",
     "output_type": "stream",
     "text": [
      "Enter a number: 524\n"
     ]
    },
    {
     "name": "stdout",
     "output_type": "stream",
     "text": [
      "Prime factors of 524 : [2, 131]\n"
     ]
    }
   ],
   "source": [
    "# Write a program to find the prime factors of a given number using a 'for' loop and list comprehension \n",
    "def prime_factors(n):\n",
    "    factors = [factor for factor in range(2,n+1) if n% factor == 0 and all (factor%i!= 0 for i in range(2,int(factor**0.5)+1))]\n",
    "    return factors\n",
    "\n",
    "number = int(input(\"Enter a number:\"))\n",
    "result = prime_factors(number)\n",
    "print(f\"Prime factors of {number} : {result}\")"
   ]
  },
  {
   "cell_type": "markdown",
   "id": "dcdde6f9-2401-4039-aa29-463a9e44f217",
   "metadata": {},
   "source": [
    "#### QUESTION 23"
   ]
  },
  {
   "cell_type": "code",
   "execution_count": 10,
   "id": "0e2caca8-76d2-497b-8024-073f8ccb9c34",
   "metadata": {},
   "outputs": [
    {
     "name": "stdout",
     "output_type": "stream",
     "text": [
      "the unique values from list1 is\n",
      "1\n",
      "2\n",
      "3\n",
      "4\n",
      "5\n"
     ]
    }
   ],
   "source": [
    "# Develop a program that extracts unique elements from a list and stores them in a new list using a list comprehension\n",
    "def unique(list1):\n",
    "    unique_list = []\n",
    "    for x in list1:\n",
    "        if x not in unique_list:\n",
    "            unique_list.append(x)\n",
    "    for x in unique_list:\n",
    "        print (x)\n",
    "\n",
    "list1 = [1,2,1,1,3,4,3,3,5]\n",
    "print(\"the unique values from list1 is\")\n",
    "unique(list1)"
   ]
  },
  {
   "cell_type": "markdown",
   "id": "3f46e5f6-d190-4687-94b8-810fb3bf0b9b",
   "metadata": {},
   "source": [
    "#### QUESTION 24"
   ]
  },
  {
   "cell_type": "code",
   "execution_count": 17,
   "id": "95741901-e18f-4897-80a9-13ea734e2ab7",
   "metadata": {},
   "outputs": [
    {
     "name": "stdout",
     "output_type": "stream",
     "text": [
      "101 111 121 131 141 151 161 171 181 191 202 212 222 232 242 252 262 272 282 292 303 313 323 333 343 353 363 373 383 393 404 414 424 434 444 454 464 474 484 494 505 515 525 535 545 555 565 575 585 595 606 616 626 636 646 656 666 676 686 696 707 717 727 737 747 757 767 777 787 797 808 818 828 838 848 858 868 878 888 898 909 919 929 939 949 959 969 979 989 999 1001 1111 1221 1331 1441 1551 1661 1771 1881 1991 "
     ]
    }
   ],
   "source": [
    "# Create a program that generates a list of all palindromic numbners up to a specified limit using a list comprehension\n",
    "def isPalindrome(n:int) -> bool:\n",
    "    rev = 0\n",
    "    i = n\n",
    "    while i>0:\n",
    "        rev = rev*10 + i%10\n",
    "        i //= 10\n",
    "    return (n == rev)\n",
    "\n",
    "def countPal(minn:int , maxx:int) -> None:\n",
    "    for i in range (minn , maxx + 1):\n",
    "        if isPalindrome(i):\n",
    "            print(i , end = \" \")\n",
    "\n",
    "countPal(100,2000)"
   ]
  },
  {
   "cell_type": "markdown",
   "id": "d405ac92-47d7-4b85-8eab-e555e7379c73",
   "metadata": {},
   "source": [
    "#### QUESTION 25"
   ]
  },
  {
   "cell_type": "code",
   "execution_count": 18,
   "id": "13ed3423-7923-4fff-bd87-b607ed2b5266",
   "metadata": {},
   "outputs": [
    {
     "name": "stdout",
     "output_type": "stream",
     "text": [
      "[1, 2, 3, 4, 5, 6, 7]\n"
     ]
    }
   ],
   "source": [
    "# Write a program to flatten a nested list using list comprehension\n",
    "list = [[1], [2,3],[4,5,6,7]]\n",
    "flat_list = []\n",
    "for sublist in list:\n",
    "    for num in sublist:\n",
    "        flat_list.append(num)\n",
    "\n",
    "print(flat_list)\n",
    "    "
   ]
  },
  {
   "cell_type": "markdown",
   "id": "11fde3b4-442b-4085-affa-4b8ff402d30b",
   "metadata": {},
   "source": [
    "#### QUESTION 26"
   ]
  },
  {
   "cell_type": "code",
   "execution_count": null,
   "id": "b1061f4b-2265-463a-8dab-2fa8b91b606a",
   "metadata": {},
   "outputs": [],
   "source": [
    "# Develop a program that computes the sum of even and odd numbers in a list separately using list comprehension"
   ]
  },
  {
   "cell_type": "code",
   "execution_count": 20,
   "id": "30b8ef06-36a8-4aea-bdfe-602aaeb0b765",
   "metadata": {},
   "outputs": [
    {
     "name": "stdout",
     "output_type": "stream",
     "text": [
      "The original list is: [1, 2, 3, 4, 5, 6, 7, 8, 9, 10]\n",
      "Odd digit sum :26\n",
      "Even digit sum:20\n"
     ]
    }
   ],
   "source": [
    "list = [1,2,3,4,5,6,7,8,9,10]\n",
    "print(\"The original list is: \" + str(list))\n",
    "odd_sum = 0\n",
    "even_sum = 0\n",
    "for sub in list:\n",
    "    for ele in str(sub):\n",
    "        if int(ele)%2 == 0:\n",
    "            even_sum += int(ele)\n",
    "        else:\n",
    "            odd_sum += int(ele)\n",
    "\n",
    "print(\"Odd digit sum :\" + str(odd_sum))\n",
    "print(\"Even digit sum:\" + str(even_sum))"
   ]
  },
  {
   "cell_type": "markdown",
   "id": "16f0d2e0-d0bb-45de-a883-39fec41f41ab",
   "metadata": {},
   "source": [
    "#### QUESTION 27"
   ]
  },
  {
   "cell_type": "code",
   "execution_count": null,
   "id": "6fab6426-b4fe-4b78-b65e-ed4ac0a1c501",
   "metadata": {},
   "outputs": [],
   "source": [
    "# Create a program that generates a list of all squares of odd numbers between 1 and 10 using list comprehension "
   ]
  },
  {
   "cell_type": "code",
   "execution_count": 23,
   "id": "f431cfa5-518f-4097-b551-4428f954c349",
   "metadata": {},
   "outputs": [
    {
     "name": "stdout",
     "output_type": "stream",
     "text": [
      "[1, 9, 25, 49, 81]\n"
     ]
    }
   ],
   "source": [
    "list = [1,2,3,4,5,6,7,8,9,10]\n",
    "result= [i*i for i in list if i%2!=0]\n",
    "print(result)"
   ]
  },
  {
   "cell_type": "markdown",
   "id": "96060029-67dc-4c35-af1c-e39f0d95fe48",
   "metadata": {},
   "source": [
    "#### QUESTION 28"
   ]
  },
  {
   "cell_type": "code",
   "execution_count": 25,
   "id": "69872b9a-1b7b-4c14-8847-dec3e26cd3d7",
   "metadata": {},
   "outputs": [
    {
     "name": "stdout",
     "output_type": "stream",
     "text": [
      "Resultant dictionary is:{'Rash': 1, 'Kil': 3, 'Varsha': 5}\n"
     ]
    }
   ],
   "source": [
    "# Write a program that combines two lists into a dictionary using list comprehension\n",
    "keys = [\"Rash\" , \"Kil\" , \"Varsha\"]\n",
    "values = [1,3,5]\n",
    "res = {}\n",
    "for key in keys:\n",
    "    for value in values:\n",
    "        res[key] = value\n",
    "        values.remove(value)\n",
    "        break\n",
    "\n",
    "print(\"Resultant dictionary is:\" + str(res))"
   ]
  },
  {
   "cell_type": "markdown",
   "id": "04a9373a-3799-4adc-8b55-936cd373d48a",
   "metadata": {},
   "source": [
    "#### QUESTION 29"
   ]
  },
  {
   "cell_type": "code",
   "execution_count": 27,
   "id": "3aae0f1c-1723-46a0-8574-146a92d4c4a1",
   "metadata": {},
   "outputs": [
    {
     "name": "stdout",
     "output_type": "stream",
     "text": [
      "['e', 'o', 'o']\n"
     ]
    }
   ],
   "source": [
    "# Develop a program that extracts the vowels from a string and stores them in a list using list comprehension\n",
    "def extract_vowels(input_string):\n",
    "    vowels = [char for char in input_string if char.lower() in \"aeiou\"]\n",
    "    return vowels\n",
    "\n",
    "input_string = \"Hello , World!\"\n",
    "result_list = extract_vowels(input_string)\n",
    "print(result_list)"
   ]
  },
  {
   "cell_type": "markdown",
   "id": "5c88989a-3de0-4455-89d0-faa5defcecb7",
   "metadata": {},
   "source": [
    "#### QUESTION 30"
   ]
  },
  {
   "cell_type": "code",
   "execution_count": 30,
   "id": "1aba2fff-0beb-4125-accd-558491c4e08a",
   "metadata": {},
   "outputs": [
    {
     "name": "stdout",
     "output_type": "stream",
     "text": [
      "['88', '91', '86']\n"
     ]
    }
   ],
   "source": [
    "# Create a program that removes all non- numeric characters from a list of strings using list comprehension\n",
    "import re\n",
    "list = ['Judy 88 ' , 'animal 91 ' , 'Mo 86 ']\n",
    "res = []\n",
    "for i in list:\n",
    "    m = re.search(r\"\\b(\\d{2})\\b\" , i)\n",
    "    if m:\n",
    "        res.append(m.group())\n",
    "\n",
    "print(res)"
   ]
  },
  {
   "cell_type": "markdown",
   "id": "5bd92994-cb46-4cac-8345-03cc9d28a991",
   "metadata": {},
   "source": [
    "### CHALLENGE LEVEL"
   ]
  },
  {
   "cell_type": "markdown",
   "id": "7e4c37ef-46e6-4945-912a-5c0f8e3ae904",
   "metadata": {},
   "source": [
    "#### QUESTION 31"
   ]
  },
  {
   "cell_type": "code",
   "execution_count": 34,
   "id": "97508cb1-b2c2-4b46-9904-0d63b1c54cff",
   "metadata": {},
   "outputs": [
    {
     "name": "stdout",
     "output_type": "stream",
     "text": [
      "2\n",
      "3\n",
      "5\n",
      "7\n",
      "11\n",
      "13\n",
      "17\n",
      "19\n",
      "23\n",
      "29\n",
      "31\n",
      "37\n",
      "41\n",
      "43\n",
      "47\n",
      "53\n",
      "59\n",
      "61\n",
      "67\n",
      "71\n",
      "73\n",
      "79\n",
      "83\n",
      "89\n",
      "97\n"
     ]
    }
   ],
   "source": [
    "# Write a program to generate a list of prime numbers using the Sieve of Eratosthenes algorithm and list comprehension\n",
    "def prime_eratosthenes(n):\n",
    "    prime_list = []\n",
    "    for i in range(2,n+1):\n",
    "        if i not in prime_list:\n",
    "            print(i)\n",
    "            for j in range(i*i , n+1 , i):\n",
    "                prime_list.append(j)\n",
    "\n",
    "prime_eratosthenes(100)"
   ]
  },
  {
   "cell_type": "markdown",
   "id": "ed7fc5fb-559a-4eb8-b0cd-4ad45816f2ef",
   "metadata": {},
   "source": [
    "#### QUESTION 32"
   ]
  },
  {
   "cell_type": "code",
   "execution_count": 2,
   "id": "c6448352-130f-42d1-9d4f-550e867a8888",
   "metadata": {},
   "outputs": [
    {
     "name": "stdin",
     "output_type": "stream",
     "text": [
      "Enter the value of n: 17\n"
     ]
    },
    {
     "name": "stdout",
     "output_type": "stream",
     "text": [
      "[(3, 4, 5), (8, 6, 10), (5, 12, 13), (15, 8, 17)]\n"
     ]
    }
   ],
   "source": [
    "# Create a program that generates a list of all Pythagoras triplets up to a specified limit using list comprehension\n",
    "n = int(input(\"Enter the value of n:\"))\n",
    "\n",
    "a=0\n",
    "b=0\n",
    "c=0\n",
    "m=2\n",
    "triplets = []\n",
    "\n",
    "while c<n :\n",
    "    for i in range( 1 , m , 1):\n",
    "        a = m*m - i*i\n",
    "        b = 2*m*i\n",
    "        c = m*m + i*i\n",
    "        if c>n:\n",
    "            break\n",
    "        triplets.append((a,b,c))\n",
    "    m += 1\n",
    "\n",
    "print(triplets)"
   ]
  },
  {
   "cell_type": "markdown",
   "id": "0624269a-0d64-4083-9de8-beca7450fa0c",
   "metadata": {},
   "source": [
    "#### QUESTION 33"
   ]
  },
  {
   "cell_type": "code",
   "execution_count": 6,
   "id": "681b26cb-f10b-405c-8305-911859952ffc",
   "metadata": {},
   "outputs": [
    {
     "name": "stdout",
     "output_type": "stream",
     "text": [
      "[[('a', 1), ('b', 4), ('c', 9)], [('a', 1), ('b', 4), ('d', 9)], [('a', 1), ('c', 4), ('b', 9)], [('a', 1), ('c', 4), ('d', 9)], [('a', 1), ('d', 4), ('b', 9)], [('a', 1), ('d', 4), ('c', 9)], [('b', 1), ('a', 4), ('c', 9)], [('b', 1), ('a', 4), ('d', 9)], [('b', 1), ('c', 4), ('a', 9)], [('b', 1), ('c', 4), ('d', 9)], [('b', 1), ('d', 4), ('a', 9)], [('b', 1), ('d', 4), ('c', 9)], [('c', 1), ('a', 4), ('b', 9)], [('c', 1), ('a', 4), ('d', 9)], [('c', 1), ('b', 4), ('a', 9)], [('c', 1), ('b', 4), ('d', 9)], [('c', 1), ('d', 4), ('a', 9)], [('c', 1), ('d', 4), ('b', 9)], [('d', 1), ('a', 4), ('b', 9)], [('d', 1), ('a', 4), ('c', 9)], [('d', 1), ('b', 4), ('a', 9)], [('d', 1), ('b', 4), ('c', 9)], [('d', 1), ('c', 4), ('a', 9)], [('d', 1), ('c', 4), ('b', 9)]]\n"
     ]
    }
   ],
   "source": [
    "# Develop a program that generates a list of all possible combinations of two lists using list comprehension\n",
    "import itertools\n",
    "from itertools import permutations\n",
    "list_1 = [\"a\" , \"b\" , \"c\", \"d\"]\n",
    "list_2 = [1,4,9]\n",
    "unique_combinations = []\n",
    "\n",
    "permut = itertools.permutations(list_1 , len(list_2))\n",
    "\n",
    "for comb in permut:\n",
    "    zipped = zip(comb,list_2)\n",
    "    unique_combinations.append(list(zipped))\n",
    "\n",
    "print(unique_combinations)"
   ]
  },
  {
   "cell_type": "markdown",
   "id": "f0315221-863e-426b-8438-c20b4827c2a2",
   "metadata": {},
   "source": [
    "#### QUESTION 34"
   ]
  },
  {
   "cell_type": "code",
   "execution_count": 19,
   "id": "fa76088c-cb50-448e-815c-88882c3ec3bb",
   "metadata": {},
   "outputs": [
    {
     "name": "stdout",
     "output_type": "stream",
     "text": [
      "Mean is:5.583333333333333\n",
      "Median is:6.5\n",
      "Mode is:8.333333333333334\n"
     ]
    }
   ],
   "source": [
    "# Write a program that calculates the mean , median , and mode of a list of numbers using list comprehension\n",
    "list = [1,2,3,4,7,5,6,7,7,8,8,9]\n",
    "# MEAN\n",
    "n = len(list)\n",
    "sum_ = sum(list)\n",
    "mean = sum_/n\n",
    "print(\"Mean is:\" + str(mean))\n",
    "# MEDIAN\n",
    "list.sort()\n",
    "if n%2==0:\n",
    "    median1 = list[n//2]\n",
    "    median2 = list[n//2 - 1]\n",
    "    median = (median1 + median2)/2\n",
    "else:\n",
    "    median = list[n//2]\n",
    "print(\"Median is:\" + str(median))\n",
    "\n",
    "# MODE\n",
    "mode = 3*median - 2*mean\n",
    "print(\"Mode is:\" + str(mode))"
   ]
  },
  {
   "cell_type": "markdown",
   "id": "a5972658-6e38-4a9d-9d31-5f14d9ca6612",
   "metadata": {},
   "source": [
    "#### QUESTION 35"
   ]
  },
  {
   "cell_type": "code",
   "execution_count": 22,
   "id": "d5430c95-db0c-4332-8b2e-565525cde302",
   "metadata": {},
   "outputs": [
    {
     "name": "stdout",
     "output_type": "stream",
     "text": [
      "             1 \n",
      "           1    1 \n",
      "         1    2    1 \n",
      "       1    3    3    1 \n",
      "     1    4    6    4    1 \n"
     ]
    }
   ],
   "source": [
    "# Create a program that generates Pascal's triangle up to a specified number of rows using list comprehension\n",
    "from math import factorial\n",
    "n = 5\n",
    "for i in range(1,n+1):\n",
    "    for j in range(0,n-i+1):\n",
    "        print( ' ' , end = \" \")\n",
    "        C= 1\n",
    "    for j in range(1,i+1):\n",
    "        print( '  ' , C , sep = ' ', end = ' ')\n",
    "        C = C*(i-j)//j\n",
    "\n",
    "    print()\n",
    "        \n"
   ]
  },
  {
   "cell_type": "markdown",
   "id": "53163f66-b4cb-4967-973c-9bd0e486fe99",
   "metadata": {},
   "source": [
    "#### QUESTION 36"
   ]
  },
  {
   "cell_type": "code",
   "execution_count": 26,
   "id": "7c0ee7b2-96f0-47a5-b7ab-cd8517aea734",
   "metadata": {},
   "outputs": [
    {
     "name": "stdout",
     "output_type": "stream",
     "text": [
      "[1, 2, 6, 6, 3]\n"
     ]
    }
   ],
   "source": [
    "# Develop a program that calculates the sum of the digits of a factorial of numbers from 1 to 5 using list comprehension\n",
    "import math\n",
    "def digit_sum(number):\n",
    "    return sum(int(digit) for digit in str(number))\n",
    "\n",
    "factorial_sums = [digit_sum(math.factorial(num)) for num in range(1,6)]\n",
    "print(factorial_sums)"
   ]
  },
  {
   "cell_type": "markdown",
   "id": "ef101d22-9063-4508-850a-dd8f6de41032",
   "metadata": {},
   "source": [
    "#### QUESTION 37"
   ]
  },
  {
   "cell_type": "code",
   "execution_count": 35,
   "id": "a0ccc3a9-af9f-4aca-bce9-52fe2ce37c34",
   "metadata": {},
   "outputs": [
    {
     "name": "stdout",
     "output_type": "stream",
     "text": [
      "The word with longest length is:  three  and length is 5\n"
     ]
    }
   ],
   "source": [
    "# Write a program that finds the longest word in a sentence using list comprehension\n",
    "def longestLength(a):\n",
    "    max1 = len(a[0])\n",
    "    temp = a[0]\n",
    "    for i in a:\n",
    "        if (len(i) > max1):\n",
    "            max1 = len(i)\n",
    "            temp = i\n",
    "\n",
    "    print(\"The word with longest length is: \" , temp, \" and length is\" , max1)\n",
    "\n",
    "a = [\"one\" , \"two\" , \"three\"]\n",
    "longestLength(a)"
   ]
  },
  {
   "cell_type": "markdown",
   "id": "7b5c51e8-0570-4490-a9b1-a0c41fce3c99",
   "metadata": {},
   "source": [
    "#### QUESTION 38"
   ]
  },
  {
   "cell_type": "code",
   "execution_count": 50,
   "id": "d248f70d-62fe-494e-a08b-c622cf6932b1",
   "metadata": {},
   "outputs": [
    {
     "name": "stdout",
     "output_type": "stream",
     "text": [
      "[]\n"
     ]
    }
   ],
   "source": [
    "# Create a program that filters a list of strings to include only those with more than three vowels using list comprehension\n",
    "def vowels_check(word):\n",
    "    vowels = 'aeiouAEIOU'\n",
    "    count = 0\n",
    "    for vowel in vowels:\n",
    "        count += word.count(vowel)\n",
    "    if count > 3 : return False\n",
    "    return False\n",
    "\n",
    "fruits = ['mango' , 'kiwi' , 'strawberry' , 'guava' , 'pineapple' , 'mandarin']\n",
    "fruits_with_more_than_three_vowels = [fruit for fruit in fruits if vowels_check(fruit)]\n",
    "print(fruits_with_more_than_three_vowels)"
   ]
  },
  {
   "cell_type": "markdown",
   "id": "e5c628a3-03e2-4756-94e1-81beaf2c11cd",
   "metadata": {},
   "source": [
    "#### QUESTION 39"
   ]
  },
  {
   "cell_type": "code",
   "execution_count": 41,
   "id": "422ac797-3910-4349-8f4f-75345ca80b9e",
   "metadata": {},
   "outputs": [
    {
     "name": "stdout",
     "output_type": "stream",
     "text": [
      "13501\n"
     ]
    }
   ],
   "source": [
    "# Develop a program that calculates the sum of the digits of numbers from 1 to 1000 using list comprehension\n",
    "digit_sum = sum(sum(int(digit) for digit in str(num)) for num in range(1,1001))\n",
    "print(digit_sum)"
   ]
  },
  {
   "cell_type": "markdown",
   "id": "c30c0eba-a181-4455-bbde-c30723503a7c",
   "metadata": {},
   "source": [
    "#### QUESTION 40"
   ]
  },
  {
   "cell_type": "code",
   "execution_count": 45,
   "id": "6fbefd54-81b9-47a4-87e6-d58229918309",
   "metadata": {},
   "outputs": [
    {
     "name": "stdout",
     "output_type": "stream",
     "text": [
      "[5, 7, 9, 11, 33, 55, 77, 99, 101, 111, 121, 131, 141, 151, 161, 171, 181, 191, 303, 313, 323, 333, 343, 353, 363, 373, 383, 393, 505, 515, 525, 535, 545, 555, 565, 575, 585, 595, 707, 717, 727, 737, 747, 757, 767, 777, 787, 797, 909, 919, 929, 939, 949, 959, 969, 979, 989, 999]\n"
     ]
    }
   ],
   "source": [
    "# Write a program that generates a list of prime palindromic numbers using list comprehension\n",
    "def is_prime(num):\n",
    "    if num<2:\n",
    "        return False\n",
    "    for i in range(2,int(num**0.5)+1):\n",
    "        if num%i == 0:\n",
    "            return False\n",
    "        return True\n",
    "\n",
    "def is_palindrome(num):\n",
    "    return str(num) == str(num)[::-1]\n",
    "\n",
    "prime_palindromes = [num for num in range(1,1001) if is_prime(num) and is_palindrome(num)]\n",
    "print(prime_palindromes)"
   ]
  }
 ],
 "metadata": {
  "kernelspec": {
   "display_name": "Python 3 (ipykernel)",
   "language": "python",
   "name": "python3"
  },
  "language_info": {
   "codemirror_mode": {
    "name": "ipython",
    "version": 3
   },
   "file_extension": ".py",
   "mimetype": "text/x-python",
   "name": "python",
   "nbconvert_exporter": "python",
   "pygments_lexer": "ipython3",
   "version": "3.11.4"
  }
 },
 "nbformat": 4,
 "nbformat_minor": 5
}
