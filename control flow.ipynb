{
 "cells": [
  {
   "cell_type": "markdown",
   "id": "6d3271d1-0c82-41b2-bf96-c4a71a02862a",
   "metadata": {},
   "source": [
    "## CONTROL FLOW ASSIGNMENT"
   ]
  },
  {
   "cell_type": "markdown",
   "id": "9be5170a-e274-4c06-b795-c89af88f2813",
   "metadata": {},
   "source": [
    "### BASIC IF-ELSE STATEMENTS"
   ]
  },
  {
   "cell_type": "markdown",
   "id": "01fb3247-0842-448d-955c-c0c209b3991a",
   "metadata": {},
   "source": [
    "#### QUESTION 1"
   ]
  },
  {
   "cell_type": "code",
   "execution_count": 1,
   "id": "00226668-11b1-4df6-9792-d4e6339e30dd",
   "metadata": {},
   "outputs": [
    {
     "name": "stdin",
     "output_type": "stream",
     "text": [
      "Enter the number :  46\n"
     ]
    },
    {
     "name": "stdout",
     "output_type": "stream",
     "text": [
      "Number is positive\n"
     ]
    }
   ],
   "source": [
    "# Write a program to check if a given number is positive or negative\n",
    "n = int(input(\"Enter the number : \"))\n",
    "if(n>0):\n",
    "    print(\"Number is positive\")\n",
    "else:\n",
    "    print(\"Number is negative\")"
   ]
  },
  {
   "cell_type": "markdown",
   "id": "d107ce4c-5677-4ebd-a3d6-6e52b11abd2f",
   "metadata": {},
   "source": [
    "#### QUESTION 2"
   ]
  },
  {
   "cell_type": "code",
   "execution_count": 3,
   "id": "8b4eaed6-b60f-4428-be67-2f2208586289",
   "metadata": {},
   "outputs": [
    {
     "name": "stdin",
     "output_type": "stream",
     "text": [
      "Enter the age of person : 12\n"
     ]
    },
    {
     "name": "stdout",
     "output_type": "stream",
     "text": [
      "Person is not eligible to vote\n"
     ]
    }
   ],
   "source": [
    "# Create a program that determines if a person is eligible to vote based on their age\n",
    "age = int(input(\"Enter the age of person :\"))\n",
    "if(age>=18):\n",
    "    print(\"Person is eligible to vote\")\n",
    "else:\n",
    "    print(\"Person is not eligible to vote\")"
   ]
  },
  {
   "cell_type": "markdown",
   "id": "8794753f-5168-4b50-8b15-3df8470615f4",
   "metadata": {},
   "source": [
    "#### QUESTION 3"
   ]
  },
  {
   "cell_type": "code",
   "execution_count": 4,
   "id": "9bad4213-d7f1-4d7d-8866-1a780abcb258",
   "metadata": {},
   "outputs": [
    {
     "name": "stdout",
     "output_type": "stream",
     "text": [
      "4\n"
     ]
    }
   ],
   "source": [
    "# Develop a program to find the maximum of two numbers using  if-else statements\n",
    "def maximum(a,b):\n",
    "    if a >= b :\n",
    "        return a\n",
    "    else:\n",
    "        return b\n",
    "\n",
    "a = 2\n",
    "b = 4\n",
    "print(maximum(a,b))"
   ]
  },
  {
   "cell_type": "markdown",
   "id": "ba815af7-8473-48ee-be2d-0a8b0456e46a",
   "metadata": {},
   "source": [
    "#### QUESTION 4"
   ]
  },
  {
   "cell_type": "code",
   "execution_count": 9,
   "id": "9a4ddeca-952e-47fb-b7e1-e75f3c0d53f0",
   "metadata": {},
   "outputs": [
    {
     "name": "stdin",
     "output_type": "stream",
     "text": [
      "Enter the year : 2020\n"
     ]
    },
    {
     "name": "stdout",
     "output_type": "stream",
     "text": [
      "It is a leap year\n"
     ]
    }
   ],
   "source": [
    "# Write a Python script to classify a given year as a leap year or not\n",
    "year = int(input(\"Enter the year :\"))\n",
    "if (year%4==0):\n",
    "    print(\"It is a leap year\")\n",
    "else:\n",
    "    print(\"It is not a leap year\")"
   ]
  },
  {
   "cell_type": "markdown",
   "id": "a71bab57-1979-4e82-afa6-61e13f727350",
   "metadata": {},
   "source": [
    "#### QUESTION 5"
   ]
  },
  {
   "cell_type": "code",
   "execution_count": 10,
   "id": "97b4a6e4-57fd-4f51-9445-dceae1ce510a",
   "metadata": {},
   "outputs": [
    {
     "name": "stdin",
     "output_type": "stream",
     "text": [
      "Enter a character :  e\n"
     ]
    },
    {
     "name": "stdout",
     "output_type": "stream",
     "text": [
      "The character'e' is a vowel! \n"
     ]
    }
   ],
   "source": [
    "# Create a program that checks whether a character is a vowel or a consonant\n",
    "character = input(\"Enter a character : \")\n",
    "vowels = ['a','e','i','o','u','A','E','I','O','U']\n",
    "if character in vowels:\n",
    "    print(f\"The character'{character}' is a vowel! \")\n",
    "else:\n",
    "    print(f\"The character'{character}' is a consonent!\")"
   ]
  },
  {
   "cell_type": "markdown",
   "id": "8cb253a8-ccce-4a42-afd8-5bee29ff3b6a",
   "metadata": {},
   "source": [
    "#### QUESTION 6"
   ]
  },
  {
   "cell_type": "code",
   "execution_count": 5,
   "id": "6680c174-f9d5-42ec-bb9a-12f955d42773",
   "metadata": {},
   "outputs": [
    {
     "name": "stdin",
     "output_type": "stream",
     "text": [
      "Enter a number: 56\n"
     ]
    },
    {
     "name": "stdout",
     "output_type": "stream",
     "text": [
      "Given number is even\n"
     ]
    }
   ],
   "source": [
    "# Implement a program that checks whether a given number is even or odd\n",
    "number = int(input(\"Enter a number:\"))\n",
    "if (number%2==0):\n",
    "    print(\"Given number is even\")\n",
    "else:\n",
    "    print(\"Given number is odd\")"
   ]
  },
  {
   "cell_type": "markdown",
   "id": "4b95d731-b5aa-410d-97cd-d6ad2a84e5aa",
   "metadata": {},
   "source": [
    "#### QUESTION 7"
   ]
  },
  {
   "cell_type": "code",
   "execution_count": 19,
   "id": "43d52083-4ba0-4624-9d02-aeb76c119c85",
   "metadata": {},
   "outputs": [
    {
     "name": "stdin",
     "output_type": "stream",
     "text": [
      "Enter a number: -5\n"
     ]
    },
    {
     "name": "stdout",
     "output_type": "stream",
     "text": [
      "The absolute value of -5.0 is 5.0\n"
     ]
    }
   ],
   "source": [
    "# Write a Python function to calculate the absolute value of a number without using the abs() function\n",
    "def calculate_absolute_value(number):\n",
    "    if number < 0:\n",
    "        return -number\n",
    "    else:\n",
    "        return number\n",
    "\n",
    "input_number = float(input(\"Enter a number:\"))\n",
    "result = calculate_absolute_value(input_number)\n",
    "print(f\"The absolute value of {input_number} is {result}\")"
   ]
  },
  {
   "cell_type": "markdown",
   "id": "a959152d-9af8-4b08-a580-86673e9bbd31",
   "metadata": {},
   "source": [
    "#### QUESTION 8"
   ]
  },
  {
   "cell_type": "code",
   "execution_count": 20,
   "id": "6793b6dd-029f-44b4-a590-4dc9ce0f1442",
   "metadata": {},
   "outputs": [
    {
     "name": "stdin",
     "output_type": "stream",
     "text": [
      "Enter the first number: 5\n",
      "Enter the second number: 6\n",
      "Enter the third number: 3\n"
     ]
    },
    {
     "name": "stdout",
     "output_type": "stream",
     "text": [
      "The largest number is: 6.0\n"
     ]
    }
   ],
   "source": [
    "# Develop a program that determines the largest of three given numbers using if-else statements\n",
    "def find_largest_number(num1 , num2 , num3):\n",
    "    if num1 >= num2 and num2 >= num3:\n",
    "        return num1\n",
    "    elif num2 >= num1 and num2 >= num3:\n",
    "        return num2\n",
    "    else:\n",
    "        return num3\n",
    "\n",
    "number1 = float(input(\"Enter the first number:\"))\n",
    "number2 = float(input(\"Enter the second number:\"))\n",
    "number3 = float(input(\"Enter the third number:\"))\n",
    "largest_number = find_largest_number(number1 , number2 , number3)\n",
    "print(f\"The largest number is: {largest_number}\")"
   ]
  },
  {
   "cell_type": "markdown",
   "id": "81d897dc-2081-466d-81dc-613177d94a81",
   "metadata": {},
   "source": [
    "#### QUESTION 9"
   ]
  },
  {
   "cell_type": "code",
   "execution_count": 6,
   "id": "6ff84f48-794a-48c9-974a-ae8e0e4acfab",
   "metadata": {},
   "outputs": [
    {
     "name": "stdin",
     "output_type": "stream",
     "text": [
      "Enter a string: malayalam\n"
     ]
    },
    {
     "name": "stdout",
     "output_type": "stream",
     "text": [
      "String is palindrome\n"
     ]
    }
   ],
   "source": [
    "# Create a program that check if a string is palindrome\n",
    "string = input(\"Enter a string:\")\n",
    "if string == string[::-1]:\n",
    "    print(\"String is palindrome\")\n",
    "else:\n",
    "    print(\"String is not palindrome\")"
   ]
  },
  {
   "cell_type": "markdown",
   "id": "87bca0a2-0e13-453b-9766-29ab7bef60b4",
   "metadata": {},
   "source": [
    "#### QUESTION 10"
   ]
  },
  {
   "cell_type": "code",
   "execution_count": 60,
   "id": "4ae5f6c5-047e-467c-9f71-09a190bf6368",
   "metadata": {},
   "outputs": [
    {
     "name": "stdin",
     "output_type": "stream",
     "text": [
      "Enter the studnet's score: 85\n"
     ]
    },
    {
     "name": "stdout",
     "output_type": "stream",
     "text": [
      "The student's score is:B\n"
     ]
    }
   ],
   "source": [
    "# Write a program to calculate the grade based on a student's score\n",
    "def assign_grade(score):\n",
    "    if 90 <= score <=100:\n",
    "        return \"A\"\n",
    "    elif 80 <= score <= 90:\n",
    "        return \"B\"\n",
    "    elif 70 <= score <= 80:\n",
    "        return \"C\"\n",
    "    elif 60 <= score <= 70:\n",
    "        return \"D\"\n",
    "    elif 0 <= score <= 60:\n",
    "        return \"E\"\n",
    "    else:\n",
    "        return \"F\"\n",
    "\n",
    "student_score = float(input(\"Enter the studnet's score:\"))\n",
    "grade = assign_grade(student_score)\n",
    "print(f\"The student's score is:{grade}\")"
   ]
  },
  {
   "cell_type": "markdown",
   "id": "2f9ac1e6-85f1-4758-9498-0d24c8da4158",
   "metadata": {},
   "source": [
    "### NESTED IF-ELSE STATEMENT"
   ]
  },
  {
   "cell_type": "markdown",
   "id": "79b3bd49-1c33-4bdc-82f5-7e0fc0ee26cc",
   "metadata": {},
   "source": [
    "#### QUESTION 11"
   ]
  },
  {
   "cell_type": "code",
   "execution_count": 17,
   "id": "f4a8b02b-5ad4-4b7d-bd40-ba84695deca1",
   "metadata": {},
   "outputs": [
    {
     "name": "stdin",
     "output_type": "stream",
     "text": [
      "Enter the first number: 5\n",
      "Enter the second number: 6\n",
      "Enter the third number: 3\n"
     ]
    },
    {
     "name": "stdout",
     "output_type": "stream",
     "text": [
      "The largest number is: 6.0\n"
     ]
    }
   ],
   "source": [
    "# Write a program to find the largest among three numbers using nested if-else statements\n",
    "num1 = float(input(\"Enter the first number:\"))\n",
    "num2 = float(input(\"Enter the second number:\"))\n",
    "num3 = float(input(\"Enter the third number:\"))\n",
    "if num1>=num2:\n",
    "    if num1>=num3:\n",
    "        largest = num1\n",
    "    else:\n",
    "        largest = num3\n",
    "else:\n",
    "    if num2 >= num3:\n",
    "        largest = num2\n",
    "    else:\n",
    "        largest = num3\n",
    "print(\"The largest number is:\" , largest)"
   ]
  },
  {
   "cell_type": "markdown",
   "id": "2f7d1517-8e3b-4cb1-a096-bb837005e91a",
   "metadata": {},
   "source": [
    "#### QUESTION 12"
   ]
  },
  {
   "cell_type": "code",
   "execution_count": 55,
   "id": "fe1882b9-07fb-47ab-b84e-ac6a1607adae",
   "metadata": {},
   "outputs": [
    {
     "name": "stdin",
     "output_type": "stream",
     "text": [
      "Enter the first angle of the triangle: 53\n",
      "Enter the second angle of the triangle: 96\n",
      "Enter the third angle of the triangle: 31\n"
     ]
    },
    {
     "name": "stdout",
     "output_type": "stream",
     "text": [
      "The triangle is : Scalene\n"
     ]
    }
   ],
   "source": [
    "# Implement a program to determine the type of a triangle based on its angles\n",
    "angle1 = float(input(\"Enter the first angle of the triangle:\"))\n",
    "angle2 = float(input(\"Enter the second angle of the triangle:\"))\n",
    "angle3 = float(input(\"Enter the third angle of the triangle:\"))\n",
    "if angle1 + angle2 + angle3 == 180:\n",
    "    if angle1 == angle2 == angle3 :\n",
    "        triangle_type = \"Equilateral \"\n",
    "    elif angle1 == angle2 or angle2 == angle3 or angle1 == angle3:\n",
    "        triangle_type = \"Isosceles\"\n",
    "    else:\n",
    "        triangle_type = \"Scalene\"\n",
    "else:\n",
    "    triangle_type = \"Not a valid triangle\"\n",
    "\n",
    "print(\"The triangle is :\" , triangle_type)"
   ]
  },
  {
   "cell_type": "markdown",
   "id": "706f92a1-c9ad-4202-b298-13cbd396d103",
   "metadata": {},
   "source": [
    "#### QUESTION 13"
   ]
  },
  {
   "cell_type": "code",
   "execution_count": 28,
   "id": "5a423298-cbb0-44f6-895a-6d16b543f94f",
   "metadata": {},
   "outputs": [
    {
     "name": "stdout",
     "output_type": "stream",
     "text": [
      "2000 is a leap year\n"
     ]
    }
   ],
   "source": [
    "# Develop a program that checks if a year is a leap year and also if it is a century year \n",
    "def is_leap_year(year):\n",
    "    if year % 4 == 0:\n",
    "        if year % 100 == 0 :\n",
    "            return year%400 == 0\n",
    "            \n",
    "        return True\n",
    "    return False\n",
    "\n",
    "year_to_check = 2000\n",
    "if is_leap_year(year_to_check):\n",
    "    print(f\"{year_to_check} is a leap year\")\n",
    "else:\n",
    "    print(f\"{year_to_check} is not a leap year\")"
   ]
  },
  {
   "cell_type": "markdown",
   "id": "66e7daa7-8166-4488-93fa-5dd7dc85e4c5",
   "metadata": {},
   "source": [
    "#### QUESTION 14"
   ]
  },
  {
   "cell_type": "code",
   "execution_count": 29,
   "id": "f6144d71-481f-400a-a714-e7280755dbf3",
   "metadata": {},
   "outputs": [
    {
     "name": "stdin",
     "output_type": "stream",
     "text": [
      "Enter a number: 5\n"
     ]
    },
    {
     "name": "stdout",
     "output_type": "stream",
     "text": [
      "Positive number\n"
     ]
    }
   ],
   "source": [
    "# Write a Python script to determine if a number is positive,negative or zero\n",
    "num = float(input(\"Enter a number:\"))\n",
    "if num>0:\n",
    "    print(\"Positive number\")\n",
    "elif num == 0:\n",
    "    print(\"Number is zero\")\n",
    "else:\n",
    "    print(\"Negative number\")"
   ]
  },
  {
   "cell_type": "markdown",
   "id": "e87695a3-e2a9-4531-a668-83e5d23c6166",
   "metadata": {},
   "source": [
    "#### QUESTION 15"
   ]
  },
  {
   "cell_type": "code",
   "execution_count": 30,
   "id": "712c0b66-4f7b-45fe-a921-5af88ff7a6a4",
   "metadata": {},
   "outputs": [
    {
     "name": "stdin",
     "output_type": "stream",
     "text": [
      "Enter the age: 15\n"
     ]
    },
    {
     "name": "stdout",
     "output_type": "stream",
     "text": [
      "Person is teenager\n"
     ]
    }
   ],
   "source": [
    "# Create a program to check if a person is a teenager(between 13 and 19 years old)\n",
    "age = int(input(\"Enter the age:\"))\n",
    "if age >= 13:\n",
    "    print(\"Person is teenager\")\n",
    "elif age <= 19:\n",
    "    print(\"Person is teenager\")\n",
    "else:\n",
    "    print(\"Person is not a teenager\")\n"
   ]
  },
  {
   "cell_type": "markdown",
   "id": "f5557822-fb06-49c7-be0c-3a2cb47b239f",
   "metadata": {},
   "source": [
    "#### QUESTION 16"
   ]
  },
  {
   "cell_type": "code",
   "execution_count": 37,
   "id": "6ab3402c-5890-4818-99f6-8fae26fce74f",
   "metadata": {},
   "outputs": [
    {
     "name": "stdin",
     "output_type": "stream",
     "text": [
      "Enter the angle: 20\n"
     ]
    },
    {
     "name": "stdout",
     "output_type": "stream",
     "text": [
      "It is an acute angle\n"
     ]
    }
   ],
   "source": [
    "# Develop a program that determines the type of a angle based on its measure (acute , obtuse or right)\n",
    "angle = float(input(\"Enter the angle:\"))\n",
    "if angle<=90:\n",
    "    print(\"It is an acute angle\")\n",
    "elif angle == 90:\n",
    "    print(\"It ia an right angle\")\n",
    "elif angle <=180:\n",
    "    print(\"It is an obtuse angle\")\n",
    "else:\n",
    "    print(\"Greater than 180\")"
   ]
  },
  {
   "cell_type": "markdown",
   "id": "f422d939-8c05-4ca7-ba64-ae6f568cef70",
   "metadata": {},
   "source": [
    "#### QUESTION 17"
   ]
  },
  {
   "cell_type": "code",
   "execution_count": 40,
   "id": "bc9a90ad-ac17-4784-a131-8949159d7a14",
   "metadata": {},
   "outputs": [
    {
     "name": "stdin",
     "output_type": "stream",
     "text": [
      "Enter the coefficient a: 3\n",
      "Enter the coefficient b: 4\n",
      "Enter the coefficient c: 5\n"
     ]
    },
    {
     "name": "stdout",
     "output_type": "stream",
     "text": [
      "Roots: ((-6+1.1055415967851332j), (-6-1.1055415967851332j))\n"
     ]
    }
   ],
   "source": [
    "# Write a Python program to calculate the roots of a quadratic equation\n",
    "import math\n",
    "def quadratic_roots(a,b,c):\n",
    "    discriminant = b**2 - 4*a*c\n",
    "    if discriminant>= 0:\n",
    "        root1 = (-b+ math.sqrt(discriminant))/(2*a)\n",
    "        root2 = (-b - math.sqrt(discriminant))/(2*a)\n",
    "        return root1,root2\n",
    "    else:\n",
    "        real_part = -b/2*a\n",
    "        imaginary_part = math.sqrt(abs(discriminant))/(2*a)\n",
    "        root1 = complex(real_part, imaginary_part)\n",
    "        root2 = complex(real_part, -imaginary_part)\n",
    "        return root1,root2\n",
    "\n",
    "a = float(input(\"Enter the coefficient a:\"))\n",
    "b = float(input(\"Enter the coefficient b:\"))\n",
    "c = float(input(\"Enter the coefficient c:\"))\n",
    "roots = quadratic_roots(a,b,c)\n",
    "print(\"Roots:\" , roots)"
   ]
  },
  {
   "cell_type": "markdown",
   "id": "33ba5fd9-6599-4745-a3f6-33589ac675eb",
   "metadata": {},
   "source": [
    "#### QUESTION 18"
   ]
  },
  {
   "cell_type": "code",
   "execution_count": 43,
   "id": "c754b75d-d2f7-4e6c-99f1-3eb945b61e8a",
   "metadata": {},
   "outputs": [
    {
     "name": "stdin",
     "output_type": "stream",
     "text": [
      "Enter a number(1-7): 5\n"
     ]
    },
    {
     "name": "stdout",
     "output_type": "stream",
     "text": [
      "Day of the week: Friday\n"
     ]
    }
   ],
   "source": [
    "# Implement a program to determine the day of the week based on a user- provided number\n",
    "def day_of_week(number):\n",
    "    days = [\"Monday\" , \"Tuesday\" , \"Wednesday\" , \"Thursday\" , \"Friday\" , \"Saturday\" , \"Sunday\"]\n",
    "    if 1<= number <=7:\n",
    "        return days[number - 1]\n",
    "    else:\n",
    "        return \"Invalid input.\"\n",
    "\n",
    "user_number = int(input(\"Enter a number(1-7):\"))\n",
    "result = day_of_week(user_number)\n",
    "print(\"Day of the week:\" , result)"
   ]
  },
  {
   "cell_type": "markdown",
   "id": "1e8fb738-4f65-4c4f-8b0b-a22f869276c8",
   "metadata": {},
   "source": [
    "#### QUESTION 19"
   ]
  },
  {
   "cell_type": "code",
   "execution_count": 44,
   "id": "c09c2896-1b2d-4173-97a1-70c08260bb65",
   "metadata": {},
   "outputs": [
    {
     "name": "stdin",
     "output_type": "stream",
     "text": [
      "Enter a year: 2000\n"
     ]
    },
    {
     "name": "stdout",
     "output_type": "stream",
     "text": [
      "2000 is a leap year\n"
     ]
    }
   ],
   "source": [
    "# Create a program that determines if a year is a leap year and also if it is evenly divisble by 400\n",
    "def is_leap_year(year):\n",
    "    if year%4==0:\n",
    "        if year%100 == 0 and year%400!= 0:\n",
    "            return False\n",
    "        else:\n",
    "            return True\n",
    "\n",
    "    else:\n",
    "        return False\n",
    "\n",
    "user_input = int(input(\"Enter a year:\"))\n",
    "if is_leap_year(user_input):\n",
    "    print(f\"{user_input} is a leap year\")\n",
    "else:\n",
    "    print(f\"{user_input} is not a leap year\")"
   ]
  },
  {
   "cell_type": "markdown",
   "id": "ccde2175-6849-49d3-9f4c-b7cd7966b020",
   "metadata": {},
   "source": [
    "#### QUESTION 20"
   ]
  },
  {
   "cell_type": "code",
   "execution_count": 54,
   "id": "54291b8c-c31b-4bc4-9ed1-db9f8e11ee31",
   "metadata": {},
   "outputs": [
    {
     "name": "stdout",
     "output_type": "stream",
     "text": [
      "3 is a prime number\n"
     ]
    }
   ],
   "source": [
    "# Develop a program that checks if a given number is prime or not using nested if-else statements\n",
    "num = 3\n",
    "if num > 1:\n",
    "        for i in range(2 ,int(num/2)+1):\n",
    "            if num%i == 0:\n",
    "                print(num, \"is not a prime number\")\n",
    "                break\n",
    "        else:\n",
    "            print(num, \"is a prime number\")"
   ]
  },
  {
   "cell_type": "markdown",
   "id": "c85403ef-d63a-45b0-ab88-d193332522ba",
   "metadata": {},
   "source": [
    "### ELIF STATEMENTS"
   ]
  },
  {
   "cell_type": "markdown",
   "id": "b47c0122-4e87-41b4-9656-6dea7830e24c",
   "metadata": {},
   "source": [
    "#### QUESTION 21"
   ]
  },
  {
   "cell_type": "code",
   "execution_count": 59,
   "id": "574d7e77-0bde-4e4b-a7e0-462cbd6e9849",
   "metadata": {},
   "outputs": [
    {
     "name": "stdin",
     "output_type": "stream",
     "text": [
      "Enter the studnet's score: 86\n"
     ]
    },
    {
     "name": "stdout",
     "output_type": "stream",
     "text": [
      "The student's score is:B\n"
     ]
    }
   ],
   "source": [
    "# Write a Python program to assign grades based on different ranges of scores using elif statements\n",
    "def assign_grade(score):\n",
    "    if 90 <= score <=100:\n",
    "        return \"A\"\n",
    "    elif 80 <= score <= 90:\n",
    "        return \"B\"\n",
    "    elif 70 <= score <= 80:\n",
    "        return \"C\"\n",
    "    elif 60 <= score <= 70:\n",
    "        return \"D\"\n",
    "    elif 0 <= score <= 60:\n",
    "        return \"E\"\n",
    "    else:\n",
    "        return \"F\"\n",
    "\n",
    "student_score = float(input(\"Enter the studnet's score:\"))\n",
    "grade = assign_grade(student_score)\n",
    "print(f\"The student's score is:{grade}\")"
   ]
  },
  {
   "cell_type": "markdown",
   "id": "880411e2-fbcb-4e8c-9c84-ba4682825a2e",
   "metadata": {},
   "source": [
    "#### QUESTION 22"
   ]
  },
  {
   "cell_type": "code",
   "execution_count": 56,
   "id": "6a2f4007-525f-42c6-a5d0-2dd63648f7d0",
   "metadata": {},
   "outputs": [
    {
     "name": "stdin",
     "output_type": "stream",
     "text": [
      "Enter the first angle of the triangle: 63\n",
      "Enter the second angle of the triangle: 54\n",
      "Enter the third angle of the triangle: 63\n"
     ]
    },
    {
     "name": "stdout",
     "output_type": "stream",
     "text": [
      "The triangle is : Isosceles\n"
     ]
    }
   ],
   "source": [
    "# Implement a program to determine the type of a triangle based on its angles\n",
    "angle1 = float(input(\"Enter the first angle of the triangle:\"))\n",
    "angle2 = float(input(\"Enter the second angle of the triangle:\"))\n",
    "angle3 = float(input(\"Enter the third angle of the triangle:\"))\n",
    "if angle1 + angle2 + angle3 == 180:\n",
    "    if angle1 == angle2 == angle3 :\n",
    "        triangle_type = \"Equilateral \"\n",
    "    elif angle1 == angle2 or angle2 == angle3 or angle1 == angle3:\n",
    "        triangle_type = \"Isosceles\"\n",
    "    else:\n",
    "        triangle_type = \"Scalene\"\n",
    "else:\n",
    "    triangle_type = \"Not a valid triangle\"\n",
    "\n",
    "print(\"The triangle is :\" , triangle_type)"
   ]
  },
  {
   "cell_type": "markdown",
   "id": "5a68079c-2055-46b1-88c7-a6db0a1bf8a0",
   "metadata": {},
   "source": [
    "#### QUESTION 23"
   ]
  },
  {
   "cell_type": "code",
   "execution_count": 63,
   "id": "db010e6e-bb1e-45cc-903b-c1e7c4d9d95c",
   "metadata": {},
   "outputs": [
    {
     "name": "stdin",
     "output_type": "stream",
     "text": [
      "Enter the weight: 56\n",
      "Enter the height: 154\n"
     ]
    },
    {
     "name": "stdout",
     "output_type": "stream",
     "text": [
      "The person's BMI is 0.002361, and the category is Underweight\n"
     ]
    }
   ],
   "source": [
    "# Develop a program to categorize a given person's BMI into underweight , normal , overweight , or obese using elif statements\n",
    "def calculate_bmi(weight , height):\n",
    "    bmi = weight/(height**2)\n",
    "    return bmi\n",
    "\n",
    "def categorize_bmi(bmi):\n",
    "    if bmi < 18.5:\n",
    "        return \"Underweight\"\n",
    "    elif 18.5 <= bmi < 24.9:\n",
    "        return \"Normal Weight\"\n",
    "    elif 25 <= bmi < 29.9:\n",
    "        return \"Overweight\"\n",
    "    elif bmi >= 30:\n",
    "        return \"Obese\"\n",
    "    else:\n",
    "        return \"Invalid BMI\"\n",
    "\n",
    "weight = float(input(\"Enter the weight:\"))\n",
    "height = float(input(\"Enter the height:\"))\n",
    "if weight>0 and height >0:\n",
    "    bmi = calculate_bmi(weight , height)\n",
    "    category = categorize_bmi(bmi)\n",
    "    print(f\"The person's BMI is {bmi :2f}, and the category is {category}\")\n",
    "else:\n",
    "    print(\"Invalid input for height and weight\")"
   ]
  },
  {
   "cell_type": "markdown",
   "id": "568b99cb-992a-4cf4-9f68-73e0e0154875",
   "metadata": {},
   "source": [
    "#### QUESTION 24"
   ]
  },
  {
   "cell_type": "code",
   "execution_count": 57,
   "id": "4b8b694b-e240-420f-b80c-2fd1b5dc88a5",
   "metadata": {},
   "outputs": [
    {
     "name": "stdin",
     "output_type": "stream",
     "text": [
      "Enter a number: 6\n"
     ]
    },
    {
     "name": "stdout",
     "output_type": "stream",
     "text": [
      "Positive number\n"
     ]
    }
   ],
   "source": [
    "# Create a program that determines whether a given number is positive , negative , or zero using elif statements\n",
    "num = float(input(\"Enter a number:\"))\n",
    "if num>0:\n",
    "    print(\"Positive number\")\n",
    "elif num == 0:\n",
    "    print(\"Number is zero\")\n",
    "else:\n",
    "    print(\"Negative number\")"
   ]
  },
  {
   "cell_type": "markdown",
   "id": "e8f2dddb-24a9-441b-aa81-236ec2169903",
   "metadata": {},
   "source": [
    "#### QUESTION 25"
   ]
  },
  {
   "cell_type": "code",
   "execution_count": 3,
   "id": "f2a33352-b596-448c-a22d-da93ec3a0a0e",
   "metadata": {},
   "outputs": [
    {
     "name": "stdin",
     "output_type": "stream",
     "text": [
      "Enter a character A\n"
     ]
    },
    {
     "name": "stdout",
     "output_type": "stream",
     "text": [
      "Uppercase\n"
     ]
    }
   ],
   "source": [
    "# Write a Python script to determine the type of a character (uppercase , lowercase , or special) using elif statements\n",
    "def character_type(char):\n",
    "    if char.isupper():\n",
    "        return \"Uppercase\"\n",
    "    elif char.islower():\n",
    "        return \"Lowercase\"\n",
    "    else:\n",
    "        return \"Special character\"\n",
    "input_char = input(\"Enter a character\")\n",
    "result = character_type(input_char)\n",
    "print(result)"
   ]
  },
  {
   "cell_type": "markdown",
   "id": "e3dbb582-b2a2-4829-bb13-4d53e6c677b8",
   "metadata": {},
   "source": [
    "#### QUESTION 26"
   ]
  },
  {
   "cell_type": "code",
   "execution_count": 7,
   "id": "0da49392-10f4-42c8-ae8b-a2fe9b9eb362",
   "metadata": {},
   "outputs": [
    {
     "name": "stdin",
     "output_type": "stream",
     "text": [
      "Enter the purchase amount: $  650\n"
     ]
    },
    {
     "name": "stdout",
     "output_type": "stream",
     "text": [
      "The discounted price is:$ 585.00\n"
     ]
    }
   ],
   "source": [
    "# Implement a program to calculate the discounted price based on different purchase amount using elif statement\n",
    "def calculate_discounted_price(purchase_amount):\n",
    "    if purchase_amount<100:\n",
    "        discount_percentage = 0\n",
    "    elif purchase_amount < 500:\n",
    "        discount_percentage = 5\n",
    "    elif purchase_amount < 1000:\n",
    "        discount_percentage = 10\n",
    "    else:\n",
    "        discount_percentage = 15\n",
    "\n",
    "    discounted_price  = purchase_amount - (purchase_amount * discount_percentage/100)\n",
    "    return discounted_price\n",
    "\n",
    "purchase_amount = float(input(\"Enter the purchase amount: $ \"))\n",
    "discounted_price = calculate_discounted_price(purchase_amount)\n",
    "print(f\"The discounted price is:$ {discounted_price:.2f}\")"
   ]
  },
  {
   "cell_type": "markdown",
   "id": "5baf2955-cfec-46f6-813e-ef21ab6187f8",
   "metadata": {},
   "source": [
    "#### QUESTION 27"
   ]
  },
  {
   "cell_type": "code",
   "execution_count": 12,
   "id": "570ca3de-d57f-4e08-83f7-0c946aaa49a8",
   "metadata": {},
   "outputs": [
    {
     "name": "stdin",
     "output_type": "stream",
     "text": [
      "Enter the units consumed: 180\n"
     ]
    },
    {
     "name": "stdout",
     "output_type": "stream",
     "text": [
      "The electricity bill is: $720.00\n"
     ]
    }
   ],
   "source": [
    "# Develop a program to calculate the electricity bill based on different consumption slabs using elif statements\n",
    "def calculate_electricity_bill(units_consumed):\n",
    "    if units_consumed<=50:\n",
    "        rate_per_unit = 2.5\n",
    "    elif units_consumed <= 100:\n",
    "        rate_per_unit = 3.0\n",
    "    elif units_consumed <= 200:\n",
    "        rate_per_unit = 4.0\n",
    "    else:\n",
    "        rate_per_unit = 5.0\n",
    "    total_bill = units_consumed*rate_per_unit\n",
    "    return  total_bill\n",
    "\n",
    "units_consumed = float(input(\"Enter the units consumed:\"))\n",
    "bill_amount = calculate_electricity_bill(units_consumed)\n",
    "print(f\"The electricity bill is: ${bill_amount:.2f}\")"
   ]
  },
  {
   "cell_type": "markdown",
   "id": "e107728b-0b78-4065-bb03-c2743151e443",
   "metadata": {},
   "source": [
    "#### QUESTION 28"
   ]
  },
  {
   "cell_type": "code",
   "execution_count": 18,
   "id": "08a3eb87-aa21-4b20-a23b-7e2c88fec500",
   "metadata": {},
   "outputs": [
    {
     "name": "stdout",
     "output_type": "stream",
     "text": [
      "It's a rectangle.\n"
     ]
    }
   ],
   "source": [
    "# Create a program to determine the type of quadrilateral based on its angles and sides using elif statements \n",
    "def determine_quadrilateral_type(sides , angles):\n",
    "    num_sides = len(sides)\n",
    "    if num_sides == 4:\n",
    "        if all(angle == 90 for angle in angles):\n",
    "            return \"It's a rectangle.\"\n",
    "        elif any(angle == 90 for angle in angles):\n",
    "            return \"It's a quadrialteral with some right angles but not all.\"\n",
    "        elif all(angle > 90 for angle in angles):\n",
    "            return \"It's an obtuse-angled triangle.\"\n",
    "        elif all(angle < 90 for angle in angles):\n",
    "            return \"It's an acute- angled triangle.\"\n",
    "        else:\n",
    "            return \"It's a general quadrilateral with various angles.\"\n",
    "    else:\n",
    "        return \"Invalid input\"\n",
    "\n",
    "sides = [4,4,4,4]\n",
    "angles = [90,90,90,90]\n",
    "quadrilateral_type = determine_quadrilateral_type(sides , angles)\n",
    "print(quadrilateral_type)\n",
    "            "
   ]
  },
  {
   "cell_type": "markdown",
   "id": "d8f070c3-8533-40a4-ab1d-6f25eb98beda",
   "metadata": {},
   "source": [
    "#### QUESTION 29"
   ]
  },
  {
   "cell_type": "code",
   "execution_count": 19,
   "id": "a3d82084-f17f-4daf-8a7b-dd9133075595",
   "metadata": {},
   "outputs": [
    {
     "name": "stdin",
     "output_type": "stream",
     "text": [
      "Enter the month: 8\n"
     ]
    },
    {
     "name": "stdout",
     "output_type": "stream",
     "text": [
      "The season is:Summer\n"
     ]
    }
   ],
   "source": [
    "# Write a program script to determine the season based on a user - provided month using elif statements\n",
    "def determine_season(month):\n",
    "    if month in (12,1,2):\n",
    "        return \"Winter\"\n",
    "    elif month in (3,4,5):\n",
    "        return \"Spring\"\n",
    "    elif month in (6,7,8):\n",
    "        return \"Summer\"\n",
    "    elif month in (9,10,11):\n",
    "        return \"Autumn\"\n",
    "    else:\n",
    "        return \"Invalid month\"\n",
    "\n",
    "user_month = int(input(\"Enter the month:\"))\n",
    "season = determine_season(user_month)\n",
    "print(f\"The season is:{season}\")"
   ]
  },
  {
   "cell_type": "markdown",
   "id": "50c1dc96-d51a-4808-9b1d-e50cfaa8f5f3",
   "metadata": {},
   "source": [
    "#### QUESTION 30"
   ]
  },
  {
   "cell_type": "code",
   "execution_count": 24,
   "id": "02eb3286-dd3f-4e47-95ba-38145543ccc7",
   "metadata": {},
   "outputs": [
    {
     "name": "stdin",
     "output_type": "stream",
     "text": [
      "Enter the year: 2008\n",
      "Enter the month: 2\n"
     ]
    },
    {
     "name": "stdout",
     "output_type": "stream",
     "text": [
      "Leap Year, 29 days\n"
     ]
    }
   ],
   "source": [
    "# Implement a program to determine the type of a year (leap or common) and month (30 or 31 days) using elif statements\n",
    "def determine_year_month_type(year, month):\n",
    "    is_leap_year = (year%4==0 and year%100!=0) or (year%400==0)\n",
    "    if is_leap_year:\n",
    "        year_type = \"Leap Year\"\n",
    "    else:\n",
    "        year_type = \"Non- Leap Year\"\n",
    "    if month in (1,3,5,7,8,10,12):\n",
    "        month_type = \"31 days\"\n",
    "    elif month == 2:\n",
    "        if is_leap_year:\n",
    "            month_type = \"29 days\"\n",
    "        else:\n",
    "            month_type = \"28 days\"\n",
    "    else:\n",
    "        month_type = \"30 days\"\n",
    "    return f\"{year_type}, {month_type}\"\n",
    "\n",
    "user_year = int(input(\"Enter the year:\"))\n",
    "user_month = int(input(\"Enter the month:\"))\n",
    "result = determine_year_month_type(user_year , user_month)\n",
    "print(result)"
   ]
  },
  {
   "cell_type": "markdown",
   "id": "f713796f-16fd-432c-9cf7-ffdc82428aad",
   "metadata": {},
   "source": [
    "# BASIC LEVEL"
   ]
  },
  {
   "cell_type": "markdown",
   "id": "ef6ff8ad-c646-46f1-85e9-0a5441d3509e",
   "metadata": {},
   "source": [
    "#### QUESTION 1"
   ]
  },
  {
   "cell_type": "code",
   "execution_count": 25,
   "id": "b09885bc-602a-42e0-83c4-6c2452693977",
   "metadata": {},
   "outputs": [
    {
     "name": "stdin",
     "output_type": "stream",
     "text": [
      "Enter a number: 5\n"
     ]
    },
    {
     "name": "stdout",
     "output_type": "stream",
     "text": [
      "Positive number\n"
     ]
    }
   ],
   "source": [
    "# Write a python program to check whether a number is positive , negative or zero.\n",
    "num = float(input(\"Enter a number:\"))\n",
    "if num>0:\n",
    "    print(\"Positive number\")\n",
    "elif num == 0:\n",
    "    print(\"Number is zero\")\n",
    "else:\n",
    "    print(\"Negative number\")"
   ]
  },
  {
   "cell_type": "markdown",
   "id": "f35e6e45-db5b-43f0-b39f-0972f4dc6325",
   "metadata": {},
   "source": [
    "#### QUESTION 2"
   ]
  },
  {
   "cell_type": "code",
   "execution_count": 26,
   "id": "bc724d3b-fef4-42c9-9bbc-67dad344e312",
   "metadata": {},
   "outputs": [
    {
     "name": "stdin",
     "output_type": "stream",
     "text": [
      "Enter the age of person : 15\n"
     ]
    },
    {
     "name": "stdout",
     "output_type": "stream",
     "text": [
      "Person is not eligible to vote\n"
     ]
    }
   ],
   "source": [
    "# Create a program to determine if a person is eligible to vote based on their age\n",
    "age = int(input(\"Enter the age of person :\"))\n",
    "if(age>=18):\n",
    "    print(\"Person is eligible to vote\")\n",
    "else:\n",
    "    print(\"Person is not eligible to vote\")"
   ]
  },
  {
   "cell_type": "markdown",
   "id": "b17388f3-b54f-4c2d-97b7-e7930706f150",
   "metadata": {},
   "source": [
    "#### QUESTION 3"
   ]
  },
  {
   "cell_type": "code",
   "execution_count": 27,
   "id": "7b75860b-006e-472b-8e87-73ecf6866cd2",
   "metadata": {},
   "outputs": [
    {
     "name": "stdout",
     "output_type": "stream",
     "text": [
      "4\n"
     ]
    }
   ],
   "source": [
    "# Write a program to find the maximum of two given numbers using conditional statement\n",
    "def maximum(a,b):\n",
    "    if a >= b :\n",
    "        return a\n",
    "    else:\n",
    "        return b\n",
    "\n",
    "a = 2\n",
    "b = 4\n",
    "print(maximum(a,b))"
   ]
  },
  {
   "cell_type": "markdown",
   "id": "e8fc4f18-62ad-4720-844c-2e108e93eaa8",
   "metadata": {},
   "source": [
    "#### QUESTION 4"
   ]
  },
  {
   "cell_type": "code",
   "execution_count": 28,
   "id": "0b8bab3d-ce37-4410-a3e9-2fa9f5e5931c",
   "metadata": {},
   "outputs": [
    {
     "name": "stdin",
     "output_type": "stream",
     "text": [
      "Enter the studnet's score: 85\n"
     ]
    },
    {
     "name": "stdout",
     "output_type": "stream",
     "text": [
      "The student's score is:B\n"
     ]
    }
   ],
   "source": [
    "# Develop a program that calculates the grade of a student based on their exam score\n",
    "def assign_grade(score):\n",
    "    if 90 <= score <=100:\n",
    "        return \"A\"\n",
    "    elif 80 <= score <= 90:\n",
    "        return \"B\"\n",
    "    elif 70 <= score <= 80:\n",
    "        return \"C\"\n",
    "    elif 60 <= score <= 70:\n",
    "        return \"D\"\n",
    "    elif 0 <= score <= 60:\n",
    "        return \"E\"\n",
    "    else:\n",
    "        return \"F\"\n",
    "\n",
    "student_score = float(input(\"Enter the studnet's score:\"))\n",
    "grade = assign_grade(student_score)\n",
    "print(f\"The student's score is:{grade}\")"
   ]
  },
  {
   "cell_type": "markdown",
   "id": "58c6c84a-860f-47dd-8e18-e9a5342e94a0",
   "metadata": {},
   "source": [
    "#### QUESTION 5"
   ]
  },
  {
   "cell_type": "code",
   "execution_count": 29,
   "id": "ae0ec1cb-2013-4598-bd55-1a384f1f7ac6",
   "metadata": {},
   "outputs": [
    {
     "name": "stdin",
     "output_type": "stream",
     "text": [
      "Enter the year : 2000\n"
     ]
    },
    {
     "name": "stdout",
     "output_type": "stream",
     "text": [
      "It is a leap year\n"
     ]
    }
   ],
   "source": [
    "# Create a program to check if a year is a leap year or not\n",
    "year = int(input(\"Enter the year :\"))\n",
    "if (year%4==0):\n",
    "    print(\"It is a leap year\")\n",
    "else:\n",
    "    print(\"It is not a leap year\")"
   ]
  },
  {
   "cell_type": "markdown",
   "id": "470fbcff-83cc-4d25-a5ab-034b2822e98d",
   "metadata": {},
   "source": [
    "#### QUESTION 6"
   ]
  },
  {
   "cell_type": "code",
   "execution_count": 40,
   "id": "c89a8a3c-6ed6-4630-9c87-1391f898097e",
   "metadata": {},
   "outputs": [
    {
     "name": "stdin",
     "output_type": "stream",
     "text": [
      "Enter the length of side1: 5\n",
      "Enter the length of side2: 6\n",
      "Enter the length of side3: 4\n"
     ]
    },
    {
     "name": "stdout",
     "output_type": "stream",
     "text": [
      "The triangle is a Scalene triangle.\n"
     ]
    }
   ],
   "source": [
    "# Write a program to classify a triangle based on its sides lengths\n",
    "def classify_triangle(side1,side2,side3):\n",
    "    if side1 == side2 ==  side3:\n",
    "        return \"Equilateral triangle\"\n",
    "    elif side1 == side2 or side2 == side3 or side3 == side1:\n",
    "        return \"Isosceles triangle\"\n",
    "    else:\n",
    "        return \"Scalene triangle\"\n",
    "side1 = float(input(\"Enter the length of side1:\"))\n",
    "side2 = float(input(\"Enter the length of side2:\"))\n",
    "side3 = float(input(\"Enter the length of side3:\"))\n",
    "result = classify_triangle(side1,side2,side3)\n",
    "print(f\"The triangle is a {result}.\")"
   ]
  },
  {
   "cell_type": "markdown",
   "id": "1b94ddf0-e01c-42cd-9749-b90e29d791c2",
   "metadata": {},
   "source": [
    "#### QUESTION 7"
   ]
  },
  {
   "cell_type": "code",
   "execution_count": 30,
   "id": "66506a80-484a-40de-8d4f-033d6a9099b7",
   "metadata": {},
   "outputs": [
    {
     "name": "stdin",
     "output_type": "stream",
     "text": [
      "Enter the first number: 5\n",
      "Enter the second number: 6\n",
      "Enter the third number: 8\n"
     ]
    },
    {
     "name": "stdout",
     "output_type": "stream",
     "text": [
      "The largest number is: 8.0\n"
     ]
    }
   ],
   "source": [
    "# Build a program that determines the largest of three given numbers\n",
    "def find_largest_number(num1 , num2 , num3):\n",
    "    if num1 >= num2 and num2 >= num3:\n",
    "        return num1\n",
    "    elif num2 >= num1 and num2 >= num3:\n",
    "        return num2\n",
    "    else:\n",
    "        return num3\n",
    "\n",
    "number1 = float(input(\"Enter the first number:\"))\n",
    "number2 = float(input(\"Enter the second number:\"))\n",
    "number3 = float(input(\"Enter the third number:\"))\n",
    "largest_number = find_largest_number(number1 , number2 , number3)\n",
    "print(f\"The largest number is: {largest_number}\")"
   ]
  },
  {
   "cell_type": "markdown",
   "id": "56305e26-35ac-414d-8a68-f34e554bbb69",
   "metadata": {},
   "source": [
    "#### QUESTION 8"
   ]
  },
  {
   "cell_type": "code",
   "execution_count": 31,
   "id": "aae2f39e-c386-4d95-b3c2-ce80a464f295",
   "metadata": {},
   "outputs": [
    {
     "name": "stdin",
     "output_type": "stream",
     "text": [
      "Enter a character :  b\n"
     ]
    },
    {
     "name": "stdout",
     "output_type": "stream",
     "text": [
      "The character'b' is a consonent!\n"
     ]
    }
   ],
   "source": [
    "# Develop a program that checks whether a character is a vowel or a consonent\n",
    "character = input(\"Enter a character : \")\n",
    "vowels = ['a','e','i','o','u','A','E','I','O','U']\n",
    "if character in vowels:\n",
    "    print(f\"The character'{character}' is a vowel! \")\n",
    "else:\n",
    "    print(f\"The character'{character}' is a consonent!\")"
   ]
  },
  {
   "cell_type": "markdown",
   "id": "447b2a28-f9c7-4961-a99c-ebfa6fcb1573",
   "metadata": {},
   "source": [
    "#### QUESTION 9"
   ]
  },
  {
   "cell_type": "code",
   "execution_count": 43,
   "id": "76e86e11-0dd2-47a8-88c9-f13b303b1b11",
   "metadata": {},
   "outputs": [
    {
     "name": "stdin",
     "output_type": "stream",
     "text": [
      "Enter the prices of items separated by spaces: 450 500 630 900\n",
      "Enter the discount percentage: 15\n"
     ]
    },
    {
     "name": "stdout",
     "output_type": "stream",
     "text": [
      "The total cost after a 15.0% discount is : $ 2108.00\n"
     ]
    }
   ],
   "source": [
    "# Create a program to calculate the total cost of a shopping cart based on discounts\n",
    "def calculate_total_cost(items, discount_percentage):\n",
    "    subtotal = sum(items)\n",
    "    discount_amount = (discount_percenatge/100)*subtotal\n",
    "    total_cost = subtotal - discount_amount\n",
    "    return total_cost\n",
    "\n",
    "item_price = [float(item) for item in input(\"Enter the prices of items separated by spaces:\").split()]\n",
    "discount_percenatge = float(input(\"Enter the discount percentage:\"))\n",
    "total_cost = calculate_total_cost(item_price,discount_percenatge)\n",
    "print(f\"The total cost after a {discount_percenatge}% discount is : $ {total_cost:.2f}\")\n"
   ]
  },
  {
   "cell_type": "markdown",
   "id": "a5c68d08-6799-4ac4-8446-aa05556fa3d6",
   "metadata": {},
   "source": [
    "#### QUESTION 10"
   ]
  },
  {
   "cell_type": "code",
   "execution_count": 32,
   "id": "116757dc-6516-45fd-86d1-de43d0195fdc",
   "metadata": {},
   "outputs": [
    {
     "name": "stdin",
     "output_type": "stream",
     "text": [
      "Enter a number: 8\n"
     ]
    },
    {
     "name": "stdout",
     "output_type": "stream",
     "text": [
      "Given number is even\n"
     ]
    }
   ],
   "source": [
    "# Write a program that checks if a given number is even or odd\n",
    "number = int(input(\"Enter a number:\"))\n",
    "if (number%2==0):\n",
    "    print(\"Given number is even\")\n",
    "else:\n",
    "    print(\"Given number is odd\")"
   ]
  },
  {
   "cell_type": "markdown",
   "id": "3851f2d3-55bf-4262-a200-12f6e8766212",
   "metadata": {},
   "source": [
    "# INTERMEDIATE LEVEL"
   ]
  },
  {
   "cell_type": "markdown",
   "id": "1a6a0197-6d6b-40ca-b0d7-28794e9255fb",
   "metadata": {},
   "source": [
    "#### QUESTION 11"
   ]
  },
  {
   "cell_type": "code",
   "execution_count": 33,
   "id": "0f887774-de28-4990-b547-395e33766146",
   "metadata": {},
   "outputs": [
    {
     "name": "stdin",
     "output_type": "stream",
     "text": [
      "Enter the coefficient a: 5\n",
      "Enter the coefficient b: 6\n",
      "Enter the coefficient c: 8\n"
     ]
    },
    {
     "name": "stdout",
     "output_type": "stream",
     "text": [
      "Roots: ((-15+1.1135528725660042j), (-15-1.1135528725660042j))\n"
     ]
    }
   ],
   "source": [
    "# Write a program that calculates the roots of a quadratic equation\n",
    "import math\n",
    "def quadratic_roots(a,b,c):\n",
    "    discriminant = b**2 - 4*a*c\n",
    "    if discriminant>= 0:\n",
    "        root1 = (-b+ math.sqrt(discriminant))/(2*a)\n",
    "        root2 = (-b - math.sqrt(discriminant))/(2*a)\n",
    "        return root1,root2\n",
    "    else:\n",
    "        real_part = -b/2*a\n",
    "        imaginary_part = math.sqrt(abs(discriminant))/(2*a)\n",
    "        root1 = complex(real_part, imaginary_part)\n",
    "        root2 = complex(real_part, -imaginary_part)\n",
    "        return root1,root2\n",
    "\n",
    "a = float(input(\"Enter the coefficient a:\"))\n",
    "b = float(input(\"Enter the coefficient b:\"))\n",
    "c = float(input(\"Enter the coefficient c:\"))\n",
    "roots = quadratic_roots(a,b,c)\n",
    "print(\"Roots:\" , roots)"
   ]
  },
  {
   "cell_type": "markdown",
   "id": "b460d892-1f85-425d-82f2-0bb0dd6354aa",
   "metadata": {},
   "source": [
    "#### QUESTION 12\n"
   ]
  },
  {
   "cell_type": "code",
   "execution_count": 34,
   "id": "129b1ee1-cce8-4634-a533-293bdb281a48",
   "metadata": {},
   "outputs": [
    {
     "name": "stdin",
     "output_type": "stream",
     "text": [
      "Enter a number(1-7): 6\n"
     ]
    },
    {
     "name": "stdout",
     "output_type": "stream",
     "text": [
      "Day of the week: Saturday\n"
     ]
    }
   ],
   "source": [
    "# Create a program that determines the day of the week based on the day number(1-7)\n",
    "def day_of_week(number):\n",
    "    days = [\"Monday\" , \"Tuesday\" , \"Wednesday\" , \"Thursday\" , \"Friday\" , \"Saturday\" , \"Sunday\"]\n",
    "    if 1<= number <=7:\n",
    "        return days[number - 1]\n",
    "    else:\n",
    "        return \"Invalid input.\"\n",
    "\n",
    "user_number = int(input(\"Enter a number(1-7):\"))\n",
    "result = day_of_week(user_number)\n",
    "print(\"Day of the week:\" , result)"
   ]
  },
  {
   "cell_type": "markdown",
   "id": "deadb94c-5599-4ff3-aafe-a48c0040ae0c",
   "metadata": {},
   "source": [
    "#### QUESTION 13"
   ]
  },
  {
   "cell_type": "code",
   "execution_count": 44,
   "id": "86c67cc9-ea21-4a5d-bb91-a9dcc2a2f9c2",
   "metadata": {},
   "outputs": [
    {
     "name": "stdout",
     "output_type": "stream",
     "text": [
      "Factorial of 5: 120\n"
     ]
    }
   ],
   "source": [
    "# Develop a program that calculates the factorial of a given number using recursion\n",
    "def factorial(n):\n",
    "    if n == 0 or n == 1:\n",
    "        return 1\n",
    "    else:\n",
    "        return n*factorial(n-1)\n",
    "\n",
    "result = factorial(5)\n",
    "print(\"Factorial of 5:\" , result)"
   ]
  },
  {
   "cell_type": "markdown",
   "id": "a0a5648b-4734-4aab-a985-a718f6bd4534",
   "metadata": {},
   "source": [
    "#### QUESTION 14"
   ]
  },
  {
   "cell_type": "code",
   "execution_count": 35,
   "id": "b4e4e806-e213-4b37-a5b6-87d4653d8325",
   "metadata": {},
   "outputs": [
    {
     "name": "stdin",
     "output_type": "stream",
     "text": [
      "Enter the first number: 5\n",
      "Enter the second number: 6\n",
      "Enter the third number: 7\n"
     ]
    },
    {
     "name": "stdout",
     "output_type": "stream",
     "text": [
      "The largest number is: 7.0\n"
     ]
    }
   ],
   "source": [
    "# Write a program to find the largest among three numbers withoutnusing 'max()' function\n",
    "def find_largest_number(num1 , num2 , num3):\n",
    "    if num1 >= num2 and num2 >= num3:\n",
    "        return num1\n",
    "    elif num2 >= num1 and num2 >= num3:\n",
    "        return num2\n",
    "    else:\n",
    "        return num3\n",
    "\n",
    "number1 = float(input(\"Enter the first number:\"))\n",
    "number2 = float(input(\"Enter the second number:\"))\n",
    "number3 = float(input(\"Enter the third number:\"))\n",
    "largest_number = find_largest_number(number1 , number2 , number3)\n",
    "print(f\"The largest number is: {largest_number}\")"
   ]
  },
  {
   "cell_type": "markdown",
   "id": "3fd6bdea-157c-45cc-b393-7e9a9d9cd8d1",
   "metadata": {},
   "source": [
    "#### QUESTION 15"
   ]
  },
  {
   "cell_type": "code",
   "execution_count": 45,
   "id": "d4cdea2c-9e4c-4144-92fd-de2c6eb6b031",
   "metadata": {},
   "outputs": [
    {
     "name": "stdout",
     "output_type": "stream",
     "text": [
      "===== ATM Transaction Menu =====\n",
      "1. Check Balance\n",
      "2. Deposit Money\n",
      "3. Withdraw Money\n",
      "4. Exit\n",
      "===============================\n"
     ]
    },
    {
     "name": "stdin",
     "output_type": "stream",
     "text": [
      "Enter your choice (1-4):  1\n"
     ]
    },
    {
     "name": "stdout",
     "output_type": "stream",
     "text": [
      "Your current balance is: $1000\n",
      "===== ATM Transaction Menu =====\n",
      "1. Check Balance\n",
      "2. Deposit Money\n",
      "3. Withdraw Money\n",
      "4. Exit\n",
      "===============================\n"
     ]
    },
    {
     "name": "stdin",
     "output_type": "stream",
     "text": [
      "Enter your choice (1-4):  2\n",
      "Enter the deposit amount: $ 5000\n"
     ]
    },
    {
     "name": "stdout",
     "output_type": "stream",
     "text": [
      "$5000.0 deposited successfully.\n",
      "Your current balance is: $6000.0\n",
      "===== ATM Transaction Menu =====\n",
      "1. Check Balance\n",
      "2. Deposit Money\n",
      "3. Withdraw Money\n",
      "4. Exit\n",
      "===============================\n"
     ]
    },
    {
     "name": "stdin",
     "output_type": "stream",
     "text": [
      "Enter your choice (1-4):  4\n"
     ]
    },
    {
     "name": "stdout",
     "output_type": "stream",
     "text": [
      "Exiting ATM. Thank you!\n"
     ]
    }
   ],
   "source": [
    "# Create a program that simulates a basic ATM transaction menu\n",
    "class ATM:\n",
    "    def __init__(self, balance=1000):\n",
    "        self.balance = balance\n",
    "\n",
    "    def display_menu(self):\n",
    "        print(\"===== ATM Transaction Menu =====\")\n",
    "        print(\"1. Check Balance\")\n",
    "        print(\"2. Deposit Money\")\n",
    "        print(\"3. Withdraw Money\")\n",
    "        print(\"4. Exit\")\n",
    "        print(\"===============================\")\n",
    "\n",
    "    def check_balance(self):\n",
    "        print(f\"Your current balance is: ${self.balance}\")\n",
    "\n",
    "    def deposit_money(self, amount):\n",
    "        self.balance += amount\n",
    "        print(f\"${amount} deposited successfully.\")\n",
    "        self.check_balance()\n",
    "\n",
    "    def withdraw_money(self, amount):\n",
    "        if amount <= self.balance:\n",
    "            self.balance -= amount\n",
    "            print(f\"${amount} withdrawn successfully.\")\n",
    "            self.check_balance()\n",
    "        else:\n",
    "            print(\"Insufficient funds!\")\n",
    "\n",
    "def main():\n",
    "    atm = ATM()\n",
    "\n",
    "    while True:\n",
    "        atm.display_menu()\n",
    "        choice = input(\"Enter your choice (1-4): \")\n",
    "\n",
    "        if choice == '1':\n",
    "            atm.check_balance()\n",
    "        elif choice == '2':\n",
    "            amount = float(input(\"Enter the deposit amount: $\"))\n",
    "            atm.deposit_money(amount)\n",
    "        elif choice == '3':\n",
    "            amount = float(input(\"Enter the withdrawal amount: $\"))\n",
    "            atm.withdraw_money(amount)\n",
    "        elif choice == '4':\n",
    "            print(\"Exiting ATM. Thank you!\")\n",
    "            break\n",
    "        else:\n",
    "            print(\"Invalid choice. Please enter a number between 1 and 4.\")\n",
    "\n",
    "if __name__ == \"__main__\":\n",
    "    main()\n"
   ]
  },
  {
   "cell_type": "markdown",
   "id": "9198cf12-f206-4b51-a864-5dd1520cc70d",
   "metadata": {},
   "source": [
    "#### QUESTION 16"
   ]
  },
  {
   "cell_type": "code",
   "execution_count": 38,
   "id": "721447d0-5a1f-4777-b87a-7f42afd0b90e",
   "metadata": {},
   "outputs": [
    {
     "name": "stdin",
     "output_type": "stream",
     "text": [
      "Enter the string: noon\n"
     ]
    },
    {
     "name": "stdout",
     "output_type": "stream",
     "text": [
      "String is palindrome\n"
     ]
    }
   ],
   "source": [
    "# Build a program that checks if a string is palindrome or not\n",
    "string = input(\"Enter the string:\")\n",
    "if string == string[::-1]:\n",
    "    print(\"String is palindrome\")\n",
    "else:\n",
    "    print(\"String is not palindome\")"
   ]
  },
  {
   "cell_type": "markdown",
   "id": "636bec48-4e1b-46af-89ae-21f96c4bb8bc",
   "metadata": {},
   "source": [
    "#### QUESTION 17"
   ]
  },
  {
   "cell_type": "code",
   "execution_count": 5,
   "id": "6070e13d-7828-4071-bd75-b15fb65f1cc2",
   "metadata": {},
   "outputs": [
    {
     "name": "stdout",
     "output_type": "stream",
     "text": [
      "The average excluding extremes is: 4.666666666666667\n"
     ]
    }
   ],
   "source": [
    "# Write a program that calculates the average of a list of numbers , excluding the smallest and largest values\n",
    "def calculate_average_excluding_extremes(numbers):\n",
    "    if len(numbers)<=2:\n",
    "        return \"List should have atleast three numbers\"\n",
    "    numbers.sort()\n",
    "    excluded_numbers = numbers[1:-1]\n",
    "    average = sum(excluded_numbers)/len(excluded_numbers)\n",
    "    return average\n",
    "\n",
    "numbers_list = [5,2,8,1,7]\n",
    "result = calculate_average_excluding_extremes(numbers_list)\n",
    "print(f\"The average excluding extremes is: {result}\")"
   ]
  },
  {
   "cell_type": "markdown",
   "id": "3f678307-f687-46a2-ae61-a88dcdd03905",
   "metadata": {},
   "source": [
    "#### QUESTION 18"
   ]
  },
  {
   "cell_type": "code",
   "execution_count": 47,
   "id": "f34dff53-1a32-47e2-a9a0-d5436ef92003",
   "metadata": {},
   "outputs": [
    {
     "name": "stdin",
     "output_type": "stream",
     "text": [
      "Enter temperature in Celsius: 32\n"
     ]
    },
    {
     "name": "stdout",
     "output_type": "stream",
     "text": [
      "32.0degree Celsius is equal to 89.6degrees Fahrenheit.\n"
     ]
    }
   ],
   "source": [
    "# Develop a program that converts a given temperature from Celsius to Fahrenheit\n",
    "celsius = float(input(\"Enter temperature in Celsius:\"))\n",
    "fahrenheit = (celsius*9/5) + 32\n",
    "print(f\"{celsius}degree Celsius is equal to {fahrenheit}degrees Fahrenheit.\")\n"
   ]
  },
  {
   "cell_type": "markdown",
   "id": "1834203d-464d-4dfc-bd4c-9f34cb1b6b83",
   "metadata": {},
   "source": [
    "#### QUESTION 19\n"
   ]
  },
  {
   "cell_type": "code",
   "execution_count": 6,
   "id": "664e5a73-f645-4e97-b866-681d53af016c",
   "metadata": {},
   "outputs": [
    {
     "name": "stdout",
     "output_type": "stream",
     "text": [
      "Simple calculator Menu: \n",
      "1. Addition\n",
      "2. Subtraction\n",
      "3. Mulitilpication\n",
      "4. Division\n",
      "5. Exit\n"
     ]
    },
    {
     "name": "stdin",
     "output_type": "stream",
     "text": [
      "Enter your choice (1-5): 3\n",
      "Enter the first number: 5\n",
      "Enter the second number: 6\n"
     ]
    },
    {
     "name": "stdout",
     "output_type": "stream",
     "text": [
      "Result: 30.0\n"
     ]
    },
    {
     "name": "stdin",
     "output_type": "stream",
     "text": [
      "Enter your choice (1-5): 4\n",
      "Enter the first number: 6\n",
      "Enter the second number: 3\n"
     ]
    },
    {
     "name": "stdout",
     "output_type": "stream",
     "text": [
      "Result :2.0\n"
     ]
    },
    {
     "name": "stdin",
     "output_type": "stream",
     "text": [
      "Enter your choice (1-5): 5\n"
     ]
    },
    {
     "name": "stdout",
     "output_type": "stream",
     "text": [
      "Exiting calculator. Thank you\n"
     ]
    }
   ],
   "source": [
    "# Create a program that simulates a basic calculator for addition , subtraction , multiplication and division\n",
    "def add(x,y):\n",
    "    return (x+y)\n",
    "def subtract(x,y):\n",
    "    return (x-y)\n",
    "def multiply(x,y):\n",
    "    return (x*y)\n",
    "def divide(x,y):\n",
    "    if y!=0:\n",
    "         return (x/y)\n",
    "    else:\n",
    "        print(\"Error : Division by zero.\")\n",
    "        return None\n",
    "\n",
    "def main():\n",
    "    print(\"Simple calculator Menu: \")\n",
    "    print(\"1. Addition\")\n",
    "    print(\"2. Subtraction\")\n",
    "    print(\"3. Mulitilpication\")\n",
    "    print(\"4. Division\")\n",
    "    print(\"5. Exit\")\n",
    "\n",
    "    while True:\n",
    "        choice = input(\"Enter your choice (1-5):\")\n",
    "\n",
    "        if choice == \"5\":\n",
    "            print(\"Exiting calculator. Thank you\")\n",
    "            break\n",
    "        if choice in ('1' , '2', '3' , '4'):\n",
    "            try:\n",
    "                num1 = float(input(\"Enter the first number:\"))\n",
    "                num2 = float(input(\"Enter the second number:\"))\n",
    "            except ValueError:\n",
    "                print(\"Invalid input. Please enter the valid numbers.\")\n",
    "                continue\n",
    "            if choice == '1':\n",
    "                result = add(num1 , num2)\n",
    "                print(f\"Result : {result}\")\n",
    "            elif choice == '2':\n",
    "                result = subtract(num1 , num2)\n",
    "                print(f\"Result : {result}\")\n",
    "            elif choice == '3':\n",
    "                result = multiply(num1 , num2)\n",
    "                print(f\"Result: {result}\")\n",
    "            elif choice == '4':\n",
    "                result = divide(num1 , num2)\n",
    "                if result is not None:\n",
    "                    print(f\"Result :{result}\")\n",
    "        else:\n",
    "            print(\"Invalid choice. Please entera number between 1 and 5\")\n",
    "\n",
    "if __name__ == \"__main__\":\n",
    "    main()"
   ]
  },
  {
   "cell_type": "markdown",
   "id": "9ce09058-f832-4665-8cb2-f0f9f51f9d59",
   "metadata": {},
   "source": [
    "#### QUESTION 20"
   ]
  },
  {
   "cell_type": "code",
   "execution_count": 4,
   "id": "b58eaa42-174d-4d63-9f5a-a300316e0306",
   "metadata": {},
   "outputs": [
    {
     "name": "stdout",
     "output_type": "stream",
     "text": [
      "Enter the coefficients of the cubic equation ax^3 + bx^2 + cx + d = 0:\n"
     ]
    },
    {
     "name": "stdin",
     "output_type": "stream",
     "text": [
      "a: 5\n",
      "b: 6\n",
      "c: 3\n",
      "d: 5\n"
     ]
    },
    {
     "name": "stdout",
     "output_type": "stream",
     "text": [
      "The roots of the cubic equation are:\n",
      "Root 1: (0.12221698109278223+0.832428041554555j)\n",
      "Root 2: (0.05979534026238176-0.7963888904178653j)\n",
      "Root 3: (-1.3820123213551638-0.03603915113668965j)\n"
     ]
    }
   ],
   "source": [
    "# Write a program that determines the roots of a cubic equation using the Cardano formula\n",
    "import cmath\n",
    "def cubic_roots(a,b,c,d):\n",
    "    p = c/a - (b**2) / (3*a**2)\n",
    "    q = 2 * (b**3)/(27 *a **3) - b * c / (3 * a **2) + d/a\n",
    "\n",
    "    delta = (q**2) / 4+(p**3) /27\n",
    "    u = (-q/2 + cmath.sqrt(delta)) ** (1/3)\n",
    "    v = (-q/2 - cmath.sqrt(delta)) ** (1/3)\n",
    "    root1 = -b/(3*a) + (u+v)\n",
    "    root2 = -b/(3*a) - 0.5*(u+v) + 0.5j* cmath.sqrt(3)* (u-v)\n",
    "    root3 = -b/(3*a) - 0.5*(u+v) - 0.5j* cmath.sqrt(3)* (u-v)\n",
    "    return root1 , root2 , root3\n",
    "\n",
    "def main():\n",
    "    print(\"Enter the coefficients of the cubic equation ax^3 + bx^2 + cx + d = 0:\")\n",
    "    a = float(input(\"a:\"))\n",
    "    b = float(input(\"b:\"))\n",
    "    c = float(input(\"c:\"))\n",
    "    d = float(input(\"d:\"))\n",
    "    roots = cubic_roots(a,b,c,d)\n",
    "    print(f\"The roots of the cubic equation are:\")\n",
    "    for i , root in enumerate (roots , start = 1):\n",
    "        print(f\"Root {i}: {root}\")\n",
    "\n",
    "if __name__ == \"__main__\":\n",
    "  main()"
   ]
  },
  {
   "cell_type": "markdown",
   "id": "8e9d1ba4-e1a8-4a17-be34-781123042471",
   "metadata": {},
   "source": [
    "# ADVANCED LEVEL"
   ]
  },
  {
   "cell_type": "markdown",
   "id": "9b599cfa-f255-45be-866d-06c75d4efca7",
   "metadata": {},
   "source": [
    "#### QUESTION 21"
   ]
  },
  {
   "cell_type": "code",
   "execution_count": 8,
   "id": "e41b0e76-4084-43e7-bc2f-9b3b9b765a7f",
   "metadata": {},
   "outputs": [
    {
     "name": "stdin",
     "output_type": "stream",
     "text": [
      "Enter your income: 500000\n"
     ]
    },
    {
     "name": "stdout",
     "output_type": "stream",
     "text": [
      "Your income tax is: 35000.0\n"
     ]
    }
   ],
   "source": [
    "# Create a program that calculates the income tax based on the user's income and tax brackets \n",
    "def calculate_income_tax(income):\n",
    "    brackets= [10000 , 40000 , 80000 , 120000]\n",
    "    rates = [0.1 , 0.2 , 0.3 , 0.4, 0.5]\n",
    "    tax = 0\n",
    "    prev_bracket = 0\n",
    "    for i in range(len(brackets)):\n",
    "        if income <= brackets[i]:\n",
    "            tax += (income - prev_bracket) * rates[i]\n",
    "            break\n",
    "        else:\n",
    "            tax += (brackets[i] - prev_bracket) * rates[i]\n",
    "            prev_bracket = brackets[i]\n",
    "\n",
    "    return tax\n",
    "\n",
    "user_income = float(input(\"Enter your income:\"))\n",
    "income_tax = calculate_income_tax(user_income)\n",
    "print(f\"Your income tax is: {income_tax}\")"
   ]
  },
  {
   "cell_type": "markdown",
   "id": "c32af0df-8134-43a0-8f9c-2007a39a442c",
   "metadata": {},
   "source": [
    "#### QUESTION 22"
   ]
  },
  {
   "cell_type": "code",
   "execution_count": 14,
   "id": "cf5ff949-a11b-4535-a83d-284e8c626789",
   "metadata": {},
   "outputs": [
    {
     "name": "stdin",
     "output_type": "stream",
     "text": [
      "Enter your choice(rock/paper/scisscors): paper\n"
     ]
    },
    {
     "name": "stdout",
     "output_type": "stream",
     "text": [
      "You chose : paper\n",
      "Computer choce : rock\n",
      "You win!\n"
     ]
    },
    {
     "name": "stdin",
     "output_type": "stream",
     "text": [
      "Do you want to play again ? (yes/no): no\n"
     ]
    }
   ],
   "source": [
    "# Write a program that simulates a rock-paper-scissors game against the computer\n",
    "import random\n",
    "def get_user_choice():\n",
    "    user_choice = input(\"Enter your choice(rock/paper/scisscors):\").lower()\n",
    "    while user_choice not in ['rock' , 'paper' , 'scissors']:\n",
    "        print(\"Invalid choice. Please enter rock , paper or scisscors.\")\n",
    "        user_choice = input(\"Enter your choice(rock/paper/scissors):\").lower()\n",
    "    return user_choice\n",
    "\n",
    "def get_computer_choice():\n",
    "    choices = ['rock' , 'paper' , 'scissors']\n",
    "    return random.choice(choices)\n",
    "def determine_winner(user_choice , computer_choice):\n",
    "    if user_choice == computer_choice:\n",
    "        return \"It's a tie!\"\n",
    "    elif (\n",
    "        (user_choice == 'rock' and computer_choice == 'scissors') or\n",
    "        (user_choice == 'paper' and computer_choice == 'rock') or\n",
    "        (user_choice == 'scissors' and computer_choice == 'paper')\n",
    "    ):\n",
    "        return \"You win!\"\n",
    "    else:\n",
    "        return \"Computer wins!\"\n",
    "\n",
    "while True:\n",
    "    user_choice = get_user_choice()\n",
    "    computer_choice = get_computer_choice()\n",
    "    print(f\"You chose : {user_choice}\")\n",
    "    print(f\"Computer choce : {computer_choice}\")\n",
    "    result = determine_winner(user_choice , computer_choice)\n",
    "    print(result)\n",
    "    play_again = input(\"Do you want to play again ? (yes/no):\").lower()\n",
    "    if play_again!= 'yes':\n",
    "        break"
   ]
  },
  {
   "cell_type": "markdown",
   "id": "83de20c8-8e3d-47cf-8bed-0d4266c539ba",
   "metadata": {},
   "source": [
    "#### QUESTION 23"
   ]
  },
  {
   "cell_type": "code",
   "execution_count": 17,
   "id": "59abdb26-b9b2-449b-91b5-c4b897f5abaf",
   "metadata": {},
   "outputs": [
    {
     "name": "stdin",
     "output_type": "stream",
     "text": [
      "Enter the password length: 9\n",
      "Include uppercase letters?(y/n): j\n",
      "Include numbers? (y/n): 85693\n",
      "Include symbols ? (y/n) : $%\n"
     ]
    },
    {
     "name": "stdout",
     "output_type": "stream",
     "text": [
      "Generated Password: fosjlxeln\n"
     ]
    }
   ],
   "source": [
    "# Develop a program that generates a random password based on user preferences(length , complexity)\n",
    "import random\n",
    "import string\n",
    "def generate_password(length , include_uppercase , include_numbers , include_symbols):\n",
    "    characters = string.ascii_lowercase\n",
    "    if include_uppercase:\n",
    "        characters += string.ascii_uppercase\n",
    "    if include_numbers:\n",
    "        characters += string.digits\n",
    "    if include_symbols:\n",
    "        characters += string.punctuation\n",
    "    password = ''.join(random.choice(characters) for _ in range(length) )\n",
    "    return password\n",
    "\n",
    "length = int(input(\"Enter the password length:\"))\n",
    "include_uppercase = input(\"Include uppercase letters?(y/n):\").lower() == 'y'\n",
    "include_numbers = input(\"Include numbers? (y/n):\").lower() == 'y'\n",
    "include_symbols = input(\"Include symbols ? (y/n) :\").lower() == 'y'\n",
    "password = generate_password(length , include_uppercase,include_numbers , include_symbols)\n",
    "print(\"Generated Password:\" , password)"
   ]
  },
  {
   "cell_type": "markdown",
   "id": "2997c96f-1ce5-4611-af52-f14da7f84432",
   "metadata": {},
   "source": [
    "#### QUESTION 24"
   ]
  },
  {
   "cell_type": "code",
   "execution_count": 20,
   "id": "4b7d409e-8b72-437e-9d07-d8c953d914e3",
   "metadata": {},
   "outputs": [
    {
     "name": "stdout",
     "output_type": "stream",
     "text": [
      "Welcome to the Adventure Game!\n",
      "You find yourself in a mysterious forest.\n",
      "Your goal is to reach the treasure at the end.\n",
      "Let the adventure begin!\n",
      "\n",
      "You are walking through the dense forest.\n",
      "Suddenly, you come across a fork in the path.\n",
      "1. Take the left path\n",
      "2. Take the right path\n"
     ]
    },
    {
     "name": "stdin",
     "output_type": "stream",
     "text": [
      "Enter your choice:  1\n"
     ]
    },
    {
     "name": "stdout",
     "output_type": "stream",
     "text": [
      "You chose to take the left path.\n",
      "You encounter a friendly creature who guides you.\n",
      "You successfully navigated through the forest.\n",
      "Now, you approach the entrance of a mysterious cave.\n",
      "You reach a dark cave entrance.\n",
      "You hear strange noises coming from inside.\n",
      "1. Enter the cave\n",
      "2. Find another way around\n"
     ]
    },
    {
     "name": "stdin",
     "output_type": "stream",
     "text": [
      "Enter your choice:  1\n"
     ]
    },
    {
     "name": "stdout",
     "output_type": "stream",
     "text": [
      "You cautiously enter the cave.\n",
      "You find a shortcut that leads to the treasure.\n",
      "Congratulations! You found the treasure.\n"
     ]
    }
   ],
   "source": [
    "# Create a program that implements a simple text-based adventure game with branching scenario\n",
    "import time\n",
    "\n",
    "def introduction():\n",
    "    print(\"Welcome to the Adventure Game!\")\n",
    "    time.sleep(1)\n",
    "    print(\"You find yourself in a mysterious forest.\")\n",
    "    time.sleep(1)\n",
    "    print(\"Your goal is to reach the treasure at the end.\")\n",
    "    time.sleep(1)\n",
    "    print(\"Let the adventure begin!\\n\")\n",
    "\n",
    "def make_choice(options):\n",
    "    for i, option in enumerate(options, start=1):\n",
    "        print(f\"{i}. {option}\")\n",
    "\n",
    "    while True:\n",
    "        try:\n",
    "            choice = int(input(\"Enter your choice: \"))\n",
    "            if 1 <= choice <= len(options):\n",
    "                return choice\n",
    "            else:\n",
    "                print(\"Invalid choice. Try again.\")\n",
    "        except ValueError:\n",
    "            print(\"Invalid input. Please enter a number.\")\n",
    "\n",
    "def forest_scenario():\n",
    "    print(\"You are walking through the dense forest.\")\n",
    "    time.sleep(1)\n",
    "    print(\"Suddenly, you come across a fork in the path.\")\n",
    "    time.sleep(1)\n",
    "\n",
    "    options = [\"Take the left path\", \"Take the right path\"]\n",
    "    choice = make_choice(options)\n",
    "\n",
    "    if choice == 1:\n",
    "        print(\"You chose to take the left path.\")\n",
    "        time.sleep(1)\n",
    "        print(\"You encounter a friendly creature who guides you.\")\n",
    "        return True\n",
    "    else:\n",
    "        print(\"You chose to take the right path.\")\n",
    "        time.sleep(1)\n",
    "        print(\"You get lost in the forest.\")\n",
    "        return False\n",
    "\n",
    "def cave_scenario():\n",
    "    print(\"You reach a dark cave entrance.\")\n",
    "    time.sleep(1)\n",
    "    print(\"You hear strange noises coming from inside.\")\n",
    "    time.sleep(1)\n",
    "\n",
    "    options = [\"Enter the cave\", \"Find another way around\"]\n",
    "    choice = make_choice(options)\n",
    "\n",
    "    if choice == 1:\n",
    "        print(\"You cautiously enter the cave.\")\n",
    "        time.sleep(1)\n",
    "        print(\"You find a shortcut that leads to the treasure.\")\n",
    "        return True\n",
    "    else:\n",
    "        print(\"You decide to find another way around the cave.\")\n",
    "        time.sleep(1)\n",
    "        print(\"You encounter a dead-end and have to go back.\")\n",
    "        return False\n",
    "\n",
    "def main():\n",
    "    introduction()\n",
    "\n",
    "    if forest_scenario():\n",
    "        print(\"You successfully navigated through the forest.\")\n",
    "        time.sleep(1)\n",
    "        print(\"Now, you approach the entrance of a mysterious cave.\")\n",
    "        time.sleep(1)\n",
    "\n",
    "        if cave_scenario():\n",
    "            print(\"Congratulations! You found the treasure.\")\n",
    "        else:\n",
    "            print(\"Unfortunately, you couldn't find a way to the treasure.\")\n",
    "\n",
    "    else:\n",
    "        print(\"You got lost in the forest. The adventure ends here.\")\n",
    "\n",
    "if __name__ == \"__main__\":\n",
    "    main()\n",
    " "
   ]
  },
  {
   "cell_type": "markdown",
   "id": "6ce6c772-56fa-42be-9e1b-e57d460ac43f",
   "metadata": {},
   "source": [
    "#### QUESTION 25"
   ]
  },
  {
   "cell_type": "code",
   "execution_count": 24,
   "id": "3cdfb2fe-0fdc-49fb-9427-d2b3283624c2",
   "metadata": {},
   "outputs": [
    {
     "name": "stdout",
     "output_type": "stream",
     "text": [
      "Linear Equation Solver: ax + b = 0\n"
     ]
    },
    {
     "name": "stdin",
     "output_type": "stream",
     "text": [
      "Enter the coefficient 'a':  9\n",
      "Enter the coefficient 'b':  -5\n"
     ]
    },
    {
     "name": "stdout",
     "output_type": "stream",
     "text": [
      "Result: One solution: x = 0.5555555555555556\n"
     ]
    }
   ],
   "source": [
    "# Build a program that solves a linear equation for x , considering different cases\n",
    "def solve_linear_equation(a, b):\n",
    "    if a == 0:\n",
    "        if b == 0:\n",
    "            return \"Infinite solutions (every x is a solution)\"\n",
    "        else:\n",
    "            return \"No solution (contradiction)\"\n",
    "    else:\n",
    "        x = -b / a\n",
    "        return f\"One solution: x = {x}\"\n",
    "\n",
    "def main():\n",
    "    print(\"Linear Equation Solver: ax + b = 0\")\n",
    "    try:\n",
    "        a = float(input(\"Enter the coefficient 'a': \"))\n",
    "        b = float(input(\"Enter the coefficient 'b': \"))\n",
    "        \n",
    "        result = solve_linear_equation(a, b)\n",
    "        print(\"Result:\", result)\n",
    "\n",
    "    except ValueError:\n",
    "        print(\"Invalid input. Please enter valid numerical coefficients.\")\n",
    "\n",
    "if __name__ == \"__main__\":\n",
    "    main()\n"
   ]
  },
  {
   "cell_type": "markdown",
   "id": "84abf8d4-9bb4-4739-8819-df1936e6ee03",
   "metadata": {},
   "source": [
    "#### QUESTION 26"
   ]
  },
  {
   "cell_type": "code",
   "execution_count": 25,
   "id": "40f2f6bb-d99b-4c0b-a409-30498a854b08",
   "metadata": {},
   "outputs": [
    {
     "name": "stdout",
     "output_type": "stream",
     "text": [
      "What is the capital of France?\n",
      "1. Berlin\n",
      "2. Paris\n",
      "3. Madrid\n"
     ]
    },
    {
     "name": "stdin",
     "output_type": "stream",
     "text": [
      "Enter your choice (1, 2, 3, ...):  2\n"
     ]
    },
    {
     "name": "stdout",
     "output_type": "stream",
     "text": [
      "Correct!\n",
      "\n",
      "Which planet is known as the Red Planet?\n",
      "1. Mars\n",
      "2. Venus\n",
      "3. Jupiter\n"
     ]
    },
    {
     "name": "stdin",
     "output_type": "stream",
     "text": [
      "Enter your choice (1, 2, 3, ...):  1\n"
     ]
    },
    {
     "name": "stdout",
     "output_type": "stream",
     "text": [
      "Correct!\n",
      "\n",
      "What is the largest mammal?\n",
      "1. Elephant\n",
      "2. Blue Whale\n",
      "3. Giraffe\n"
     ]
    },
    {
     "name": "stdin",
     "output_type": "stream",
     "text": [
      "Enter your choice (1, 2, 3, ...):  1\n"
     ]
    },
    {
     "name": "stdout",
     "output_type": "stream",
     "text": [
      "Wrong! The correct answer was: 2\n",
      "\n",
      "Quiz completed! Your score: 2/3\n"
     ]
    }
   ],
   "source": [
    "# Write a program that simulates a basic quiz game with multiple-choice questions and scoring\n",
    "def run_quiz(questions):\n",
    "    score = 0\n",
    "\n",
    "    for question in questions:\n",
    "        print(question['question'])\n",
    "        for i, choice in enumerate(question['choices'], start=1):\n",
    "            print(f\"{i}. {choice}\")\n",
    "\n",
    "        user_answer = get_user_choice(len(question['choices']))\n",
    "        \n",
    "        if user_answer == question['correct_answer']:\n",
    "            print(\"Correct!\\n\")\n",
    "            score += 1\n",
    "        else:\n",
    "            print(f\"Wrong! The correct answer was: {question['correct_answer']}\\n\")\n",
    "\n",
    "    print(f\"Quiz completed! Your score: {score}/{len(questions)}\")\n",
    "\n",
    "def get_user_choice(num_choices):\n",
    "    while True:\n",
    "        try:\n",
    "            user_input = int(input(\"Enter your choice (1, 2, 3, ...): \"))\n",
    "            if 1 <= user_input <= num_choices:\n",
    "                return user_input\n",
    "            else:\n",
    "                print(\"Invalid choice. Try again.\")\n",
    "        except ValueError:\n",
    "            print(\"Invalid input. Please enter a number.\")\n",
    "\n",
    "if __name__ == \"__main__\":\n",
    "    quiz_questions = [\n",
    "        {\n",
    "            'question': 'What is the capital of France?',\n",
    "            'choices': ['Berlin', 'Paris', 'Madrid'],\n",
    "            'correct_answer': 2\n",
    "        },\n",
    "        {\n",
    "            'question': 'Which planet is known as the Red Planet?',\n",
    "            'choices': ['Mars', 'Venus', 'Jupiter'],\n",
    "            'correct_answer': 1\n",
    "        },\n",
    "        {\n",
    "            'question': 'What is the largest mammal?',\n",
    "            'choices': ['Elephant', 'Blue Whale', 'Giraffe'],\n",
    "            'correct_answer': 2\n",
    "        }\n",
    "        # Add more questions as needed\n",
    "    ]\n",
    "\n",
    "    run_quiz(quiz_questions)\n"
   ]
  },
  {
   "cell_type": "markdown",
   "id": "9c23d57b-3dca-43e2-950c-7f34daaf9f07",
   "metadata": {},
   "source": [
    "#### QUESTION 27"
   ]
  },
  {
   "cell_type": "code",
   "execution_count": 27,
   "id": "c66cdfe5-b363-4542-b52a-c4c39a9c5a92",
   "metadata": {},
   "outputs": [
    {
     "name": "stdin",
     "output_type": "stream",
     "text": [
      "Enter a year to check if it's prime:  2027\n"
     ]
    },
    {
     "name": "stdout",
     "output_type": "stream",
     "text": [
      "2027 is a prime year.\n"
     ]
    }
   ],
   "source": [
    "# Develop a program that determines whether a given year is a prime number or not\n",
    "def is_prime(year):\n",
    "    if year < 2:\n",
    "        return False\n",
    "    for i in range(2, int(year**0.5) + 1):\n",
    "        if year % i == 0:\n",
    "            return False\n",
    "    return True\n",
    "\n",
    "def main():\n",
    "    try:\n",
    "        year = int(input(\"Enter a year to check if it's prime: \"))\n",
    "        if is_prime(year):\n",
    "            print(f\"{year} is a prime year.\")\n",
    "        else:\n",
    "            print(f\"{year} is not a prime year.\")\n",
    "    except ValueError:\n",
    "        print(\"Invalid input. Please enter a valid year.\")\n",
    "\n",
    "if __name__ == \"__main__\":\n",
    "    main()\n"
   ]
  },
  {
   "cell_type": "markdown",
   "id": "cca74cba-eebc-4d87-a0bf-421a86e09d84",
   "metadata": {},
   "source": [
    "#### QUESTION 28"
   ]
  },
  {
   "cell_type": "code",
   "execution_count": 28,
   "id": "aa65abc4-14f6-414d-9ca0-f2a415c06538",
   "metadata": {},
   "outputs": [
    {
     "name": "stdin",
     "output_type": "stream",
     "text": [
      "Enter the first number:  5\n",
      "Enter the second number:  6\n",
      "Enter the third number:  9\n"
     ]
    },
    {
     "name": "stdout",
     "output_type": "stream",
     "text": [
      "Sorted numbers in ascending order: (5.0, 6.0, 9.0)\n"
     ]
    }
   ],
   "source": [
    "# Create a program that sorts three numbers in ascending order using conditional statements\n",
    "def sort_numbers(num1, num2, num3):\n",
    "    if num1 <= num2 <= num3:\n",
    "        return num1, num2, num3\n",
    "    elif num1 <= num3 <= num2:\n",
    "        return num1, num3, num2\n",
    "    elif num2 <= num1 <= num3:\n",
    "        return num2, num1, num3\n",
    "    elif num2 <= num3 <= num1:\n",
    "        return num2, num3, num1\n",
    "    elif num3 <= num1 <= num2:\n",
    "        return num3, num1, num2\n",
    "    else:\n",
    "        return num3, num2, num1\n",
    "\n",
    "def main():\n",
    "    try:\n",
    "        num1 = float(input(\"Enter the first number: \"))\n",
    "        num2 = float(input(\"Enter the second number: \"))\n",
    "        num3 = float(input(\"Enter the third number: \"))\n",
    "\n",
    "        sorted_numbers = sort_numbers(num1, num2, num3)\n",
    "\n",
    "        print(\"Sorted numbers in ascending order:\", sorted_numbers)\n",
    "\n",
    "    except ValueError:\n",
    "        print(\"Invalid input. Please enter valid numerical values.\")\n",
    "\n",
    "if __name__ == \"__main__\":\n",
    "    main()\n"
   ]
  },
  {
   "cell_type": "markdown",
   "id": "9202e89a-35c8-42b2-ae85-8b97b2458d32",
   "metadata": {},
   "source": [
    "#### QUESTION 29"
   ]
  },
  {
   "cell_type": "code",
   "execution_count": 7,
   "id": "bc551f3c-c557-4299-80bb-ead59e4d52af",
   "metadata": {},
   "outputs": [
    {
     "name": "stdin",
     "output_type": "stream",
     "text": [
      "Enter the coefficient 'a':  5\n",
      "Enter the coefficient 'b':  6\n",
      "Enter the coefficient 'c':  2\n"
     ]
    },
    {
     "name": "stdout",
     "output_type": "stream",
     "text": [
      "\n",
      "Quadratic Equation:\n",
      "5.0x^2 + 6.0x + 2.0 = 0\n",
      "\n",
      "Root 1: (-0.6+0.2j)\n",
      "Root 2: (-0.6-0.2j)\n"
     ]
    }
   ],
   "source": [
    "# Build a program that determines the roots of a quadratic equation using numerical methods\n",
    "import cmath\n",
    "\n",
    "def quadratic_roots(a, b, c):\n",
    "    # Calculate the discriminant\n",
    "    delta = cmath.sqrt(b**2 - 4*a*c)\n",
    "\n",
    "    # Calculate the roots using the quadratic formula\n",
    "    root1 = (-b + delta) / (2*a)\n",
    "    root2 = (-b - delta) / (2*a)\n",
    "\n",
    "    return root1, root2\n",
    "\n",
    "def main():\n",
    "    try:\n",
    "        a = float(input(\"Enter the coefficient 'a': \"))\n",
    "        b = float(input(\"Enter the coefficient 'b': \"))\n",
    "        c = float(input(\"Enter the coefficient 'c': \"))\n",
    "\n",
    "        roots = quadratic_roots(a, b, c)\n",
    "\n",
    "        print(\"\\nQuadratic Equation:\")\n",
    "        print(f\"{a}x^2 + {b}x + {c} = 0\\n\")\n",
    "\n",
    "        print(\"Root 1:\", roots[0])\n",
    "        print(\"Root 2:\", roots[1])\n",
    "\n",
    "    except ValueError:\n",
    "        print(\"Invalid input. Please enter valid numerical coefficients.\")\n",
    "\n",
    "if __name__ == \"__main__\":\n",
    "    main()\n"
   ]
  },
  {
   "cell_type": "markdown",
   "id": "a07fbbd6-95d7-4bdf-b531-73f0dc5b96a3",
   "metadata": {},
   "source": [
    "#### QUESTION 30"
   ]
  },
  {
   "cell_type": "code",
   "execution_count": 29,
   "id": "de6d5425-aabd-48bd-acbb-4dba369004e1",
   "metadata": {},
   "outputs": [
    {
     "name": "stdin",
     "output_type": "stream",
     "text": [
      "Enter your weight in kilograms:  55\n",
      "Enter your height in meters:  1.53\n"
     ]
    },
    {
     "name": "stdout",
     "output_type": "stream",
     "text": [
      "Your BMI is: 23.50\n",
      "Health Recommendation: Normal weight - Keep up the good work!\n"
     ]
    }
   ],
   "source": [
    "# Write a program that calculates the BMI (Body Mass Index) and provied health recommendations based on the user's input \n",
    "def calculate_bmi(weight, height):\n",
    "    # BMI formula: weight (kg) / (height (m) ** 2)\n",
    "    bmi = weight / (height ** 2)\n",
    "    return bmi\n",
    "\n",
    "def health_recommendations(bmi):\n",
    "    if bmi < 18.5:\n",
    "        return \"Underweight - Consider increasing your calorie intake.\"\n",
    "    elif 18.5 <= bmi < 24.9:\n",
    "        return \"Normal weight - Keep up the good work!\"\n",
    "    elif 25 <= bmi < 29.9:\n",
    "        return \"Overweight - Consider reducing your calorie intake and increasing physical activity.\"\n",
    "    else:\n",
    "        return \"Obese - Consult with a healthcare professional for personalized advice.\"\n",
    "\n",
    "def main():\n",
    "    try:\n",
    "        weight = float(input(\"Enter your weight in kilograms: \"))\n",
    "        height = float(input(\"Enter your height in meters: \"))\n",
    "\n",
    "        if weight <= 0 or height <= 0:\n",
    "            print(\"Invalid input. Weight and height must be positive values.\")\n",
    "            return\n",
    "\n",
    "        bmi = calculate_bmi(weight, height)\n",
    "\n",
    "        print(f\"Your BMI is: {bmi:.2f}\")\n",
    "        print(\"Health Recommendation:\", health_recommendations(bmi))\n",
    "\n",
    "    except ValueError:\n",
    "        print(\"Invalid input. Please enter valid numerical values.\")\n",
    "\n",
    "if __name__ == \"__main__\":\n",
    "    main()\n"
   ]
  },
  {
   "cell_type": "markdown",
   "id": "0ea4201e-5f21-4cbd-9982-b5f520542097",
   "metadata": {},
   "source": [
    "# CHALLENGE LEVEL"
   ]
  },
  {
   "cell_type": "markdown",
   "id": "5b0fde2f-bd81-4f00-be04-ff43282435d2",
   "metadata": {},
   "source": [
    "#### QUESTION 31"
   ]
  },
  {
   "cell_type": "code",
   "execution_count": 31,
   "id": "068c5483-8360-49d2-90a6-59d4267fcc10",
   "metadata": {},
   "outputs": [
    {
     "name": "stdin",
     "output_type": "stream",
     "text": [
      "Enter your password:  Jasmine@175#\n"
     ]
    },
    {
     "name": "stdout",
     "output_type": "stream",
     "text": [
      "Password is valid.\n"
     ]
    }
   ],
   "source": [
    "# Create a program that validates a password based on comlexity rules\n",
    "import re\n",
    "\n",
    "def is_valid_password(password):\n",
    "    # Rule 1: At least 8 characters long\n",
    "    if len(password) < 8:\n",
    "        return False\n",
    "    \n",
    "    # Rule 2: Contains both uppercase and lowercase letters\n",
    "    if not any(char.isupper() for char in password) or not any(char.islower() for char in password):\n",
    "        return False\n",
    "\n",
    "    # Rule 3: Contains at least one digit\n",
    "    if not any(char.isdigit() for char in password):\n",
    "        return False\n",
    "\n",
    "    # Rule 4: Contains at least one special character\n",
    "    special_characters = r\"[!@#$%^&*(),.?\\\":{}|<>]\"\n",
    "    if not re.search(special_characters, password):\n",
    "        return False\n",
    "\n",
    "    # All rules passed, password is valid\n",
    "    return True\n",
    "\n",
    "def main():\n",
    "    password = input(\"Enter your password: \")\n",
    "\n",
    "    if is_valid_password(password):\n",
    "        print(\"Password is valid.\")\n",
    "    else:\n",
    "        print(\"Password is not valid. Please ensure it meets the complexity rules.\")\n",
    "\n",
    "if __name__ == \"__main__\":\n",
    "    main()\n"
   ]
  },
  {
   "cell_type": "markdown",
   "id": "012bd8b7-b1ce-48eb-9d7a-cae35dd0e97a",
   "metadata": {},
   "source": [
    "#### QUESTION 32"
   ]
  },
  {
   "cell_type": "code",
   "execution_count": 33,
   "id": "61767026-1470-4775-bf6d-75d329fff6be",
   "metadata": {},
   "outputs": [
    {
     "name": "stdout",
     "output_type": "stream",
     "text": [
      "Matrix Addition and Subtraction Program\n",
      "\n",
      "Enter Matrix A:\n"
     ]
    },
    {
     "name": "stdin",
     "output_type": "stream",
     "text": [
      "Enter the number of rows:  2\n",
      "Enter the number of columns:  2\n",
      "Enter element at position (1, 1):  1\n",
      "Enter element at position (1, 2):  2\n",
      "Enter element at position (2, 1):  5\n",
      "Enter element at position (2, 2):  3\n"
     ]
    },
    {
     "name": "stdout",
     "output_type": "stream",
     "text": [
      "A Matrix:\n",
      "[1.0, 2.0]\n",
      "[5.0, 3.0]\n",
      "\n",
      "\n",
      "Enter Matrix B:\n"
     ]
    },
    {
     "name": "stdin",
     "output_type": "stream",
     "text": [
      "Enter the number of rows:  2\n",
      "Enter the number of columns:  2\n",
      "Enter element at position (1, 1):  6\n",
      "Enter element at position (1, 2):  5\n",
      "Enter element at position (2, 1):  2\n",
      "Enter element at position (2, 2):  4\n"
     ]
    },
    {
     "name": "stdout",
     "output_type": "stream",
     "text": [
      "B Matrix:\n",
      "[6.0, 5.0]\n",
      "[2.0, 4.0]\n",
      "\n",
      "A + B Matrix:\n",
      "[7.0, 7.0]\n",
      "[7.0, 7.0]\n",
      "\n",
      "A - B Matrix:\n",
      "[-5.0, -3.0]\n",
      "[3.0, -1.0]\n",
      "\n"
     ]
    }
   ],
   "source": [
    "##### Develop a program that performs matrix addition and subtraction based on user input \n",
    "def matrix_addition(matrix1, matrix2):\n",
    "    result = [[matrix1[i][j] + matrix2[i][j] for j in range(len(matrix1[0]))] for i in range(len(matrix1))]\n",
    "    return result\n",
    "\n",
    "def matrix_subtraction(matrix1, matrix2):\n",
    "    result = [[matrix1[i][j] - matrix2[i][j] for j in range(len(matrix1[0]))] for i in range(len(matrix1))]\n",
    "    return result\n",
    "\n",
    "def input_matrix():\n",
    "    try:\n",
    "        rows = int(input(\"Enter the number of rows: \"))\n",
    "        cols = int(input(\"Enter the number of columns: \"))\n",
    "\n",
    "        matrix = []\n",
    "        for i in range(rows):\n",
    "            row = [float(input(f\"Enter element at position ({i + 1}, {j + 1}): \")) for j in range(cols)]\n",
    "            matrix.append(row)\n",
    "\n",
    "        return matrix\n",
    "\n",
    "    except ValueError:\n",
    "        print(\"Invalid input. Please enter valid numerical values.\")\n",
    "\n",
    "def display_matrix(matrix, label):\n",
    "    print(f\"{label} Matrix:\")\n",
    "    for row in matrix:\n",
    "        print(row)\n",
    "    print()\n",
    "\n",
    "def main():\n",
    "    print(\"Matrix Addition and Subtraction Program\")\n",
    "\n",
    "    print(\"\\nEnter Matrix A:\")\n",
    "    matrix_A = input_matrix()\n",
    "    display_matrix(matrix_A, \"A\")\n",
    "\n",
    "    print(\"\\nEnter Matrix B:\")\n",
    "    matrix_B = input_matrix()\n",
    "    display_matrix(matrix_B, \"B\")\n",
    "\n",
    "    # Check if matrices can be added/subtracted\n",
    "    if len(matrix_A) != len(matrix_B) or len(matrix_A[0]) != len(matrix_B[0]):\n",
    "        print(\"Matrices cannot be added or subtracted. Ensure they have the same dimensions.\")\n",
    "        return\n",
    "\n",
    "    # Perform matrix addition\n",
    "    result_addition = matrix_addition(matrix_A, matrix_B)\n",
    "    display_matrix(result_addition, \"A + B\")\n",
    "\n",
    "    # Perform matrix subtraction\n",
    "    result_subtraction = matrix_subtraction(matrix_A, matrix_B)\n",
    "    display_matrix(result_subtraction, \"A - B\")\n",
    "\n",
    "if __name__ == \"__main__\":\n",
    "    main()\n"
   ]
  },
  {
   "cell_type": "markdown",
   "id": "3a2f4227-c5b7-4a32-8ca6-bb8624b14d33",
   "metadata": {},
   "source": [
    "#### QUESTION 33"
   ]
  },
  {
   "cell_type": "code",
   "execution_count": 34,
   "id": "dd53eea6-5dd9-4193-8522-3c2089c39c8a",
   "metadata": {},
   "outputs": [
    {
     "name": "stdin",
     "output_type": "stream",
     "text": [
      "Enter the first number:  56\n",
      "Enter the second number:  25\n"
     ]
    },
    {
     "name": "stdout",
     "output_type": "stream",
     "text": [
      "The GCD of 56 and 25 is: 1\n"
     ]
    }
   ],
   "source": [
    "# Write a program that calculates the greatest common divisor(GCD) of two numbers using the Euclidean algorithm\n",
    "def euclidean_gcd(a, b):\n",
    "    while b:\n",
    "        a, b = b, a % b\n",
    "    return abs(a)\n",
    "\n",
    "def main():\n",
    "    try:\n",
    "        num1 = int(input(\"Enter the first number: \"))\n",
    "        num2 = int(input(\"Enter the second number: \"))\n",
    "\n",
    "        gcd = euclidean_gcd(num1, num2)\n",
    "        print(f\"The GCD of {num1} and {num2} is: {gcd}\")\n",
    "\n",
    "    except ValueError:\n",
    "        print(\"Invalid input. Please enter valid numerical values.\")\n",
    "\n",
    "if __name__ == \"__main__\":\n",
    "    main()\n"
   ]
  },
  {
   "cell_type": "markdown",
   "id": "7cbc93b6-c3c1-4b81-9726-a39c47b4137f",
   "metadata": {},
   "source": [
    "#### QUESTION 34"
   ]
  },
  {
   "cell_type": "code",
   "execution_count": 36,
   "id": "239999a1-7992-4b23-883d-4fc9d65bb118",
   "metadata": {},
   "outputs": [
    {
     "name": "stdout",
     "output_type": "stream",
     "text": [
      "Matrix Multiplication Program\n"
     ]
    },
    {
     "name": "stdin",
     "output_type": "stream",
     "text": [
      "Enter the number of rows for Matrix A:  2\n",
      "Enter the number of columns for Matrix A:  2\n",
      "Enter the number of rows for Matrix B:  2\n",
      "Enter the number of columns for Matrix B:  2\n",
      "Enter element for A matrix at position (1, 1):  5\n",
      "Enter element for A matrix at position (1, 2):  6\n",
      "Enter element for A matrix at position (2, 1):  4\n",
      "Enter element for A matrix at position (2, 2):  2\n"
     ]
    },
    {
     "name": "stdout",
     "output_type": "stream",
     "text": [
      "A Matrix:\n",
      "[5.0, 6.0]\n",
      "[4.0, 2.0]\n",
      "\n"
     ]
    },
    {
     "name": "stdin",
     "output_type": "stream",
     "text": [
      "Enter element for B matrix at position (1, 1):  5\n",
      "Enter element for B matrix at position (1, 2):  1\n",
      "Enter element for B matrix at position (2, 1):  3\n",
      "Enter element for B matrix at position (2, 2):  6\n"
     ]
    },
    {
     "name": "stdout",
     "output_type": "stream",
     "text": [
      "B Matrix:\n",
      "[5.0, 1.0]\n",
      "[3.0, 6.0]\n",
      "\n",
      "A * B Matrix:\n",
      "[43.0, 41.0]\n",
      "[26.0, 16.0]\n",
      "\n"
     ]
    }
   ],
   "source": [
    "# Build a program that performs matrix multiplication using nested loops and conditional statements\n",
    "def matrix_multiplication(matrix1, matrix2):\n",
    "    result = []\n",
    "\n",
    "    if len(matrix1[0]) != len(matrix2):\n",
    "        print(\"Matrices cannot be multiplied. Number of columns in Matrix A must be equal to the number of rows in Matrix B.\")\n",
    "        return None\n",
    "\n",
    "    for i in range(len(matrix1)):\n",
    "        row_result = []\n",
    "        for j in range(len(matrix2[0])):\n",
    "            element_sum = 0\n",
    "            for k in range(len(matrix2)):\n",
    "                element_sum += matrix1[i][k] * matrix2[k][j]\n",
    "            row_result.append(element_sum)\n",
    "        result.append(row_result)\n",
    "\n",
    "    return result\n",
    "\n",
    "def input_matrix(rows, cols, label):\n",
    "    try:\n",
    "        matrix = []\n",
    "        for i in range(rows):\n",
    "            row = [float(input(f\"Enter element for {label} matrix at position ({i + 1}, {j + 1}): \")) for j in range(cols)]\n",
    "            matrix.append(row)\n",
    "\n",
    "        return matrix\n",
    "\n",
    "    except ValueError:\n",
    "        print(\"Invalid input. Please enter valid numerical values.\")\n",
    "\n",
    "def display_matrix(matrix, label):\n",
    "    print(f\"{label} Matrix:\")\n",
    "    for row in matrix:\n",
    "        print(row)\n",
    "    print()\n",
    "\n",
    "def main():\n",
    "    print(\"Matrix Multiplication Program\")\n",
    "\n",
    "    try:\n",
    "        rows_A = int(input(\"Enter the number of rows for Matrix A: \"))\n",
    "        cols_A = int(input(\"Enter the number of columns for Matrix A: \"))\n",
    "\n",
    "        rows_B = int(input(\"Enter the number of rows for Matrix B: \"))\n",
    "        cols_B = int(input(\"Enter the number of columns for Matrix B: \"))\n",
    "\n",
    "        matrix_A = input_matrix(rows_A, cols_A, \"A\")\n",
    "        display_matrix(matrix_A, \"A\")\n",
    "\n",
    "        matrix_B = input_matrix(rows_B, cols_B, \"B\")\n",
    "        display_matrix(matrix_B, \"B\")\n",
    "\n",
    "        result = matrix_multiplication(matrix_A, matrix_B)\n",
    "\n",
    "        if result:\n",
    "            display_matrix(result, \"A * B\")\n",
    "\n",
    "    except ValueError:\n",
    "        print(\"Invalid input. Please enter valid numerical values.\")\n",
    "\n",
    "if __name__ == \"__main__\":\n",
    "    main()\n"
   ]
  },
  {
   "cell_type": "markdown",
   "id": "94293a6d-6c28-46ee-9925-60fa8e0d0efc",
   "metadata": {},
   "source": [
    "#### QUESTION 35"
   ]
  },
  {
   "cell_type": "code",
   "execution_count": 37,
   "id": "09842014-90f5-428e-b831-772868730346",
   "metadata": {},
   "outputs": [
    {
     "name": "stdout",
     "output_type": "stream",
     "text": [
      "Welcome to Tic-Tac-Toe!\n",
      "\n",
      "  |   |  \n",
      "-------------\n",
      "  |   |  \n",
      "-------------\n",
      "  |   |  \n",
      "-------------\n",
      "Your turn (X)\n"
     ]
    },
    {
     "name": "stdin",
     "output_type": "stream",
     "text": [
      "Enter the row (1, 2, or 3):  2\n",
      "Enter the column (1, 2, or 3):  3\n"
     ]
    },
    {
     "name": "stdout",
     "output_type": "stream",
     "text": [
      "  |   |  \n",
      "-------------\n",
      "  |   | X\n",
      "-------------\n",
      "  |   |  \n",
      "-------------\n",
      "Computer's turn (O)\n",
      "  | O |  \n",
      "-------------\n",
      "  |   | X\n",
      "-------------\n",
      "  |   |  \n",
      "-------------\n",
      "Your turn (X)\n"
     ]
    },
    {
     "name": "stdin",
     "output_type": "stream",
     "text": [
      "Enter the row (1, 2, or 3):  6\n",
      "Enter the column (1, 2, or 3):  2\n"
     ]
    },
    {
     "name": "stdout",
     "output_type": "stream",
     "text": [
      "Invalid move. Try again.\n"
     ]
    },
    {
     "name": "stdin",
     "output_type": "stream",
     "text": [
      "Enter the row (1, 2, or 3):  1\n",
      "Enter the column (1, 2, or 3):  3\n"
     ]
    },
    {
     "name": "stdout",
     "output_type": "stream",
     "text": [
      "  | O | X\n",
      "-------------\n",
      "  |   | X\n",
      "-------------\n",
      "  |   |  \n",
      "-------------\n",
      "Computer's turn (O)\n",
      "  | O | X\n",
      "-------------\n",
      "  |   | X\n",
      "-------------\n",
      "  |   | O\n",
      "-------------\n",
      "Your turn (X)\n"
     ]
    },
    {
     "name": "stdin",
     "output_type": "stream",
     "text": [
      "Enter the row (1, 2, or 3):  1\n",
      "Enter the column (1, 2, or 3):  2\n"
     ]
    },
    {
     "name": "stdout",
     "output_type": "stream",
     "text": [
      "Invalid move. Try again.\n"
     ]
    },
    {
     "name": "stdin",
     "output_type": "stream",
     "text": [
      "Enter the row (1, 2, or 3):  1\n",
      "Enter the column (1, 2, or 3):  3\n"
     ]
    },
    {
     "name": "stdout",
     "output_type": "stream",
     "text": [
      "Invalid move. Try again.\n"
     ]
    },
    {
     "name": "stdin",
     "output_type": "stream",
     "text": [
      "Enter the row (1, 2, or 3):  1\n",
      "Enter the column (1, 2, or 3):  1\n"
     ]
    },
    {
     "name": "stdout",
     "output_type": "stream",
     "text": [
      "X | O | X\n",
      "-------------\n",
      "  |   | X\n",
      "-------------\n",
      "  |   | O\n",
      "-------------\n",
      "Computer's turn (O)\n",
      "X | O | X\n",
      "-------------\n",
      "  | O | X\n",
      "-------------\n",
      "  |   | O\n",
      "-------------\n",
      "Your turn (X)\n"
     ]
    },
    {
     "name": "stdin",
     "output_type": "stream",
     "text": [
      "Enter the row (1, 2, or 3):  3\n",
      "Enter the column (1, 2, or 3):  2\n"
     ]
    },
    {
     "name": "stdout",
     "output_type": "stream",
     "text": [
      "X | O | X\n",
      "-------------\n",
      "  | O | X\n",
      "-------------\n",
      "  | X | O\n",
      "-------------\n",
      "Computer's turn (O)\n",
      "X | O | X\n",
      "-------------\n",
      "O | O | X\n",
      "-------------\n",
      "  | X | O\n",
      "-------------\n",
      "Your turn (X)\n"
     ]
    },
    {
     "name": "stdin",
     "output_type": "stream",
     "text": [
      "Enter the row (1, 2, or 3):  3\n",
      "Enter the column (1, 2, or 3):  1\n"
     ]
    },
    {
     "name": "stdout",
     "output_type": "stream",
     "text": [
      "X | O | X\n",
      "-------------\n",
      "O | O | X\n",
      "-------------\n",
      "X | X | O\n",
      "-------------\n",
      "It's a tie! The game is a draw.\n"
     ]
    }
   ],
   "source": [
    "# Build a program that simulates a basic text-based tic-tac-toe game against the computer\n",
    "import random\n",
    "\n",
    "def print_board(board):\n",
    "    for row in board:\n",
    "        print(\" | \".join(row))\n",
    "        print(\"-\" * 13)\n",
    "\n",
    "def is_winner(board, player):\n",
    "    # Check rows, columns, and diagonals for a win\n",
    "    for i in range(3):\n",
    "        if all(board[i][j] == player for j in range(3)) or all(board[j][i] == player for j in range(3)):\n",
    "            return True\n",
    "    if all(board[i][i] == player for i in range(3)) or all(board[i][2 - i] == player for i in range(3)):\n",
    "        return True\n",
    "    return False\n",
    "\n",
    "def is_board_full(board):\n",
    "    return all(board[i][j] != ' ' for i in range(3) for j in range(3))\n",
    "\n",
    "def get_available_moves(board):\n",
    "    return [(i, j) for i in range(3) for j in range(3) if board[i][j] == ' ']\n",
    "\n",
    "def player_move(board):\n",
    "    while True:\n",
    "        try:\n",
    "            row = int(input(\"Enter the row (1, 2, or 3): \")) - 1\n",
    "            col = int(input(\"Enter the column (1, 2, or 3): \")) - 1\n",
    "\n",
    "            if (row, col) in get_available_moves(board):\n",
    "                return row, col\n",
    "            else:\n",
    "                print(\"Invalid move. Try again.\")\n",
    "        except ValueError:\n",
    "            print(\"Invalid input. Please enter a number.\")\n",
    "\n",
    "def computer_move(board):\n",
    "    available_moves = get_available_moves(board)\n",
    "    return random.choice(available_moves)\n",
    "\n",
    "def main():\n",
    "    board = [[' ' for _ in range(3)] for _ in range(3)]\n",
    "    player_symbol = 'X'\n",
    "    computer_symbol = 'O'\n",
    "\n",
    "    print(\"Welcome to Tic-Tac-Toe!\\n\")\n",
    "    print_board(board)\n",
    "\n",
    "    for turn in range(9):\n",
    "        if turn % 2 == 0:\n",
    "            print(\"Your turn (X)\")\n",
    "            row, col = player_move(board)\n",
    "            board[row][col] = player_symbol\n",
    "        else:\n",
    "            print(\"Computer's turn (O)\")\n",
    "            row, col = computer_move(board)\n",
    "            board[row][col] = computer_symbol\n",
    "\n",
    "        print_board(board)\n",
    "\n",
    "        if is_winner(board, player_symbol):\n",
    "            print(\"Congratulations! You win!\")\n",
    "            break\n",
    "        elif is_winner(board, computer_symbol):\n",
    "            print(\"Computer wins! Better luck next time.\")\n",
    "            break\n",
    "        elif is_board_full(board):\n",
    "            print(\"It's a tie! The game is a draw.\")\n",
    "            break\n",
    "\n",
    "if __name__ == \"__main__\":\n",
    "    main()\n"
   ]
  },
  {
   "cell_type": "markdown",
   "id": "d6fc173d-a8be-4511-a513-9a50dade6d14",
   "metadata": {},
   "source": [
    "#### QUESTION 36"
   ]
  },
  {
   "cell_type": "code",
   "execution_count": 39,
   "id": "7c5b17bf-0ecf-4bf6-9cf8-3b61b97c11fe",
   "metadata": {},
   "outputs": [
    {
     "name": "stdin",
     "output_type": "stream",
     "text": [
      "Enter the number of Fibonacci terms to generate:  10\n"
     ]
    },
    {
     "name": "stdout",
     "output_type": "stream",
     "text": [
      "Fibonacci sequence up to term 10: [0, 1, 1, 2, 3, 5, 8, 13, 21, 34]\n"
     ]
    }
   ],
   "source": [
    "# Write a program that generates Fibonacci numbers upto a specified term using iterative methods \n",
    "def generate_fibonacci(n):\n",
    "    fibonacci_sequence = [0, 1]\n",
    "\n",
    "    while len(fibonacci_sequence) < n:\n",
    "        next_term = fibonacci_sequence[-1] + fibonacci_sequence[-2]\n",
    "        fibonacci_sequence.append(next_term)\n",
    "\n",
    "    return fibonacci_sequence[:n]\n",
    "\n",
    "def main():\n",
    "    try:\n",
    "        term = int(input(\"Enter the number of Fibonacci terms to generate: \"))\n",
    "        \n",
    "        if term <= 0:\n",
    "            print(\"Please enter a positive integer.\")\n",
    "            return\n",
    "\n",
    "        fibonacci_numbers = generate_fibonacci(term)\n",
    "        print(f\"Fibonacci sequence up to term {term}: {fibonacci_numbers}\")\n",
    "\n",
    "    except ValueError:\n",
    "        print(\"Invalid input. Please enter a valid integer.\")\n",
    "\n",
    "if __name__ == \"__main__\":\n",
    "    main()\n"
   ]
  },
  {
   "cell_type": "markdown",
   "id": "58d0d20a-559b-4f97-bdbe-1996021b81d3",
   "metadata": {},
   "source": [
    "#### QUESTION 37"
   ]
  },
  {
   "cell_type": "code",
   "execution_count": 40,
   "id": "2a95faf9-2a93-4028-be24-16ccadbd98a4",
   "metadata": {},
   "outputs": [
    {
     "name": "stdin",
     "output_type": "stream",
     "text": [
      "Enter the value of n to calculate the nth Fibonacci term:  14\n"
     ]
    },
    {
     "name": "stdout",
     "output_type": "stream",
     "text": [
      "The 14th Fibonacci term is: 377\n"
     ]
    }
   ],
   "source": [
    "# Develop a program that calculates the nth term of the Fibonacci sequence using memorization\n",
    "def fibonacci_with_memoization(n, memo={}):\n",
    "    if n <= 1:\n",
    "        return n\n",
    "\n",
    "    if n not in memo:\n",
    "        memo[n] = fibonacci_with_memoization(n - 1, memo) + fibonacci_with_memoization(n - 2, memo)\n",
    "\n",
    "    return memo[n]\n",
    "\n",
    "def main():\n",
    "    try:\n",
    "        term = int(input(\"Enter the value of n to calculate the nth Fibonacci term: \"))\n",
    "        \n",
    "        if term < 0:\n",
    "            print(\"Please enter a non-negative integer.\")\n",
    "            return\n",
    "\n",
    "        result = fibonacci_with_memoization(term)\n",
    "        print(f\"The {term}th Fibonacci term is: {result}\")\n",
    "\n",
    "    except ValueError:\n",
    "        print(\"Invalid input. Please enter a valid integer.\")\n",
    "\n",
    "if __name__ == \"__main__\":\n",
    "    main()\n"
   ]
  },
  {
   "cell_type": "markdown",
   "id": "d7883d49-e03c-4982-b908-1970eb6f8753",
   "metadata": {},
   "source": [
    "#### QUESTION 38"
   ]
  },
  {
   "cell_type": "code",
   "execution_count": 4,
   "id": "02992fb1-92d5-4e2a-abcf-bb839f0ce9f8",
   "metadata": {},
   "outputs": [
    {
     "name": "stdin",
     "output_type": "stream",
     "text": [
      "Enter the year:  2024\n",
      "Enter the month (1-12):  8\n"
     ]
    },
    {
     "name": "stdout",
     "output_type": "stream",
     "text": [
      "Calendar for August 2024\n",
      "\n",
      "Mo Tu We Th Fr Sa Su\n",
      "             1   2   3   4  \n",
      " 5   6   7   8   9  10  11  \n",
      "12  13  14  15  16  17  18  \n",
      "19  20  21  22  23  24  25  \n",
      "26  27  28  29  30  31      \n"
     ]
    }
   ],
   "source": [
    "# Create a program that generates a calender for a given month and year using conditional satements\n",
    "import calendar\n",
    "\n",
    "def generate_calendar(year, month):\n",
    "    cal = calendar.monthcalendar(year, month)\n",
    "\n",
    "    print(f\"Calendar for {calendar.month_name[month]} {year}\\n\")\n",
    "    print(\"Mo Tu We Th Fr Sa Su\")\n",
    "\n",
    "    for week in cal:\n",
    "        for day in week:\n",
    "            if day == 0:\n",
    "                print(\"   \", end=\" \")\n",
    "            else:\n",
    "                print(f\"{day:2d} \", end=\" \")\n",
    "        print()\n",
    "\n",
    "def main():\n",
    "    try:\n",
    "        year = int(input(\"Enter the year: \"))\n",
    "        month = int(input(\"Enter the month (1-12): \"))\n",
    "\n",
    "        if not (1 <= month <= 12):\n",
    "            print(\"Invalid month. Please enter a month between 1 and 12.\")\n",
    "            return\n",
    "\n",
    "        generate_calendar(year, month)\n",
    "\n",
    "    except ValueError:\n",
    "        print(\"Invalid input. Please enter valid numerical values.\")\n",
    "\n",
    "if __name__ == \"__main__\":\n",
    "    main()\n"
   ]
  },
  {
   "cell_type": "markdown",
   "id": "4142ff89-e7d9-41ba-8741-8081a6f3f7bd",
   "metadata": {},
   "source": [
    "#### QUESTION 39"
   ]
  },
  {
   "cell_type": "code",
   "execution_count": 5,
   "id": "6ae574ef-05bb-4e70-8ed4-dab3fa9c56e5",
   "metadata": {},
   "outputs": [
    {
     "name": "stdout",
     "output_type": "stream",
     "text": [
      "Welcome to Blackjack!\n",
      "\n",
      "Your cards: [5, 4], current score: 9\n",
      "Computer's first card: 9\n"
     ]
    },
    {
     "name": "stdin",
     "output_type": "stream",
     "text": [
      "Type 'y' to get another card, 'n' to pass:  y\n"
     ]
    },
    {
     "name": "stdout",
     "output_type": "stream",
     "text": [
      "Your cards: [5, 4, 3], current score: 12\n",
      "Computer's first card: 9\n"
     ]
    },
    {
     "name": "stdin",
     "output_type": "stream",
     "text": [
      "Type 'y' to get another card, 'n' to pass:  n\n"
     ]
    },
    {
     "name": "stdout",
     "output_type": "stream",
     "text": [
      "Your final hand: [5, 4, 3], final score: 12\n",
      "Computer's final hand: [9, 6, 2], final score: 17\n",
      "You lose!\n"
     ]
    }
   ],
   "source": [
    "# Build a program that simulates a basic text-based blackjack game against the computer\n",
    "import random\n",
    "\n",
    "def deal_card():\n",
    "    cards = [2, 3, 4, 5, 6, 7, 8, 9, 10, 10, 10, 10, 11]\n",
    "    return random.choice(cards)\n",
    "\n",
    "def calculate_score(cards):\n",
    "    score = sum(cards)\n",
    "    if 11 in cards and score > 21:\n",
    "        cards.remove(11)\n",
    "        cards.append(1)\n",
    "    return score\n",
    "\n",
    "def compare(user_score, computer_score):\n",
    "    if user_score == computer_score:\n",
    "        return \"It's a draw!\"\n",
    "    elif computer_score == 21:\n",
    "        return \"Computer got a Blackjack. You lose!\"\n",
    "    elif user_score == 21:\n",
    "        return \"You got a Blackjack! You win!\"\n",
    "    elif user_score > 21:\n",
    "        return \"You went over. You lose!\"\n",
    "    elif computer_score > 21:\n",
    "        return \"Computer went over. You win!\"\n",
    "    elif user_score > computer_score:\n",
    "        return \"You win!\"\n",
    "    else:\n",
    "        return \"You lose!\"\n",
    "\n",
    "def play_blackjack():\n",
    "    user_cards = [deal_card(), deal_card()]\n",
    "    computer_cards = [deal_card(), deal_card()]\n",
    "\n",
    "    game_over = False\n",
    "\n",
    "    while not game_over:\n",
    "        user_score = calculate_score(user_cards)\n",
    "        computer_score = calculate_score(computer_cards)\n",
    "\n",
    "        print(f\"Your cards: {user_cards}, current score: {user_score}\")\n",
    "        print(f\"Computer's first card: {computer_cards[0]}\")\n",
    "\n",
    "        if user_score == 0 or computer_score == 0 or user_score > 21:\n",
    "            game_over = True\n",
    "        else:\n",
    "            should_continue = input(\"Type 'y' to get another card, 'n' to pass: \")\n",
    "            if should_continue == 'y':\n",
    "                user_cards.append(deal_card())\n",
    "            else:\n",
    "                game_over = True\n",
    "\n",
    "    while computer_score != 0 and computer_score < 17:\n",
    "        computer_cards.append(deal_card())\n",
    "        computer_score = calculate_score(computer_cards)\n",
    "\n",
    "    print(f\"Your final hand: {user_cards}, final score: {user_score}\")\n",
    "    print(f\"Computer's final hand: {computer_cards}, final score: {computer_score}\")\n",
    "\n",
    "    print(compare(user_score, computer_score))\n",
    "\n",
    "def main():\n",
    "    print(\"Welcome to Blackjack!\\n\")\n",
    "    play_blackjack()\n",
    "\n",
    "if __name__ == \"__main__\":\n",
    "    main()\n"
   ]
  },
  {
   "cell_type": "markdown",
   "id": "8beac568-474a-4ae6-93ad-eeae14162840",
   "metadata": {},
   "source": [
    "#### QUESTION 40"
   ]
  },
  {
   "cell_type": "code",
   "execution_count": 6,
   "id": "223a388f-395b-40cb-a1ca-5aaeab58af3b",
   "metadata": {},
   "outputs": [
    {
     "name": "stdin",
     "output_type": "stream",
     "text": [
      "Enter a positive integer to find its prime factors:  56\n"
     ]
    },
    {
     "name": "stdout",
     "output_type": "stream",
     "text": [
      "Prime factors of 56: [2, 2, 2, 7]\n"
     ]
    }
   ],
   "source": [
    "# Write a program that generates the prime factors of a given number using trial division \n",
    "def prime_factors(n):\n",
    "    factors = []\n",
    "    divisor = 2\n",
    "\n",
    "    while n > 1:\n",
    "        while n % divisor == 0:\n",
    "            factors.append(divisor)\n",
    "            n //= divisor\n",
    "        divisor += 1\n",
    "\n",
    "    return factors\n",
    "\n",
    "def main():\n",
    "    try:\n",
    "        number = int(input(\"Enter a positive integer to find its prime factors: \"))\n",
    "\n",
    "        if number <= 0:\n",
    "            print(\"Please enter a positive integer.\")\n",
    "            return\n",
    "\n",
    "        factors = prime_factors(number)\n",
    "\n",
    "        if len(factors) == 0:\n",
    "            print(f\"{number} has no prime factors.\")\n",
    "        else:\n",
    "            print(f\"Prime factors of {number}: {factors}\")\n",
    "\n",
    "    except ValueError:\n",
    "        print(\"Invalid input. Please enter a valid integer.\")\n",
    "\n",
    "if __name__ == \"__main__\":\n",
    "    main()\n"
   ]
  }
 ],
 "metadata": {
  "kernelspec": {
   "display_name": "Python 3 (ipykernel)",
   "language": "python",
   "name": "python3"
  },
  "language_info": {
   "codemirror_mode": {
    "name": "ipython",
    "version": 3
   },
   "file_extension": ".py",
   "mimetype": "text/x-python",
   "name": "python",
   "nbconvert_exporter": "python",
   "pygments_lexer": "ipython3",
   "version": "3.11.4"
  }
 },
 "nbformat": 4,
 "nbformat_minor": 5
}
